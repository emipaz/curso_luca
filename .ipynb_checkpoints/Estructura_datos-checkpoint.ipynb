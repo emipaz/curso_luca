{
 "cells": [
  {
   "cell_type": "markdown",
   "metadata": {},
   "source": [
    "# Estructuras de Datos en Python"
   ]
  },
  {
   "cell_type": "markdown",
   "metadata": {},
   "source": [
    "En este notebook vamos a ver los distintos tipos de estructuras de datos que podemos encontrar en `Python`y que podemos aprovechar para nuestros proyectos. Librerías como `Numpy` o `Pandas`, de las cuales hablaremos más adelante, están diseñadas para aportar funcionalidad extra estas estructuras de datos. Las diferentes estructuras de las que hablaremos son: `tuplas`. `listas`, `dicts` y `sets`."
   ]
  },
  {
   "cell_type": "markdown",
   "metadata": {},
   "source": [
    "## Tuplas"
   ]
  },
  {
   "cell_type": "markdown",
   "metadata": {},
   "source": [
    "Una `tupla` es un objeto `inmutable` con una longitud fija. Un objeto es `inmutable` cuando no puede ser modificado, por lo que utilizar una `tupla` es una decisión para encapsular datos que no queremos que cambien. Para definir una `tupla` simplemente tenemos que definir una secuencia de valores separados por comas dentro de paréntesis.  "
   ]
  },
  {
   "cell_type": "code",
   "execution_count": null,
   "metadata": {
    "ExecuteTime": {
     "end_time": "2020-05-28T12:43:28.640346Z",
     "start_time": "2020-05-28T12:43:28.630346Z"
    }
   },
   "outputs": [],
   "source": [
    "t = (1, 2, 3)\n",
    "t"
   ]
  },
  {
   "cell_type": "markdown",
   "metadata": {
    "ExecuteTime": {
     "end_time": "2020-05-28T12:44:09.741949Z",
     "start_time": "2020-05-28T12:44:09.722525Z"
    }
   },
   "source": [
    "Podemos acceder a los diferentes valores de nuestra `tupla` mediante su posición en la secuencia, su índice."
   ]
  },
  {
   "cell_type": "code",
   "execution_count": null,
   "metadata": {
    "ExecuteTime": {
     "end_time": "2020-05-28T12:44:19.584136Z",
     "start_time": "2020-05-28T12:44:19.564623Z"
    }
   },
   "outputs": [],
   "source": [
    "t[0]"
   ]
  },
  {
   "cell_type": "code",
   "execution_count": null,
   "metadata": {
    "ExecuteTime": {
     "end_time": "2020-05-28T12:44:22.245552Z",
     "start_time": "2020-05-28T12:44:22.235553Z"
    }
   },
   "outputs": [],
   "source": [
    "t[1]"
   ]
  },
  {
   "cell_type": "markdown",
   "metadata": {},
   "source": [
    "> ⚠️ Para indexar un objeto en `Python` el prímer índice siempre es `0` y el último índice equivale a la longitud del objeto menos 1. Indexar un valor fuera de este rango nos dará un error."
   ]
  },
  {
   "cell_type": "code",
   "execution_count": null,
   "metadata": {
    "ExecuteTime": {
     "end_time": "2020-05-28T12:46:04.811118Z",
     "start_time": "2020-05-28T12:46:04.799120Z"
    }
   },
   "outputs": [],
   "source": [
    "t[len(t)-1]"
   ]
  },
  {
   "cell_type": "code",
   "execution_count": null,
   "metadata": {
    "ExecuteTime": {
     "end_time": "2020-05-28T12:46:24.936024Z",
     "start_time": "2020-05-28T12:46:24.920026Z"
    }
   },
   "outputs": [],
   "source": [
    "t[len(t)]"
   ]
  },
  {
   "cell_type": "markdown",
   "metadata": {},
   "source": [
    "Al ser una `tupla` un objeto `inmutable`, una vez creada no podremos cambiar ninguno de sus valores."
   ]
  },
  {
   "cell_type": "code",
   "execution_count": null,
   "metadata": {
    "ExecuteTime": {
     "end_time": "2020-05-28T12:47:25.642853Z",
     "start_time": "2020-05-28T12:47:25.631856Z"
    }
   },
   "outputs": [],
   "source": [
    "t[0] = 4"
   ]
  },
  {
   "cell_type": "markdown",
   "metadata": {},
   "source": [
    "Podemos aplicar ciertos operadores sobre una `tupla`, por ejemplo el operador suma permite concatenar varias tuplas mientras que el operador multiplicación nos permite repetir una tupla un número determinado de veces."
   ]
  },
  {
   "cell_type": "code",
   "execution_count": null,
   "metadata": {
    "ExecuteTime": {
     "end_time": "2020-05-28T12:48:44.203751Z",
     "start_time": "2020-05-28T12:48:44.197752Z"
    }
   },
   "outputs": [],
   "source": [
    "t1 = (1, 2, 3)\n",
    "t2 = (4, 5, 6)\n",
    "\n",
    "t1 + t2"
   ]
  },
  {
   "cell_type": "code",
   "execution_count": null,
   "metadata": {
    "ExecuteTime": {
     "end_time": "2020-05-28T12:48:46.821898Z",
     "start_time": "2020-05-28T12:48:46.803250Z"
    }
   },
   "outputs": [],
   "source": [
    "t1*3"
   ]
  },
  {
   "cell_type": "markdown",
   "metadata": {},
   "source": [
    "Podemos extraer todos los valores de una tupla de manera individual con el operador `=`."
   ]
  },
  {
   "cell_type": "code",
   "execution_count": null,
   "metadata": {
    "ExecuteTime": {
     "end_time": "2020-05-28T12:49:46.236869Z",
     "start_time": "2020-05-28T12:49:46.224642Z"
    }
   },
   "outputs": [],
   "source": [
    "a, b, c = t1\n",
    "b"
   ]
  },
  {
   "cell_type": "markdown",
   "metadata": {},
   "source": [
    "Este uso es muy común  para extraer los diferentes valores devueltos por una `función`, algo de lo que hablaremos en otro post.\n",
    "\n",
    "En una `tupla` podemos incluir valores de diferente tipo."
   ]
  },
  {
   "cell_type": "code",
   "execution_count": null,
   "metadata": {
    "ExecuteTime": {
     "end_time": "2020-05-28T12:54:37.774443Z",
     "start_time": "2020-05-28T12:54:37.758443Z"
    }
   },
   "outputs": [],
   "source": [
    "t = (1, \"hola\", True)\n",
    "t"
   ]
  },
  {
   "cell_type": "markdown",
   "metadata": {},
   "source": [
    "También podemos iterar por los diferentes valores de una `tupla` de la siguiente manera."
   ]
  },
  {
   "cell_type": "code",
   "execution_count": null,
   "metadata": {
    "ExecuteTime": {
     "end_time": "2020-05-28T12:55:14.825843Z",
     "start_time": "2020-05-28T12:55:14.819844Z"
    }
   },
   "outputs": [],
   "source": [
    "for item in t:\n",
    "    print(item)"
   ]
  },
  {
   "cell_type": "markdown",
   "metadata": {},
   "source": [
    "## Listas"
   ]
  },
  {
   "cell_type": "markdown",
   "metadata": {},
   "source": [
    "Una `lista` es un tipo de estructura de datos muy similar a la `tupla`, sin embargo es `mutable` por lo que sí que podremos modificar su longitud y contenido. Definimos una `list` mediante una secuencia de valores separados por comas entre corchetes."
   ]
  },
  {
   "cell_type": "code",
   "execution_count": null,
   "metadata": {
    "ExecuteTime": {
     "end_time": "2020-05-28T13:00:59.565325Z",
     "start_time": "2020-05-28T13:00:59.560323Z"
    }
   },
   "outputs": [],
   "source": [
    "l = [1, 2, 3]\n",
    "l"
   ]
  },
  {
   "cell_type": "markdown",
   "metadata": {},
   "source": [
    "Podemos utilizar los `métodos` del objeto `lista` para añadir o quitar elementos."
   ]
  },
  {
   "cell_type": "code",
   "execution_count": null,
   "metadata": {
    "ExecuteTime": {
     "end_time": "2020-05-28T13:00:59.830960Z",
     "start_time": "2020-05-28T13:00:59.812959Z"
    }
   },
   "outputs": [],
   "source": [
    "# añade un elemento al final de la lista\n",
    "\n",
    "l.append(4)\n",
    "l"
   ]
  },
  {
   "cell_type": "code",
   "execution_count": null,
   "metadata": {
    "ExecuteTime": {
     "end_time": "2020-05-28T13:00:59.941027Z",
     "start_time": "2020-05-28T13:00:59.932023Z"
    }
   },
   "outputs": [],
   "source": [
    "# insertar un elemento en una posición determinada\n",
    "\n",
    "l.insert(2, 2.5)\n",
    "l"
   ]
  },
  {
   "cell_type": "code",
   "execution_count": null,
   "metadata": {
    "ExecuteTime": {
     "end_time": "2020-05-28T13:01:00.081662Z",
     "start_time": "2020-05-28T13:01:00.064659Z"
    }
   },
   "outputs": [],
   "source": [
    "# quitar y devolver un elemento en una posición determinada\n",
    "\n",
    "l.pop(2)"
   ]
  },
  {
   "cell_type": "code",
   "execution_count": null,
   "metadata": {
    "ExecuteTime": {
     "end_time": "2020-05-28T13:01:00.192814Z",
     "start_time": "2020-05-28T13:01:00.186808Z"
    }
   },
   "outputs": [],
   "source": [
    "l"
   ]
  },
  {
   "cell_type": "code",
   "execution_count": null,
   "metadata": {
    "ExecuteTime": {
     "end_time": "2020-05-28T13:01:00.320179Z",
     "start_time": "2020-05-28T13:01:00.313180Z"
    }
   },
   "outputs": [],
   "source": [
    "# quitar un elemento especificando su valor\n",
    "\n",
    "l.remove(3)\n",
    "l"
   ]
  },
  {
   "cell_type": "markdown",
   "metadata": {},
   "source": [
    "Podemos utilizar operadores condicionales para saber si una `lista` contiene o no un elemento en particular."
   ]
  },
  {
   "cell_type": "code",
   "execution_count": null,
   "metadata": {
    "ExecuteTime": {
     "end_time": "2020-05-28T13:01:43.624918Z",
     "start_time": "2020-05-28T13:01:43.616407Z"
    }
   },
   "outputs": [],
   "source": [
    "3 in l"
   ]
  },
  {
   "cell_type": "code",
   "execution_count": null,
   "metadata": {
    "ExecuteTime": {
     "end_time": "2020-05-28T13:01:51.740204Z",
     "start_time": "2020-05-28T13:01:51.728546Z"
    }
   },
   "outputs": [],
   "source": [
    "3 not in l"
   ]
  },
  {
   "cell_type": "markdown",
   "metadata": {},
   "source": [
    "De la misma manera que con una `tupla` podemos usar operadores para concatenar o repetir `listas`."
   ]
  },
  {
   "cell_type": "code",
   "execution_count": null,
   "metadata": {
    "ExecuteTime": {
     "end_time": "2020-05-28T13:03:07.227914Z",
     "start_time": "2020-05-28T13:03:07.222914Z"
    }
   },
   "outputs": [],
   "source": [
    "l1 = [1, 2, 3]\n",
    "l2 = [\"hola\", \"que\", \"tal\"]\n",
    "\n",
    "l1 + l2"
   ]
  },
  {
   "cell_type": "code",
   "execution_count": null,
   "metadata": {
    "ExecuteTime": {
     "end_time": "2020-05-28T13:03:09.605587Z",
     "start_time": "2020-05-28T13:03:09.597076Z"
    }
   },
   "outputs": [],
   "source": [
    "l1*3"
   ]
  },
  {
   "cell_type": "markdown",
   "metadata": {},
   "source": [
    "Podemos acceder a un valor en particular mediante su índice."
   ]
  },
  {
   "cell_type": "code",
   "execution_count": null,
   "metadata": {
    "ExecuteTime": {
     "end_time": "2020-05-28T13:04:58.483459Z",
     "start_time": "2020-05-28T13:04:58.476817Z"
    }
   },
   "outputs": [],
   "source": [
    "l = [1, 2, 3, 4]\n",
    "l[0]"
   ]
  },
  {
   "cell_type": "markdown",
   "metadata": {},
   "source": [
    "También podemos seleccionar un subgrupo de valores dentro de la lista con los operadores de troceado."
   ]
  },
  {
   "cell_type": "code",
   "execution_count": null,
   "metadata": {
    "ExecuteTime": {
     "end_time": "2020-05-28T13:05:51.975140Z",
     "start_time": "2020-05-28T13:05:51.962115Z"
    }
   },
   "outputs": [],
   "source": [
    "# devuelve los valores entre los ínideces 1 (inclusivo) y 3 (exclusivo)\n",
    "\n",
    "l[1:3]"
   ]
  },
  {
   "cell_type": "code",
   "execution_count": null,
   "metadata": {
    "ExecuteTime": {
     "end_time": "2020-05-28T13:06:15.658997Z",
     "start_time": "2020-05-28T13:06:15.644432Z"
    }
   },
   "outputs": [],
   "source": [
    "# devuelve los primeros dos valores\n",
    "\n",
    "l[:2]"
   ]
  },
  {
   "cell_type": "code",
   "execution_count": null,
   "metadata": {
    "ExecuteTime": {
     "end_time": "2020-05-28T13:06:23.518537Z",
     "start_time": "2020-05-28T13:06:23.500499Z"
    }
   },
   "outputs": [],
   "source": [
    "# devuelve todos los valores desde el índice 2 hasta el final\n",
    "\n",
    "l[2:]"
   ]
  },
  {
   "cell_type": "markdown",
   "metadata": {},
   "source": [
    "Podemos utilizar índices negativos para indexar de manera relativa al final de la `lista`."
   ]
  },
  {
   "cell_type": "code",
   "execution_count": null,
   "metadata": {
    "ExecuteTime": {
     "end_time": "2020-05-28T13:06:52.298792Z",
     "start_time": "2020-05-28T13:06:52.289280Z"
    }
   },
   "outputs": [],
   "source": [
    "# devuelve el último valor\n",
    "\n",
    "l[-1]"
   ]
  },
  {
   "cell_type": "code",
   "execution_count": null,
   "metadata": {
    "ExecuteTime": {
     "end_time": "2020-05-28T13:07:02.159361Z",
     "start_time": "2020-05-28T13:07:02.143338Z"
    }
   },
   "outputs": [],
   "source": [
    "# devuelve los últimos dos valores\n",
    "\n",
    "l[-2:]"
   ]
  },
  {
   "cell_type": "code",
   "execution_count": null,
   "metadata": {
    "ExecuteTime": {
     "end_time": "2020-05-28T13:08:08.769260Z",
     "start_time": "2020-05-28T13:08:08.757745Z"
    }
   },
   "outputs": [],
   "source": [
    "# devuelve todos los valores excepto los dos últimos\n",
    "\n",
    "l[:-2]"
   ]
  },
  {
   "cell_type": "markdown",
   "metadata": {},
   "source": [
    "Podemos utilizar un tercer argumento para definir un salto en el indexado."
   ]
  },
  {
   "cell_type": "code",
   "execution_count": null,
   "metadata": {
    "ExecuteTime": {
     "end_time": "2020-05-28T13:08:44.991687Z",
     "start_time": "2020-05-28T13:08:44.978689Z"
    }
   },
   "outputs": [],
   "source": [
    "# devuelve todos los valores en saltos de dos\n",
    "\n",
    "l[::2]"
   ]
  },
  {
   "cell_type": "code",
   "execution_count": null,
   "metadata": {
    "ExecuteTime": {
     "end_time": "2020-05-28T13:09:20.498937Z",
     "start_time": "2020-05-28T13:09:20.488360Z"
    }
   },
   "outputs": [],
   "source": [
    "# invierte la lista\n",
    "\n",
    "l[::-1]"
   ]
  },
  {
   "cell_type": "markdown",
   "metadata": {},
   "source": [
    "### Funciones secuenciales"
   ]
  },
  {
   "cell_type": "markdown",
   "metadata": {},
   "source": [
    "En `Python` existen varias funciones secuenciales que nos permiten iterar sobre secuencias."
   ]
  },
  {
   "cell_type": "code",
   "execution_count": null,
   "metadata": {
    "ExecuteTime": {
     "end_time": "2020-05-28T13:11:00.922786Z",
     "start_time": "2020-05-28T13:11:00.911277Z"
    }
   },
   "outputs": [],
   "source": [
    "# itera manteniendo el índice y el valor\n",
    "\n",
    "for i, v in enumerate(l):\n",
    "    print(i, v)"
   ]
  },
  {
   "cell_type": "code",
   "execution_count": null,
   "metadata": {
    "ExecuteTime": {
     "end_time": "2020-05-28T13:12:01.108700Z",
     "start_time": "2020-05-28T13:12:01.091589Z"
    }
   },
   "outputs": [],
   "source": [
    "# itera varias listas a la vez\n",
    "\n",
    "for v1, v2 in zip(l1, l2):\n",
    "    print(v1, v2)"
   ]
  },
  {
   "cell_type": "code",
   "execution_count": null,
   "metadata": {
    "ExecuteTime": {
     "end_time": "2020-05-28T13:12:44.128400Z",
     "start_time": "2020-05-28T13:12:44.115402Z"
    }
   },
   "outputs": [],
   "source": [
    "# itera una lista al revés\n",
    "\n",
    "for v in reversed(l):\n",
    "    print(v)"
   ]
  },
  {
   "cell_type": "markdown",
   "metadata": {
    "heading_collapsed": true
   },
   "source": [
    "## Dict"
   ]
  },
  {
   "cell_type": "markdown",
   "metadata": {
    "hidden": true
   },
   "source": [
    "`dict` es probablemente la estructura de datos más importante en `Python`. También se le conoce por el nombre de `hash map`. Consiste en una colección de pares `clave-valor` dónde tanto la `calve` como el `valor` son `objetos` de Python. Definimos un `dict` mediante una secuencia de claves-valor entre llaves."
   ]
  },
  {
   "cell_type": "code",
   "execution_count": null,
   "metadata": {
    "ExecuteTime": {
     "end_time": "2020-05-28T13:16:08.501234Z",
     "start_time": "2020-05-28T13:16:08.493721Z"
    },
    "hidden": true
   },
   "outputs": [],
   "source": [
    "d = {'a': 1, 'b': 2, 'c': 3}\n",
    "d"
   ]
  },
  {
   "cell_type": "markdown",
   "metadata": {
    "hidden": true
   },
   "source": [
    "Podemos insertar nuevos valores especificando la nueva `clave` y el nuevo `valor` de la siguiente manera."
   ]
  },
  {
   "cell_type": "code",
   "execution_count": null,
   "metadata": {
    "ExecuteTime": {
     "end_time": "2020-05-28T13:16:52.912044Z",
     "start_time": "2020-05-28T13:16:52.902046Z"
    },
    "hidden": true
   },
   "outputs": [],
   "source": [
    "d['d'] = 4\n",
    "d"
   ]
  },
  {
   "cell_type": "markdown",
   "metadata": {
    "hidden": true
   },
   "source": [
    "Podemos comprobar si un `dict` contiene alguna clave en particular así"
   ]
  },
  {
   "cell_type": "code",
   "execution_count": null,
   "metadata": {
    "ExecuteTime": {
     "end_time": "2020-05-28T13:17:40.897743Z",
     "start_time": "2020-05-28T13:17:40.890434Z"
    },
    "hidden": true
   },
   "outputs": [],
   "source": [
    "'a' in d"
   ]
  },
  {
   "cell_type": "code",
   "execution_count": null,
   "metadata": {
    "ExecuteTime": {
     "end_time": "2020-05-28T13:17:48.767329Z",
     "start_time": "2020-05-28T13:17:48.750330Z"
    },
    "hidden": true
   },
   "outputs": [],
   "source": [
    "'a' not in d"
   ]
  },
  {
   "cell_type": "markdown",
   "metadata": {
    "hidden": true
   },
   "source": [
    "Podemos eliminar entradas en un `dict` con la palabra clave `del`."
   ]
  },
  {
   "cell_type": "code",
   "execution_count": null,
   "metadata": {
    "ExecuteTime": {
     "end_time": "2020-05-28T13:18:29.348363Z",
     "start_time": "2020-05-28T13:18:29.329363Z"
    },
    "hidden": true
   },
   "outputs": [],
   "source": [
    "del d['d']\n",
    "d"
   ]
  },
  {
   "cell_type": "markdown",
   "metadata": {
    "hidden": true
   },
   "source": [
    "Podemos obtener una lista de todas las `calves` y `valores` de un `dict` con los métodos `keys` y `values` respectivamente."
   ]
  },
  {
   "cell_type": "code",
   "execution_count": null,
   "metadata": {
    "ExecuteTime": {
     "end_time": "2020-05-28T13:19:36.360200Z",
     "start_time": "2020-05-28T13:19:36.343666Z"
    },
    "hidden": true
   },
   "outputs": [],
   "source": [
    "d.keys()"
   ]
  },
  {
   "cell_type": "code",
   "execution_count": null,
   "metadata": {
    "ExecuteTime": {
     "end_time": "2020-05-28T13:19:40.084399Z",
     "start_time": "2020-05-28T13:19:40.072400Z"
    },
    "hidden": true
   },
   "outputs": [],
   "source": [
    "d.values()"
   ]
  },
  {
   "cell_type": "markdown",
   "metadata": {
    "hidden": true
   },
   "source": [
    "Podemos mezclar dos `dicts` con el método `update`."
   ]
  },
  {
   "cell_type": "code",
   "execution_count": null,
   "metadata": {
    "ExecuteTime": {
     "end_time": "2020-05-28T13:20:25.452866Z",
     "start_time": "2020-05-28T13:20:25.445845Z"
    },
    "hidden": true
   },
   "outputs": [],
   "source": [
    "d2 = {'d': 4, 'e': 5}\n",
    "d.update(d2)\n",
    "d"
   ]
  },
  {
   "cell_type": "markdown",
   "metadata": {
    "hidden": true
   },
   "source": [
    "En `Python` es muy común crear `dicts` a partir de `listas`."
   ]
  },
  {
   "cell_type": "code",
   "execution_count": null,
   "metadata": {
    "ExecuteTime": {
     "end_time": "2020-05-28T13:23:47.836713Z",
     "start_time": "2020-05-28T13:23:47.826886Z"
    },
    "hidden": true
   },
   "outputs": [],
   "source": [
    "d = {}\n",
    "keys = ['a', 'b', 'c']\n",
    "values = [1, 2, 3]\n",
    "for k, v in zip(keys, values):\n",
    "    d[k] = v\n",
    "d"
   ]
  },
  {
   "cell_type": "markdown",
   "metadata": {
    "heading_collapsed": true
   },
   "source": [
    "## Sets"
   ]
  },
  {
   "cell_type": "markdown",
   "metadata": {
    "hidden": true
   },
   "source": [
    "Un `set` es una colección no ordenada de `objetos` únicos, puede verse como un `dict` en el que sólo tenemos claves y no valores. Podemos crear un `set` mediante una secuencia de valores separados por comas entre llaves. "
   ]
  },
  {
   "cell_type": "code",
   "execution_count": null,
   "metadata": {
    "ExecuteTime": {
     "end_time": "2020-05-28T13:27:54.815959Z",
     "start_time": "2020-05-28T13:27:54.798960Z"
    },
    "hidden": true
   },
   "outputs": [],
   "source": [
    "s = {1, 2, 3}\n",
    "s"
   ]
  },
  {
   "cell_type": "markdown",
   "metadata": {
    "hidden": true
   },
   "source": [
    "Tenemos diferentes `métodos` a nuestra disposición para trabajar con `sets`."
   ]
  },
  {
   "cell_type": "code",
   "execution_count": null,
   "metadata": {
    "ExecuteTime": {
     "end_time": "2020-05-28T13:29:44.522279Z",
     "start_time": "2020-05-28T13:29:44.512732Z"
    },
    "hidden": true
   },
   "outputs": [],
   "source": [
    "# unión\n",
    "\n",
    "a = {1, 2, 3, 4}\n",
    "b = {3, 4, 5, 6}\n",
    "\n",
    "a.union(b)"
   ]
  },
  {
   "cell_type": "code",
   "execution_count": null,
   "metadata": {
    "ExecuteTime": {
     "end_time": "2020-05-28T13:29:57.061414Z",
     "start_time": "2020-05-28T13:29:57.056485Z"
    },
    "hidden": true
   },
   "outputs": [],
   "source": [
    "# intersección\n",
    "\n",
    "a.intersection(b)"
   ]
  },
  {
   "cell_type": "code",
   "execution_count": null,
   "metadata": {
    "ExecuteTime": {
     "end_time": "2020-05-28T13:30:45.554304Z",
     "start_time": "2020-05-28T13:30:45.535284Z"
    },
    "hidden": true
   },
   "outputs": [],
   "source": [
    "# sub-sets\n",
    "\n",
    "{1, 2}.issubset(a)"
   ]
  },
  {
   "cell_type": "code",
   "execution_count": null,
   "metadata": {
    "ExecuteTime": {
     "end_time": "2020-05-28T13:30:54.598519Z",
     "start_time": "2020-05-28T13:30:54.594519Z"
    },
    "hidden": true
   },
   "outputs": [],
   "source": [
    "{5, 6}.issubset(a)"
   ]
  },
  {
   "cell_type": "markdown",
   "metadata": {
    "heading_collapsed": true
   },
   "source": [
    "## List comprehension"
   ]
  },
  {
   "cell_type": "markdown",
   "metadata": {
    "hidden": true
   },
   "source": [
    "`List comprehension` es una de las características más útiles en `Python` ya que proveen una manera rápida y concisa de crear una nueva lista a partir de otra pudiendo filtrar o transformar los diferentes elementos."
   ]
  },
  {
   "cell_type": "code",
   "execution_count": null,
   "metadata": {
    "ExecuteTime": {
     "end_time": "2020-05-28T13:34:49.105336Z",
     "start_time": "2020-05-28T13:34:49.096133Z"
    },
    "hidden": true
   },
   "outputs": [],
   "source": [
    "l = [1, 2, 3, 4, 5]\n",
    "\n",
    "# obtener una nueva lista con elementos multiplicados por 2\n",
    "l2 = []\n",
    "for i in l:\n",
    "    l2.append(i*2)\n",
    "l2"
   ]
  },
  {
   "cell_type": "code",
   "execution_count": null,
   "metadata": {
    "ExecuteTime": {
     "end_time": "2020-05-28T13:35:05.620061Z",
     "start_time": "2020-05-28T13:35:05.615062Z"
    },
    "hidden": true
   },
   "outputs": [],
   "source": [
    "# usando `list comprehension`\n",
    "\n",
    "l2 = [2*i for i in l]\n",
    "l2"
   ]
  },
  {
   "cell_type": "markdown",
   "metadata": {
    "hidden": true
   },
   "source": [
    "Podemos usar expresiones equivalentes con el resto de estructuras de datos, por ejemplo con un `dict`."
   ]
  },
  {
   "cell_type": "code",
   "execution_count": null,
   "metadata": {
    "ExecuteTime": {
     "end_time": "2020-05-28T13:39:06.147507Z",
     "start_time": "2020-05-28T13:39:06.133986Z"
    },
    "hidden": true
   },
   "outputs": [],
   "source": [
    "l1 = [\"a\", \"b\", \"c\"]\n",
    "l2 = [1, 2, 3]\n",
    "\n",
    "d = {k: v for k, v in zip(l1, l2) if v <= 2}\n",
    "d"
   ]
  },
  {
   "cell_type": "markdown",
   "metadata": {
    "hidden": true
   },
   "source": [
    "Como puedes ver `list comprehension` permite generar nuevas estructuras de datos de manera concisa, siendo muy útil para operaciones de mapeo o filtrado."
   ]
  },
  {
   "cell_type": "markdown",
   "metadata": {},
   "source": [
    "## Resumen"
   ]
  },
  {
   "cell_type": "markdown",
   "metadata": {},
   "source": [
    "En este notebok hemos visto las estructuras de datos que `Python` no ofrece así como las funciones más útiles a la hora de trabajar con ellas. Podemos usar `tuplas`, `listas`, `dicts` y `sets` para agrupar `objetos` de `Python` en estructuras con entidad y funcionalidad propia. Librerías de análisis de datos como `Numpy` o `Pandas` extienden estas estructuras de datos y funcionalidades para llevar a cabo tareas más complejas e interesantes."
   ]
  },
  {
   "cell_type": "code",
   "execution_count": null,
   "metadata": {},
   "outputs": [],
   "source": []
  }
 ],
 "metadata": {
  "kernelspec": {
   "display_name": "Python 3 (ipykernel)",
   "language": "python",
   "name": "python3"
  },
  "language_info": {
   "codemirror_mode": {
    "name": "ipython",
    "version": 3
   },
   "file_extension": ".py",
   "mimetype": "text/x-python",
   "name": "python",
   "nbconvert_exporter": "python",
   "pygments_lexer": "ipython3",
   "version": "3.10.4"
  },
  "toc": {
   "base_numbering": 1,
   "nav_menu": {},
   "number_sections": true,
   "sideBar": true,
   "skip_h1_title": false,
   "title_cell": "Table of Contents",
   "title_sidebar": "Contents",
   "toc_cell": false,
   "toc_position": {},
   "toc_section_display": true,
   "toc_window_display": true
  }
 },
 "nbformat": 4,
 "nbformat_minor": 4
}
