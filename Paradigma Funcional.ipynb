{
 "cells": [
  {
   "cell_type": "markdown",
   "metadata": {},
   "source": [
    "# Paradigmas de Programacion"
   ]
  },
  {
   "cell_type": "markdown",
   "metadata": {},
   "source": [
    "Un paradigma de programación es un enfoque o estilo de programación que define la manera en que se estructuran y ejecutan los programas. Es como un conjunto de reglas y principios que guían cómo los programadores escriben código y cómo las computadoras lo interpretan."
   ]
  },
  {
   "cell_type": "markdown",
   "metadata": {},
   "source": [
    "Los principales paradigmas de programación son:\n",
    "\n",
    "- Paradigma Imperativo 🏗️\n",
    "\n",
    "    Se basa en dar instrucciones paso a paso para cambiar el estado del programa.\n",
    "Ejemplo: C, Python (en su estilo procedural), Java\n",
    "\n",
    "  - Subcategorías:\n",
    "\n",
    "    - Procedural: \n",
    "\n",
    "        Usa funciones y estructuras de control como bucles y condicionales. (Ejemplo: C, Pascal)\n",
    "\n",
    "- Orientado a Objetos (OOP): \n",
    "\n",
    "    Organiza el código en objetos que contienen datos y métodos. (Ejemplo: Java, Python, C#)\n",
    "\n",
    "- Paradigma Declarativo 🎭\n",
    "\n",
    "    En lugar de decir cómo hacer algo, se dice qué se quiere lograr.\n",
    "Ejemplo: SQL, Prolog, Haskell\n",
    "\n",
    "  - Subcategorías:\n",
    "\n",
    "      - Funcional: \n",
    "  \n",
    "        Basado en funciones matemáticas puras, evita modificar estados y datos mutables. (Ejemplo: Haskell, Lisp, Scala)\n",
    "\n",
    "    - Lógico: Usa reglas y hechos para deducir resultados. (Ejemplo: Prolog)\n",
    "\n",
    "- Paradigma Reactivo ⚡\n",
    "\n",
    "    Se usa en programación de interfaces y sistemas que reaccionan a eventos o cambios de datos en tiempo real.\n",
    "Ejemplo: JavaScript con React, RxJS\n",
    "\n",
    "Muchos lenguajes soportan múltiples paradigmas (como Python, JavaScript o C#)"
   ]
  },
  {
   "cell_type": "markdown",
   "metadata": {},
   "source": [
    "## Paradigma Funcional\n"
   ]
  },
  {
   "cell_type": "markdown",
   "metadata": {},
   "source": [
    "\n",
    "### ¿Qué es el paradigma funcional?\n"
   ]
  },
  {
   "cell_type": "markdown",
   "metadata": {},
   "source": [
    "\n",
    "El paradigma funcional es un enfoque de programación que se basa en el uso de funciones puras y la eliminación de efectos secundarios. En este enfoque, las funciones son vistas como unidades autónomas que aceptan entradas y producen salidas, sin modificar ningún estado interno ni causar cambios en el ambiente.\n",
    "\n",
    "El paradigma funcional se enfoca en la resolución de problemas a través de la aplicación de funciones y en la creación de programas más simples, legibles y fáciles de mantener. En lugar de enfocarse en cómo se realizan las cosas, se enfoca en qué se quiere lograr.\n"
   ]
  },
  {
   "cell_type": "markdown",
   "metadata": {},
   "source": [
    "### ¿Por qué utilizar el paradigma funcional en Python?\n"
   ]
  },
  {
   "cell_type": "markdown",
   "metadata": {},
   "source": [
    "\n",
    "\n",
    "Python es un lenguaje de programación que soporta múltiples paradigmas, incluyendo el paradigma funcional. Al utilizar este enfoque en Python, podemos aprovechar las ventajas que ofrece, como por ejemplo:\n",
    "\n",
    "- Código más conciso y legible: \n",
    "  \n",
    "  Las funciones en el paradigma funcional son más simples y fáciles de entender que en otros enfoques.\n",
    "\n",
    "- Evita efectos secundarios: \n",
    "  \n",
    "    Los efectos secundarios son uno de los principales problemas que dificultan el desarrollo de software, y el paradigma funcional los evita.\n",
    "    \n",
    "- Facilita la programación concurrente: \n",
    "  \n",
    "  El paradigma funcional ofrece una forma natural de escribir código que se adapta muy bien a la programación concurrente.\n",
    "Comparación con el paradigma imperativo y el paradigma orientado a objetos\n",
    "\n",
    "    El paradigma funcional se diferencia del paradigma imperativo en que se enfoca en \"lo que\" se quiere hacer, en lugar de \"cómo\" se hace. En este enfoque, las funciones son unidades independientes y autónomas que no interactúan con el ambiente.\n",
    "\n",
    "Por otro lado, el paradigma orientado a objetos se enfoca en la creación de objetos que interactúan entre sí a través de métodos. \n",
    "En este enfoque, los objetos encapsulan datos y comportamientos, y los métodos modifican el estado interno del objeto.\n",
    "\n",
    "En resumen, el paradigma funcional ofrece una forma diferente de abordar la programación, centrándose en la creación de funciones independientes y autónomas que no modifican el ambiente ni causan efectos secundarios. \n",
    "\n",
    "En Python debemos recordad que aunque podamos usar varios paradigmas, en si TODO es un Objeto de la clase madre `objetc` de la cual heredan todos los elemntos de python, osea python es un lenguaje de objetos que acepta la implementacion de todos los paradigmas."
   ]
  },
  {
   "cell_type": "code",
   "execution_count": null,
   "metadata": {},
   "outputs": [],
   "source": [
    "object"
   ]
  },
  {
   "cell_type": "markdown",
   "metadata": {},
   "source": [
    "#### 🌱 Principios del paradigma funcional en Python"
   ]
  },
  {
   "cell_type": "markdown",
   "metadata": {},
   "source": [
    "### Funciones como ciudadanos de primera clase (First-class functions)"
   ]
  },
  {
   "cell_type": "markdown",
   "metadata": {},
   "source": [
    "Las funciones pueden asignarse a variables, pasarse como argumentos y devolverse como valores."
   ]
  },
  {
   "cell_type": "code",
   "execution_count": null,
   "metadata": {},
   "outputs": [],
   "source": [
    "def cuadrado(x):\n",
    "    return x ** 2\n"
   ]
  },
  {
   "cell_type": "code",
   "execution_count": null,
   "metadata": {},
   "outputs": [],
   "source": [
    "f = cuadrado  # Asignar la función a una variable"
   ]
  },
  {
   "cell_type": "code",
   "execution_count": null,
   "metadata": {},
   "outputs": [],
   "source": [
    "print(f(5))  # 25"
   ]
  },
  {
   "cell_type": "markdown",
   "metadata": {},
   "source": [
    "#### Funciones lambda (Funciones anónimas)\n",
    "\n",
    "Son funciones pequeñas que se definen en una línea sin necesidad de usar def."
   ]
  },
  {
   "cell_type": "code",
   "execution_count": 119,
   "metadata": {},
   "outputs": [],
   "source": [
    "agregar_iva = lambda precio , iva = 21 : precio * (1 + iva/100)\n"
   ]
  },
  {
   "cell_type": "code",
   "execution_count": null,
   "metadata": {},
   "outputs": [
    {
     "name": "stdout",
     "output_type": "stream",
     "text": [
      "1105.0\n"
     ]
    }
   ],
   "source": [
    "print(agregar_iva(1000, 10.5)) "
   ]
  },
  {
   "cell_type": "code",
   "execution_count": 121,
   "metadata": {},
   "outputs": [
    {
     "name": "stdout",
     "output_type": "stream",
     "text": [
      "1210.0\n"
     ]
    }
   ],
   "source": [
    "print(agregar_iva(1000))"
   ]
  },
  {
   "cell_type": "markdown",
   "metadata": {},
   "source": [
    "### Funciones de orden superior (Higher-order functions)\n"
   ]
  },
  {
   "cell_type": "markdown",
   "metadata": {},
   "source": [
    "Son funciones que aceptan otras funciones como parámetros o devuelven funciones."
   ]
  },
  {
   "cell_type": "code",
   "execution_count": 122,
   "metadata": {},
   "outputs": [],
   "source": [
    "def aplicar_funcion(func, valor):\n",
    "    return func(valor)"
   ]
  },
  {
   "cell_type": "code",
   "execution_count": 123,
   "metadata": {},
   "outputs": [
    {
     "name": "stdout",
     "output_type": "stream",
     "text": [
      "30\n"
     ]
    }
   ],
   "source": [
    "print(aplicar_funcion(lambda x: x * 3, 10))  # 30"
   ]
  },
  {
   "cell_type": "markdown",
   "metadata": {},
   "source": [
    "ejemplo de funcion para calcular el tiempo de ejecución"
   ]
  },
  {
   "cell_type": "code",
   "execution_count": 124,
   "metadata": {},
   "outputs": [],
   "source": [
    "def timeit(func, *args, **kwargs):\n",
    "    import time\n",
    "    start = time.time()\n",
    "    result = func(*args, **kwargs)\n",
    "    end = time.time()\n",
    "    print('Tiempo de ejecución:', end - start)\n",
    "    return result"
   ]
  },
  {
   "cell_type": "code",
   "execution_count": 125,
   "metadata": {},
   "outputs": [
    {
     "name": "stdout",
     "output_type": "stream",
     "text": [
      "Tiempo de ejecución: 6.198883056640625e-06\n"
     ]
    },
    {
     "data": {
      "text/plain": [
       "1524157875019052100"
      ]
     },
     "execution_count": 125,
     "metadata": {},
     "output_type": "execute_result"
    }
   ],
   "source": [
    "timeit(cuadrado, 1234567890)  # 1524157875019052100"
   ]
  },
  {
   "cell_type": "markdown",
   "metadata": {},
   "source": [
    "#### Recursión en lugar de bucles\n"
   ]
  },
  {
   "cell_type": "markdown",
   "metadata": {},
   "source": [
    "\n",
    "En lugar de usar for o while, se utilizan funciones recursivas.\n"
   ]
  },
  {
   "cell_type": "code",
   "execution_count": 126,
   "metadata": {},
   "outputs": [],
   "source": [
    "def factorial(n):\n",
    "    return 1 if n == 0 else n * factorial(n - 1)"
   ]
  },
  {
   "cell_type": "code",
   "execution_count": 127,
   "metadata": {},
   "outputs": [
    {
     "name": "stdout",
     "output_type": "stream",
     "text": [
      "Tiempo de ejecución: 2.2649765014648438e-05\n"
     ]
    },
    {
     "data": {
      "text/plain": [
       "3628800"
      ]
     },
     "execution_count": 127,
     "metadata": {},
     "output_type": "execute_result"
    }
   ],
   "source": [
    "timeit(factorial, 10)"
   ]
  },
  {
   "cell_type": "markdown",
   "metadata": {},
   "source": [
    "#### Inmutabilidad"
   ]
  },
  {
   "cell_type": "markdown",
   "metadata": {},
   "source": [
    "En programación funcional, se evita modificar estructuras de datos existentes. En su lugar, se crean nuevas.\n",
    "\n",
    "📌 Ejemplo: Modificar una lista sin mutarla"
   ]
  },
  {
   "cell_type": "code",
   "execution_count": 128,
   "metadata": {},
   "outputs": [
    {
     "name": "stdout",
     "output_type": "stream",
     "text": [
      "[1, 2, 3]\n",
      "[1, 2, 3, 4]\n"
     ]
    }
   ],
   "source": [
    "numeros = [1, 2, 3]\n",
    "nueva_lista = numeros + [4]  # Se crea una nueva lista\n",
    "print(numeros)  # [1, 2, 3] (la original no cambia)\n",
    "print(nueva_lista)  # [1, 2, 3, 4]"
   ]
  },
  {
   "cell_type": "markdown",
   "metadata": {},
   "source": [
    "#### Generadores"
   ]
  },
  {
   "cell_type": "markdown",
   "metadata": {},
   "source": [
    "- ¿Qué son los Generadores?\n",
    "\n",
    "    Como lo dice su nombre es una funcion que genera un valor cuande es invocada y guarda su estado para la proxima llamada.  \n",
    "    Un generador es una función que usa yield en lugar de return.  \n",
    "\n",
    "- ¿Por qué usar generadores?\n",
    "\n",
    "    - Permiten trabajar con flujos de datos infinitos o muy grandes sin consumir mucha memoria.\n",
    "    - Son perezosos (lazy evaluation), es decir, generan valores solo cuando se necesitan.\n",
    "    - Se integran perfectamente con herramientas funcionales como map(), filter(), zip(), enumerate(), etc.\n",
    "    - Son inmutables, lo que los hace ideales para programación funcional."
   ]
  },
  {
   "cell_type": "code",
   "execution_count": 129,
   "metadata": {},
   "outputs": [],
   "source": [
    "def contar():\n",
    "    n = 1\n",
    "    while True:\n",
    "        yield n\n",
    "        n += 1  # No muta, sino que avanza al siguiente estado\n"
   ]
  },
  {
   "cell_type": "code",
   "execution_count": 130,
   "metadata": {},
   "outputs": [
    {
     "data": {
      "text/plain": [
       "<generator object contar at 0x00000110DEAB1240>"
      ]
     },
     "execution_count": 130,
     "metadata": {},
     "output_type": "execute_result"
    }
   ],
   "source": [
    "contador = contar()  # No ejecuta nada aún\n",
    "contador"
   ]
  },
  {
   "cell_type": "markdown",
   "metadata": {},
   "source": [
    "`contar()` no devuelve un número, sino un objeto generador."
   ]
  },
  {
   "cell_type": "code",
   "execution_count": 131,
   "metadata": {},
   "outputs": [
    {
     "name": "stdout",
     "output_type": "stream",
     "text": [
      "1\n",
      "2\n",
      "3\n"
     ]
    }
   ],
   "source": [
    "print(next(contador))  # 1\n",
    "print(next(contador))  # 2\n",
    "print(next(contador))  # 3"
   ]
  },
  {
   "cell_type": "code",
   "execution_count": 146,
   "metadata": {},
   "outputs": [
    {
     "name": "stdout",
     "output_type": "stream",
     "text": [
      "134\n",
      "135\n",
      "136\n",
      "137\n",
      "138\n",
      "139\n",
      "140\n",
      "141\n",
      "142\n",
      "143\n"
     ]
    }
   ],
   "source": [
    "for _ in range(10):\n",
    "    print(next(contador))"
   ]
  },
  {
   "cell_type": "markdown",
   "metadata": {},
   "source": [
    "`next(contador)` calcula y devuelve el siguiente valor, pero sin almacenar todos los números en memoria."
   ]
  },
  {
   "cell_type": "markdown",
   "metadata": {},
   "source": [
    "#### Generador de Fibonacci (∞ sin explotar RAM)"
   ]
  },
  {
   "cell_type": "code",
   "execution_count": 147,
   "metadata": {},
   "outputs": [],
   "source": [
    "def fibonacci():\n",
    "    a, b = 0, 1\n",
    "    while True:\n",
    "        yield a\n",
    "        a , b = b , a + b"
   ]
  },
  {
   "cell_type": "code",
   "execution_count": 148,
   "metadata": {},
   "outputs": [
    {
     "name": "stdout",
     "output_type": "stream",
     "text": [
      "[0, 1, 1, 2, 3, 5, 8, 13, 21, 34]\n"
     ]
    }
   ],
   "source": [
    "fib = fibonacci()\n",
    "print([next(fib) for _ in range(10)])"
   ]
  },
  {
   "cell_type": "code",
   "execution_count": 158,
   "metadata": {},
   "outputs": [],
   "source": [
    "for _ in range(90):\n",
    "    next(fib)"
   ]
  },
  {
   "cell_type": "code",
   "execution_count": 159,
   "metadata": {},
   "outputs": [
    {
     "name": "stdout",
     "output_type": "stream",
     "text": [
      "el VALOR DE FIBONACCI 100 ES:  6757214636136263077649543548534660692055214690754342691385916202184675586569652210505678392181090\n"
     ]
    }
   ],
   "source": [
    "print(\"el VALOR DE FIBONACCI 100 ES: \", next(fib))"
   ]
  },
  {
   "cell_type": "markdown",
   "metadata": {},
   "source": [
    "##### Generadores en 1 linea"
   ]
  },
  {
   "cell_type": "markdown",
   "metadata": {},
   "source": [
    "Puedo crear generadores en 2 solo linea como las listas o diccionarios por comprensión."
   ]
  },
  {
   "cell_type": "code",
   "execution_count": 160,
   "metadata": {},
   "outputs": [],
   "source": [
    "numeros_cuadrados = ( x**2 for x in range(1000000) )  # Solo genera valores cuando se piden"
   ]
  },
  {
   "cell_type": "code",
   "execution_count": 161,
   "metadata": {},
   "outputs": [
    {
     "data": {
      "text/plain": [
       "<generator object <genexpr> at 0x00000110DF2B8E10>"
      ]
     },
     "execution_count": 161,
     "metadata": {},
     "output_type": "execute_result"
    }
   ],
   "source": [
    "numeros_cuadrados"
   ]
  },
  {
   "cell_type": "code",
   "execution_count": 162,
   "metadata": {},
   "outputs": [
    {
     "name": "stdout",
     "output_type": "stream",
     "text": [
      "0\n"
     ]
    }
   ],
   "source": [
    "print(next(numeros_cuadrados))  # 0"
   ]
  },
  {
   "cell_type": "code",
   "execution_count": 175,
   "metadata": {},
   "outputs": [
    {
     "data": {
      "text/plain": [
       "[14641, 14884, 15129, 15376, 15625, 15876, 16129, 16384, 16641, 16900]"
      ]
     },
     "execution_count": 175,
     "metadata": {},
     "output_type": "execute_result"
    }
   ],
   "source": [
    "[next(numeros_cuadrados) for _ in range(10)]"
   ]
  },
  {
   "cell_type": "code",
   "execution_count": 177,
   "metadata": {},
   "outputs": [
    {
     "name": "stdout",
     "output_type": "stream",
     "text": [
      "0\n",
      "1\n",
      "4\n",
      "9\n",
      "16\n",
      "25\n",
      "36\n",
      "49\n",
      "64\n",
      "81\n"
     ]
    }
   ],
   "source": [
    "gen =  ( x**2 for x in range(10) )\n",
    "\n",
    "g = iter(gen)\n",
    "\n",
    "for cuadrado in g:\n",
    "    print(cuadrado)"
   ]
  },
  {
   "cell_type": "markdown",
   "metadata": {},
   "source": [
    "### Funciones utiles\n"
   ]
  },
  {
   "cell_type": "markdown",
   "metadata": {},
   "source": [
    "\n",
    "Python ofrece muchas más herramientas que las mencionadas para trabajar con el paradigma funcional. Algunas otras funciones útiles que pueden ser interesantes de explorar incluyen `all`, `any`, `zip`, `enumerate`, `sorted`, `map`, `filter` y `reduce` del modulo `functools`"
   ]
  },
  {
   "cell_type": "markdown",
   "metadata": {},
   "source": [
    "#### Funcion any\n"
   ]
  },
  {
   "cell_type": "markdown",
   "metadata": {},
   "source": [
    "\n",
    "Devuelve True si al menos un elemento del iterable es True\n"
   ]
  },
  {
   "cell_type": "code",
   "execution_count": 178,
   "metadata": {},
   "outputs": [
    {
     "name": "stdout",
     "output_type": "stream",
     "text": [
      "True\n",
      "True\n"
     ]
    }
   ],
   "source": [
    "valores = [0, 0, 1, 0]\n",
    "print(any(valores))  # True, porque hay al menos un `1`\n",
    "\n",
    "palabras = [\"\", \"Python\", \"\"]\n",
    "print(any(palabras))  # True, porque \"Python\" es un string no vacío"
   ]
  },
  {
   "cell_type": "code",
   "execution_count": 179,
   "metadata": {},
   "outputs": [
    {
     "data": {
      "text/plain": [
       "False"
      ]
     },
     "execution_count": 179,
     "metadata": {},
     "output_type": "execute_result"
    }
   ],
   "source": [
    "lista = [False, 0, \"\", None]\n",
    "any(lista)"
   ]
  },
  {
   "cell_type": "markdown",
   "metadata": {},
   "source": [
    "#### Funcion all\n"
   ]
  },
  {
   "cell_type": "markdown",
   "metadata": {},
   "source": [
    "\n",
    "Devuelve True solo si TODOS los elementos son True"
   ]
  },
  {
   "cell_type": "code",
   "execution_count": 180,
   "metadata": {},
   "outputs": [
    {
     "name": "stdout",
     "output_type": "stream",
     "text": [
      "True\n",
      "False\n"
     ]
    }
   ],
   "source": [
    "valores = [1, 2, 3, 4]\n",
    "print(all(valores))  # True, porque todos son diferentes de 0\n",
    "\n",
    "valores = [1, 0, 3]\n",
    "print(all(valores))  # False, porque hay un `0`"
   ]
  },
  {
   "cell_type": "markdown",
   "metadata": {},
   "source": [
    "Filtrar números primos con un generador y all"
   ]
  },
  {
   "cell_type": "code",
   "execution_count": 181,
   "metadata": {},
   "outputs": [
    {
     "name": "stdout",
     "output_type": "stream",
     "text": [
      "[2, 3, 5, 7, 11, 13, 17, 19, 23, 29]\n"
     ]
    }
   ],
   "source": [
    "def es_primo(n):\n",
    "    return n > 1 and all( n % d != 0 for d in range(2, int(n**0.5) + 1) )\n",
    "\n",
    "def primos():\n",
    "    n = 2\n",
    "    while True:\n",
    "        if es_primo(n):\n",
    "            yield n\n",
    "        n += 1\n",
    "\n",
    "p = primos()\n",
    "print([next(p) for _ in range(10)])  # [2, 3, 5, 7, 11, 13, 17, 19, 23, 29]"
   ]
  },
  {
   "cell_type": "code",
   "execution_count": 182,
   "metadata": {},
   "outputs": [],
   "source": [
    "p = primos()\n",
    "#print([next(p) for _ in range(10)])  # [2, 3, 5, 7, 11, 13, 17, 19, 23, 29]"
   ]
  },
  {
   "cell_type": "code",
   "execution_count": 196,
   "metadata": {},
   "outputs": [
    {
     "name": "stdout",
     "output_type": "stream",
     "text": [
      "10663 10667 10687 10691 10709 10711 10723 10729 10733 10739\n",
      "10753 10771 10781 10789 10799 10831 10837 10847 10853 10859\n",
      "10861 10867 10883 10889 10891 10903 10909 10937 10939 10949\n",
      "10957 10973 10979 10987 10993 11003 11027 11047 11057 11059\n",
      "11069 11071 11083 11087 11093 11113 11117 11119 11131 11149\n",
      "11159 11161 11171 11173 11177 11197 11213 11239 11243 11251\n",
      "11257 11261 11273 11279 11287 11299 11311 11317 11321 11329\n",
      "11351 11353 11369 11383 11393 11399 11411 11423 11437 11443\n",
      "11447 11467 11471 11483 11489 11491 11497 11503 11519 11527\n",
      "11549 11551 11579 11587 11593 11597 11617 11621 11633 11657\n"
     ]
    }
   ],
   "source": [
    "for _ in range (10):\n",
    "    print(*[next(p) for _ in range(10)], sep=\" \")"
   ]
  },
  {
   "cell_type": "markdown",
   "metadata": {},
   "source": [
    "#### Funciones max y min"
   ]
  },
  {
   "cell_type": "markdown",
   "metadata": {},
   "source": [
    "Encuentran el valor máximo o mínimo de un iterable"
   ]
  },
  {
   "cell_type": "code",
   "execution_count": 197,
   "metadata": {},
   "outputs": [
    {
     "name": "stdout",
     "output_type": "stream",
     "text": [
      "30\n",
      "5\n"
     ]
    }
   ],
   "source": [
    "numeros = [10, 20, 5, 8, 30]\n",
    "print(max(numeros))  # 30\n",
    "print(min(numeros))  # 5\n"
   ]
  },
  {
   "cell_type": "markdown",
   "metadata": {},
   "source": [
    "Pasandole una funcion por el parametro `key` , para evaluar un criterio"
   ]
  },
  {
   "cell_type": "code",
   "execution_count": 198,
   "metadata": {},
   "outputs": [
    {
     "name": "stdout",
     "output_type": "stream",
     "text": [
      "Python\n",
      "es\n"
     ]
    }
   ],
   "source": [
    "palabras = [\"Python\", \"es\", \"genial\"]\n",
    "print(max(palabras, key=len))  # \"Python\" (la palabra más larga)\n",
    "print(min(palabras, key=len))  # \"es\" (la más corta)"
   ]
  },
  {
   "cell_type": "markdown",
   "metadata": {},
   "source": [
    "Encontrar la persona más grande y joven"
   ]
  },
  {
   "cell_type": "code",
   "execution_count": 199,
   "metadata": {},
   "outputs": [
    {
     "name": "stdout",
     "output_type": "stream",
     "text": [
      "La persona mas grande es Carlos con 35 años\n",
      "Y la persona mas joven es Luis con 25 años\n"
     ]
    }
   ],
   "source": [
    "personas = [{\"nombre\": \"Ana\", \"edad\": 30}, {\"nombre\": \"Luis\", \"edad\": 25}, {\"nombre\": \"Carlos\", \"edad\": 35}]\n",
    "\n",
    "mas_grande = max(personas, key = lambda p : p[\"edad\"])\n",
    "\n",
    "mas_joven = min(personas, key=lambda p: p[\"edad\"])\n",
    "\n",
    "print(f\"La persona mas grande es {mas_grande[\"nombre\"]} con { mas_grande[\"edad\"]} años\") \n",
    "print(f\"Y la persona mas joven es {mas_joven[\"nombre\"]} con { mas_joven[\"edad\"]} años\") "
   ]
  },
  {
   "cell_type": "markdown",
   "metadata": {},
   "source": [
    "#### Funcion sum"
   ]
  },
  {
   "cell_type": "markdown",
   "metadata": {},
   "source": [
    "Suma los valores de un iterable"
   ]
  },
  {
   "cell_type": "code",
   "execution_count": 200,
   "metadata": {},
   "outputs": [
    {
     "name": "stdout",
     "output_type": "stream",
     "text": [
      "60\n"
     ]
    }
   ],
   "source": [
    "numeros = [10, 20, 30]\n",
    "print(sum(numeros))  # 60"
   ]
  },
  {
   "cell_type": "markdown",
   "metadata": {},
   "source": [
    "la funcion sum no tiene `key` pero se le puede pasar un generador "
   ]
  },
  {
   "cell_type": "code",
   "execution_count": 201,
   "metadata": {},
   "outputs": [
    {
     "data": {
      "text/plain": [
       "<generator object <genexpr> at 0x00000110E93725A0>"
      ]
     },
     "execution_count": 201,
     "metadata": {},
     "output_type": "execute_result"
    }
   ],
   "source": [
    "edades = (p[\"edad\"] for p in personas)\n",
    "edades"
   ]
  },
  {
   "cell_type": "code",
   "execution_count": 202,
   "metadata": {},
   "outputs": [
    {
     "name": "stdout",
     "output_type": "stream",
     "text": [
      "LA suma de las edades es:  90\n"
     ]
    }
   ],
   "source": [
    "suma_edad = sum(edades) \n",
    "print(\"LA suma de las edades es: \", suma_edad)"
   ]
  },
  {
   "cell_type": "markdown",
   "metadata": {},
   "source": [
    "#### Funcion zip\n"
   ]
  },
  {
   "cell_type": "markdown",
   "metadata": {},
   "source": [
    "\n",
    "La función zip es una función integrada en Python que permite combinar dos o más secuencias (listas, tuplas, etc.) en una sola secuencia de tuplas, donde cada tupla contiene un elemento de cada secuencia."
   ]
  },
  {
   "cell_type": "code",
   "execution_count": 203,
   "metadata": {},
   "outputs": [
    {
     "data": {
      "text/plain": [
       "<zip at 0x110e93757c0>"
      ]
     },
     "execution_count": 203,
     "metadata": {},
     "output_type": "execute_result"
    }
   ],
   "source": [
    "nombres = ['Ana', 'Luis', 'Juan', 'María']\n",
    "edades = [25, 30, 28, 32, 45, 12]\n",
    "\n",
    "\n",
    "nomb_edad = zip(nombres, edades)\n",
    "nomb_edad\n"
   ]
  },
  {
   "cell_type": "code",
   "execution_count": 206,
   "metadata": {},
   "outputs": [
    {
     "ename": "StopIteration",
     "evalue": "",
     "output_type": "error",
     "traceback": [
      "\u001b[1;31m---------------------------------------------------------------------------\u001b[0m",
      "\u001b[1;31mStopIteration\u001b[0m                             Traceback (most recent call last)",
      "Cell \u001b[1;32mIn[206], line 1\u001b[0m\n\u001b[1;32m----> 1\u001b[0m \u001b[38;5;28;43mnext\u001b[39;49m\u001b[43m(\u001b[49m\u001b[43mnomb_edad\u001b[49m\u001b[43m)\u001b[49m\n",
      "\u001b[1;31mStopIteration\u001b[0m: "
     ]
    }
   ],
   "source": [
    "next(nomb_edad)"
   ]
  },
  {
   "cell_type": "code",
   "execution_count": 205,
   "metadata": {},
   "outputs": [
    {
     "name": "stdout",
     "output_type": "stream",
     "text": [
      "('Luis', 30)\n",
      "('Juan', 28)\n",
      "('María', 32)\n"
     ]
    }
   ],
   "source": [
    "for tupla in nomb_edad:\n",
    "    print(tupla)"
   ]
  },
  {
   "cell_type": "markdown",
   "metadata": {},
   "source": [
    "#### Funcion enumerate\n"
   ]
  },
  {
   "cell_type": "markdown",
   "metadata": {},
   "source": [
    "\n",
    "La función enumerate es una función integrada de Python que permite recorrer una secuencia (como una lista, tupla o cadena) y al mismo tiempo tener acceso al índice de cada elemento."
   ]
  },
  {
   "cell_type": "code",
   "execution_count": 207,
   "metadata": {},
   "outputs": [
    {
     "data": {
      "text/plain": [
       "<enumerate at 0x110dec6cbd0>"
      ]
     },
     "execution_count": 207,
     "metadata": {},
     "output_type": "execute_result"
    }
   ],
   "source": [
    "nombres = ['Ana', 'Luis', 'Juan', 'María']\n",
    "\n",
    "enum_nombres = enumerate(nombres)\n",
    "enum_nombres"
   ]
  },
  {
   "cell_type": "code",
   "execution_count": 208,
   "metadata": {},
   "outputs": [
    {
     "data": {
      "text/plain": [
       "(0, 'Ana')"
      ]
     },
     "execution_count": 208,
     "metadata": {},
     "output_type": "execute_result"
    }
   ],
   "source": [
    "next(enum_nombres)"
   ]
  },
  {
   "cell_type": "code",
   "execution_count": 209,
   "metadata": {},
   "outputs": [
    {
     "name": "stdout",
     "output_type": "stream",
     "text": [
      "(1, 'Luis')\n",
      "(2, 'Juan')\n",
      "(3, 'María')\n"
     ]
    }
   ],
   "source": [
    "for tupla in enum_nombres:\n",
    "    print(tupla)"
   ]
  },
  {
   "cell_type": "code",
   "execution_count": 210,
   "metadata": {},
   "outputs": [
    {
     "name": "stdout",
     "output_type": "stream",
     "text": [
      "   Ana     con la edad de 25 años tienen el numero :100\n",
      "   Luis    con la edad de 30 años tienen el numero :101\n",
      "   Juan    con la edad de 28 años tienen el numero :102\n",
      "  María    con la edad de 32 años tienen el numero :103\n"
     ]
    }
   ],
   "source": [
    "edades = [25, 30, 28, 32]\n",
    "for indice, tupla in enumerate( zip(nombres,edades) , start = 100):\n",
    "    print(\"{:^10} con la edad de {} años tienen el numero :{}\".format(tupla[0],tupla[1],indice))"
   ]
  },
  {
   "cell_type": "markdown",
   "metadata": {},
   "source": [
    "#### Funcion sorted\n"
   ]
  },
  {
   "cell_type": "markdown",
   "metadata": {},
   "source": [
    "\n",
    "La función sorted es una función integrada de Python que se utiliza para ordenar secuencias como listas, tuplas y cadenas (iterebles). Tiene un corpontamiento casi identico que el método sort de list con la diferencia que no modifica el objeto itereble si no devuelve una lista ordenada. "
   ]
  },
  {
   "cell_type": "code",
   "execution_count": 211,
   "metadata": {},
   "outputs": [
    {
     "data": {
      "text/plain": [
       "[-25, -5.5, -5, -0.5, 0, 1, 3, 5, 12, 14, 47, 89, 109]"
      ]
     },
     "execution_count": 211,
     "metadata": {},
     "output_type": "execute_result"
    }
   ],
   "source": [
    "numeros  = {5,14,89,12,-5,-25,3,47,109,-0.5,0,1,-5.5} # es un conjunto\n",
    "\n",
    "lis_num = sorted(numeros)\n",
    "lis_num"
   ]
  },
  {
   "cell_type": "code",
   "execution_count": 212,
   "metadata": {},
   "outputs": [
    {
     "data": {
      "text/plain": [
       "[109, 89, 47, 14, 12, 5, 3, 1, 0, -0.5, -5, -5.5, -25]"
      ]
     },
     "execution_count": 212,
     "metadata": {},
     "output_type": "execute_result"
    }
   ],
   "source": [
    "lista_desc= sorted(numeros,reverse=1) # 1 es True \n",
    "lista_desc"
   ]
  },
  {
   "cell_type": "code",
   "execution_count": 213,
   "metadata": {},
   "outputs": [
    {
     "data": {
      "text/plain": [
       "[{'id': 1,\n",
       "  'nombre': 'Argentina',\n",
       "  'moneda': 'Peso argentino',\n",
       "  'lenguaje': ['Español'],\n",
       "  'poblacion': 45376763,\n",
       "  'superficie': 2780400},\n",
       " {'id': 2,\n",
       "  'nombre': 'Brasil',\n",
       "  'moneda': 'Real brasileño',\n",
       "  'lenguaje': ['Portugués'],\n",
       "  'poblacion': 212559417,\n",
       "  'superficie': 8515767},\n",
       " {'id': 3,\n",
       "  'nombre': 'Chile',\n",
       "  'moneda': 'Peso chileno',\n",
       "  'lenguaje': ['Español'],\n",
       "  'poblacion': 19116201,\n",
       "  'superficie': 756102},\n",
       " {'id': 4,\n",
       "  'nombre': 'Colombia',\n",
       "  'moneda': 'Peso colombiano',\n",
       "  'lenguaje': ['Español'],\n",
       "  'poblacion': 50976248,\n",
       "  'superficie': 1141748},\n",
       " {'id': 5,\n",
       "  'nombre': 'México',\n",
       "  'moneda': 'Peso mexicano',\n",
       "  'lenguaje': ['Español'],\n",
       "  'poblacion': 130262216,\n",
       "  'superficie': 1964375},\n",
       " {'id': 6,\n",
       "  'nombre': 'Perú',\n",
       "  'moneda': 'Sol peruano',\n",
       "  'lenguaje': ['Español'],\n",
       "  'poblacion': 32971854,\n",
       "  'superficie': 1285216},\n",
       " {'id': 7,\n",
       "  'nombre': 'Uruguay',\n",
       "  'moneda': 'Peso uruguayo',\n",
       "  'lenguaje': ['Español'],\n",
       "  'poblacion': 3461734,\n",
       "  'superficie': 176215},\n",
       " {'id': 8,\n",
       "  'nombre': 'Venezuela',\n",
       "  'moneda': 'Bolívar soberano',\n",
       "  'lenguaje': ['Español'],\n",
       "  'poblacion': 28515829,\n",
       "  'superficie': 916445},\n",
       " {'id': 9,\n",
       "  'nombre': 'Ecuador',\n",
       "  'moneda': 'Dólar estadounidense',\n",
       "  'lenguaje': ['Español'],\n",
       "  'poblacion': 17741423,\n",
       "  'superficie': 256370},\n",
       " {'id': 10,\n",
       "  'nombre': 'Bolivia',\n",
       "  'moneda': 'Boliviano',\n",
       "  'lenguaje': ['Español', 'Quechua', 'Aimara'],\n",
       "  'poblacion': 11802142,\n",
       "  'superficie': 1098581},\n",
       " {'id': 11,\n",
       "  'nombre': 'Paraguay',\n",
       "  'moneda': 'Guaraní paraguayo',\n",
       "  'lenguaje': ['Español', 'Guaraní'],\n",
       "  'poblacion': 7132538,\n",
       "  'superficie': 406752},\n",
       " {'id': 12,\n",
       "  'nombre': 'Costa Rica',\n",
       "  'moneda': 'Colón costarricense',\n",
       "  'lenguaje': ['Español'],\n",
       "  'poblacion': 5139775,\n",
       "  'superficie': 51100},\n",
       " {'id': 13,\n",
       "  'nombre': 'Cuba',\n",
       "  'moneda': 'Peso cubano',\n",
       "  'lenguaje': ['Español'],\n",
       "  'poblacion': 11326616,\n",
       "  'superficie': 109884}]"
      ]
     },
     "execution_count": 213,
     "metadata": {},
     "output_type": "execute_result"
    }
   ],
   "source": [
    "paises = [\n",
    "    {'id': 1,  'nombre': 'Argentina',  'moneda': 'Peso argentino',       'lenguaje': ['Español']  , 'poblacion': 45376763, 'superficie': 2780400},\n",
    "    {'id': 2,  'nombre': 'Brasil',     'moneda': 'Real brasileño',       'lenguaje': ['Portugués'], 'poblacion': 212559417, 'superficie': 8515767},\n",
    "    {'id': 3,  'nombre': 'Chile',      'moneda': 'Peso chileno',         'lenguaje': ['Español' ], 'poblacion': 19116201, 'superficie': 756102},\n",
    "    {'id': 4,  'nombre': 'Colombia',   'moneda': 'Peso colombiano',      'lenguaje': ['Español' ], 'poblacion': 50976248, 'superficie': 1141748},\n",
    "    {'id': 5,  'nombre': 'México',     'moneda': 'Peso mexicano',        'lenguaje': ['Español' ], 'poblacion': 130262216, 'superficie': 1964375},\n",
    "    {'id': 6,  'nombre': 'Perú',       'moneda': 'Sol peruano',          'lenguaje': ['Español' ], 'poblacion': 32971854, 'superficie': 1285216},\n",
    "    {'id': 7,  'nombre': 'Uruguay',    'moneda': 'Peso uruguayo',        'lenguaje': ['Español' ], 'poblacion': 3461734, 'superficie': 176215},\n",
    "    {'id': 8,  'nombre': 'Venezuela',  'moneda': 'Bolívar soberano',     'lenguaje': ['Español' ], 'poblacion': 28515829, 'superficie': 916445},\n",
    "    {'id': 9,  'nombre': 'Ecuador',    'moneda': 'Dólar estadounidense', 'lenguaje': ['Español' ], 'poblacion': 17741423, 'superficie': 256370},\n",
    "    {'id': 10, 'nombre': 'Bolivia',    'moneda': 'Boliviano',            'lenguaje': ['Español','Quechua', 'Aimara'],    \n",
    "                                                                                                   'poblacion': 11802142, 'superficie': 1098581},\n",
    "    {'id': 11, 'nombre': 'Paraguay',   'moneda': 'Guaraní paraguayo',    'lenguaje': ['Español', 'Guaraní'],   \n",
    "                                                                                                    'poblacion': 7132538, 'superficie': 406752},\n",
    "    {'id': 12, 'nombre': 'Costa Rica', 'moneda': 'Colón costarricense',  'lenguaje': ['Español']  , 'poblacion': 5139775, 'superficie': 51100},\n",
    "    {'id': 13, 'nombre': 'Cuba',       'moneda': 'Peso cubano',          'lenguaje': ['Español']  , 'poblacion': 11326616, 'superficie': 109884},\n",
    "        ]\n",
    "paises"
   ]
  },
  {
   "cell_type": "code",
   "execution_count": 214,
   "metadata": {},
   "outputs": [],
   "source": [
    "por_cant_de_idiomas = sorted(paises, key = lambda x : len(x[\"lenguaje\"]), reverse=True)"
   ]
  },
  {
   "cell_type": "code",
   "execution_count": 215,
   "metadata": {},
   "outputs": [
    {
     "data": {
      "text/plain": [
       "[{'id': 10,\n",
       "  'nombre': 'Bolivia',\n",
       "  'moneda': 'Boliviano',\n",
       "  'lenguaje': ['Español', 'Quechua', 'Aimara'],\n",
       "  'poblacion': 11802142,\n",
       "  'superficie': 1098581},\n",
       " {'id': 11,\n",
       "  'nombre': 'Paraguay',\n",
       "  'moneda': 'Guaraní paraguayo',\n",
       "  'lenguaje': ['Español', 'Guaraní'],\n",
       "  'poblacion': 7132538,\n",
       "  'superficie': 406752},\n",
       " {'id': 1,\n",
       "  'nombre': 'Argentina',\n",
       "  'moneda': 'Peso argentino',\n",
       "  'lenguaje': ['Español'],\n",
       "  'poblacion': 45376763,\n",
       "  'superficie': 2780400},\n",
       " {'id': 2,\n",
       "  'nombre': 'Brasil',\n",
       "  'moneda': 'Real brasileño',\n",
       "  'lenguaje': ['Portugués'],\n",
       "  'poblacion': 212559417,\n",
       "  'superficie': 8515767},\n",
       " {'id': 3,\n",
       "  'nombre': 'Chile',\n",
       "  'moneda': 'Peso chileno',\n",
       "  'lenguaje': ['Español'],\n",
       "  'poblacion': 19116201,\n",
       "  'superficie': 756102},\n",
       " {'id': 4,\n",
       "  'nombre': 'Colombia',\n",
       "  'moneda': 'Peso colombiano',\n",
       "  'lenguaje': ['Español'],\n",
       "  'poblacion': 50976248,\n",
       "  'superficie': 1141748},\n",
       " {'id': 5,\n",
       "  'nombre': 'México',\n",
       "  'moneda': 'Peso mexicano',\n",
       "  'lenguaje': ['Español'],\n",
       "  'poblacion': 130262216,\n",
       "  'superficie': 1964375},\n",
       " {'id': 6,\n",
       "  'nombre': 'Perú',\n",
       "  'moneda': 'Sol peruano',\n",
       "  'lenguaje': ['Español'],\n",
       "  'poblacion': 32971854,\n",
       "  'superficie': 1285216},\n",
       " {'id': 7,\n",
       "  'nombre': 'Uruguay',\n",
       "  'moneda': 'Peso uruguayo',\n",
       "  'lenguaje': ['Español'],\n",
       "  'poblacion': 3461734,\n",
       "  'superficie': 176215},\n",
       " {'id': 8,\n",
       "  'nombre': 'Venezuela',\n",
       "  'moneda': 'Bolívar soberano',\n",
       "  'lenguaje': ['Español'],\n",
       "  'poblacion': 28515829,\n",
       "  'superficie': 916445},\n",
       " {'id': 9,\n",
       "  'nombre': 'Ecuador',\n",
       "  'moneda': 'Dólar estadounidense',\n",
       "  'lenguaje': ['Español'],\n",
       "  'poblacion': 17741423,\n",
       "  'superficie': 256370},\n",
       " {'id': 12,\n",
       "  'nombre': 'Costa Rica',\n",
       "  'moneda': 'Colón costarricense',\n",
       "  'lenguaje': ['Español'],\n",
       "  'poblacion': 5139775,\n",
       "  'superficie': 51100},\n",
       " {'id': 13,\n",
       "  'nombre': 'Cuba',\n",
       "  'moneda': 'Peso cubano',\n",
       "  'lenguaje': ['Español'],\n",
       "  'poblacion': 11326616,\n",
       "  'superficie': 109884}]"
      ]
     },
     "execution_count": 215,
     "metadata": {},
     "output_type": "execute_result"
    }
   ],
   "source": [
    "por_cant_de_idiomas"
   ]
  },
  {
   "cell_type": "code",
   "execution_count": 216,
   "metadata": {},
   "outputs": [
    {
     "name": "stdout",
     "output_type": "stream",
     "text": [
      "['carlos', 'Maria', 'juan', 'ana']\n"
     ]
    }
   ],
   "source": [
    "nombres = ['ana', 'juan', 'carlos', 'Maria']\n",
    "nombres_ordenados = sorted(nombres, key=len , reverse = True)\n",
    "print(nombres_ordenados)"
   ]
  },
  {
   "cell_type": "markdown",
   "metadata": {},
   "source": [
    "### Funciones especificas del paradigma Funcional\n"
   ]
  },
  {
   "cell_type": "markdown",
   "metadata": {},
   "source": [
    "\n",
    "Además de las herramientas que mencionamos anteriormente, también es importante conocer las funciones `map`, `filter` y `reduce` del módulo functools de Python. Estas funciones son comunes en el paradigma funcional y pueden ayudar a escribir código más expresivo y conciso en Python."
   ]
  },
  {
   "cell_type": "markdown",
   "metadata": {},
   "source": [
    "#### Funcion map  \n"
   ]
  },
  {
   "cell_type": "markdown",
   "metadata": {},
   "source": [
    "\n",
    "Toma una función y una secuencia como argumentos, y devuelve una nueva secuencia que contiene los resultados de aplicar la función a cada elemento de la secuencia original."
   ]
  },
  {
   "cell_type": "code",
   "execution_count": 217,
   "metadata": {},
   "outputs": [
    {
     "data": {
      "text/plain": [
       "<map at 0x110dee3af50>"
      ]
     },
     "execution_count": 217,
     "metadata": {},
     "output_type": "execute_result"
    }
   ],
   "source": [
    "def cuadrado(x):\n",
    "    return x ** 2\n",
    "\n",
    "numeros = (1, 2, 3, 4, 5)\n",
    "cuadrados = map(cuadrado, numeros)\n",
    "cuadrados"
   ]
  },
  {
   "cell_type": "code",
   "execution_count": 218,
   "metadata": {},
   "outputs": [
    {
     "name": "stdout",
     "output_type": "stream",
     "text": [
      "1\n",
      "4\n"
     ]
    },
    {
     "data": {
      "text/plain": [
       "9"
      ]
     },
     "execution_count": 218,
     "metadata": {},
     "output_type": "execute_result"
    }
   ],
   "source": [
    "print(next(cuadrados))\n",
    "print(next(cuadrados))\n",
    "next(cuadrados)"
   ]
  },
  {
   "cell_type": "code",
   "execution_count": 219,
   "metadata": {},
   "outputs": [],
   "source": [
    "datos=[3,4,5,6,7,8,9]"
   ]
  },
  {
   "cell_type": "code",
   "execution_count": 220,
   "metadata": {},
   "outputs": [
    {
     "name": "stdout",
     "output_type": "stream",
     "text": [
      "<class 'list'> [9, 16, 25, 36, 49, 64, 81]\n",
      "<class 'tuple'> (9, 16, 25, 36, 49, 64, 81)\n",
      "<class 'set'> {64, 36, 9, 16, 49, 81, 25}\n",
      "<class 'frozenset'> frozenset({64, 36, 9, 16, 49, 81, 25})\n"
     ]
    }
   ],
   "source": [
    "# tambien se puede convertir en un itarable con list, tuple, set, frozenset\n",
    "lista_dobles = list(map(cuadrado,datos))\n",
    "tupla_dobles = tuple(map(cuadrado,datos))\n",
    "conjunto_dobles = set(map(cuadrado,datos))\n",
    "conjunto_inm_dob = frozenset(map(cuadrado,datos))\n",
    "\n",
    "print(type(lista_dobles ),lista_dobles )\n",
    "print(type(tupla_dobles ),tupla_dobles )\n",
    "print(type(conjunto_dobles ),conjunto_dobles )\n",
    "print(type(conjunto_inm_dob ),conjunto_inm_dob )"
   ]
  },
  {
   "cell_type": "markdown",
   "metadata": {},
   "source": [
    "Con funciones con mas de un argumento"
   ]
  },
  {
   "cell_type": "code",
   "execution_count": 221,
   "metadata": {},
   "outputs": [],
   "source": [
    "def suma(x,y):\n",
    "    return x+y"
   ]
  },
  {
   "cell_type": "code",
   "execution_count": 222,
   "metadata": {},
   "outputs": [],
   "source": [
    "numeros1  = (1,2,3,4,5,6,7,8,9)\n",
    "numeros2  = [9,8,7,6,5,4,3,2,1]"
   ]
  },
  {
   "cell_type": "code",
   "execution_count": 223,
   "metadata": {},
   "outputs": [
    {
     "data": {
      "text/plain": [
       "[10, 10, 10, 10, 10, 10, 10, 10, 10]"
      ]
     },
     "execution_count": 223,
     "metadata": {},
     "output_type": "execute_result"
    }
   ],
   "source": [
    "resultado = list(map (suma, numeros1, numeros2 ))\n",
    "resultado"
   ]
  },
  {
   "cell_type": "markdown",
   "metadata": {},
   "source": [
    "#### Funcion filter\n"
   ]
  },
  {
   "cell_type": "markdown",
   "metadata": {},
   "source": [
    "\n",
    "Toma una función y una secuencia como argumentos, y devuelve una nueva secuencia que contiene sólo los elementos de la secuencia original para los cuales la función devuelve True."
   ]
  },
  {
   "cell_type": "code",
   "execution_count": 224,
   "metadata": {},
   "outputs": [
    {
     "data": {
      "text/plain": [
       "<filter at 0x110dec4e0e0>"
      ]
     },
     "execution_count": 224,
     "metadata": {},
     "output_type": "execute_result"
    }
   ],
   "source": [
    "def es_par(x):\n",
    "    return x % 2 == 0\n",
    "\n",
    "numeros = [1, 2, 3, 4, 5, 25,66,88,96,101]\n",
    "pares = filter(es_par, numeros)\n",
    "pares"
   ]
  },
  {
   "cell_type": "code",
   "execution_count": 225,
   "metadata": {},
   "outputs": [
    {
     "data": {
      "text/plain": [
       "False"
      ]
     },
     "execution_count": 225,
     "metadata": {},
     "output_type": "execute_result"
    }
   ],
   "source": [
    "bool(0)"
   ]
  },
  {
   "cell_type": "code",
   "execution_count": 226,
   "metadata": {},
   "outputs": [
    {
     "data": {
      "text/plain": [
       "(2, 4, 66, 88, 96)"
      ]
     },
     "execution_count": 226,
     "metadata": {},
     "output_type": "execute_result"
    }
   ],
   "source": [
    "tuple(pares)"
   ]
  },
  {
   "cell_type": "code",
   "execution_count": 227,
   "metadata": {},
   "outputs": [],
   "source": [
    "datos=(0,1,2,3,4,5,6,7,8,9,10,\"\",False,True,None,[],[1,2,3],{})"
   ]
  },
  {
   "cell_type": "markdown",
   "metadata": {},
   "source": [
    "pasandole una funcion que evalua si es True o False"
   ]
  },
  {
   "cell_type": "code",
   "execution_count": 228,
   "metadata": {},
   "outputs": [
    {
     "name": "stdout",
     "output_type": "stream",
     "text": [
      "[1, 2, 3, 4, 5, 6, 7, 8, 9, 10, True, [1, 2, 3]]\n"
     ]
    }
   ],
   "source": [
    "print(list (filter(lambda x : bool(x), datos)))"
   ]
  },
  {
   "cell_type": "markdown",
   "metadata": {},
   "source": [
    "es lo mismo pasando directamente bool"
   ]
  },
  {
   "cell_type": "code",
   "execution_count": 229,
   "metadata": {},
   "outputs": [
    {
     "name": "stdout",
     "output_type": "stream",
     "text": [
      "(1, 2, 3, 4, 5, 6, 7, 8, 9, 10, True, [1, 2, 3])\n"
     ]
    }
   ],
   "source": [
    "print(tuple(filter(bool, datos)))"
   ]
  },
  {
   "cell_type": "markdown",
   "metadata": {},
   "source": [
    "o directamente sin pasarle ninguna funcion solo un `None`"
   ]
  },
  {
   "cell_type": "code",
   "execution_count": 230,
   "metadata": {},
   "outputs": [
    {
     "name": "stdout",
     "output_type": "stream",
     "text": [
      "[1, 2, 3, 4, 5, 6, 7, 8, 9, 10, True, [1, 2, 3]]\n"
     ]
    }
   ],
   "source": [
    "print(list (filter(None, datos)))"
   ]
  },
  {
   "cell_type": "code",
   "execution_count": 231,
   "metadata": {},
   "outputs": [
    {
     "name": "stdout",
     "output_type": "stream",
     "text": [
      "(0, 1, 2, 3, 4, 5, 6, 7, 8, 9, 10, '', False, True, [], [1, 2, 3], {})\n"
     ]
    }
   ],
   "source": [
    "# Solo filtrando el None\n",
    "print(tuple (filter(lambda x : x is not None, datos)))"
   ]
  },
  {
   "cell_type": "code",
   "execution_count": 232,
   "metadata": {},
   "outputs": [
    {
     "name": "stdout",
     "output_type": "stream",
     "text": [
      "(0, 1, 2, 3, 4, 5, 6, 7, 8, 9, 10, '', False, None, [], [1, 2, 3], {})\n"
     ]
    }
   ],
   "source": [
    "# Solo Filtra el True\n",
    "print(tuple (filter(lambda x : x is not True, datos)))"
   ]
  },
  {
   "cell_type": "code",
   "execution_count": 233,
   "metadata": {},
   "outputs": [
    {
     "name": "stdout",
     "output_type": "stream",
     "text": [
      "[0, '', False, None, [], {}]\n"
     ]
    }
   ],
   "source": [
    "# Filtra todos los valores que no sean True evaluados con bool\n",
    "print(list (filter(lambda x : bool(x) is not True, datos)))"
   ]
  },
  {
   "cell_type": "code",
   "execution_count": 234,
   "metadata": {},
   "outputs": [
    {
     "name": "stdout",
     "output_type": "stream",
     "text": [
      "[0, '', False, None, [], {}]\n"
     ]
    }
   ],
   "source": [
    "print(list (filter(lambda x : not bool(x), datos)))"
   ]
  },
  {
   "cell_type": "code",
   "execution_count": 235,
   "metadata": {},
   "outputs": [],
   "source": [
    "metales= {\n",
    "    \"hierro\"   :10,\n",
    "    \"cobre\"    :11,\n",
    "    \"zinc\"     :25,\n",
    "    \"plata\"    :100,\n",
    "    \"oro\"      :500,\n",
    "    \"aluminio\" : 50,\n",
    "    \"plomo\"    : 25}"
   ]
  },
  {
   "cell_type": "markdown",
   "metadata": {},
   "source": [
    "pasandole un dicionario"
   ]
  },
  {
   "cell_type": "code",
   "execution_count": 236,
   "metadata": {},
   "outputs": [
    {
     "name": "stdout",
     "output_type": "stream",
     "text": [
      "['plata', 'oro']\n"
     ]
    }
   ],
   "source": [
    "print(list( filter( lambda x : (metales[x] >= 100) ,metales)))"
   ]
  },
  {
   "cell_type": "markdown",
   "metadata": {},
   "source": [
    "anidando filtros"
   ]
  },
  {
   "cell_type": "code",
   "execution_count": 237,
   "metadata": {},
   "outputs": [
    {
     "name": "stdout",
     "output_type": "stream",
     "text": [
      "['hierro', 'cobre', 'oro', 'aluminio', 'plomo']\n"
     ]
    }
   ],
   "source": [
    "print(list(filter(lambda x : \"o\" in x ,metales)))"
   ]
  },
  {
   "cell_type": "code",
   "execution_count": 238,
   "metadata": {},
   "outputs": [
    {
     "name": "stdout",
     "output_type": "stream",
     "text": [
      "['oro']\n"
     ]
    }
   ],
   "source": [
    "print( list ( filter (lambda x : \"o\" in x ,\n",
    "                      filter(lambda x : metales[x] >= 100 , \n",
    "                             metales) \n",
    "                      ) \n",
    "             ) \n",
    "      )"
   ]
  },
  {
   "cell_type": "markdown",
   "metadata": {},
   "source": [
    "Agregando condicionales al lambda "
   ]
  },
  {
   "cell_type": "code",
   "execution_count": 239,
   "metadata": {},
   "outputs": [
    {
     "data": {
      "text/plain": [
       "['oro', 'aluminio']"
      ]
     },
     "execution_count": 239,
     "metadata": {},
     "output_type": "execute_result"
    }
   ],
   "source": [
    "selecion = list(filter(\n",
    "    lambda x : (metales[x] >= 50) if \"o\" in  x else None,  \n",
    "    metales))\n",
    "selecion"
   ]
  },
  {
   "cell_type": "markdown",
   "metadata": {},
   "source": [
    "#### Funcion reduce\n"
   ]
  },
  {
   "cell_type": "markdown",
   "metadata": {},
   "source": [
    "\n",
    "Toma una función y una secuencia como argumentos, y devuelve un solo valor que es el resultado de aplicar la función a todos los elementos de la secuencia de forma acumulativa."
   ]
  },
  {
   "cell_type": "code",
   "execution_count": 240,
   "metadata": {},
   "outputs": [],
   "source": [
    "from functools import reduce\n",
    "resultado = reduce(lambda x, y: x * y, [1, 2, 3, 4,5,6,7,8,9,10])"
   ]
  },
  {
   "cell_type": "code",
   "execution_count": 241,
   "metadata": {},
   "outputs": [
    {
     "data": {
      "text/plain": [
       "3628800"
      ]
     },
     "execution_count": 241,
     "metadata": {},
     "output_type": "execute_result"
    }
   ],
   "source": [
    "resultado"
   ]
  },
  {
   "cell_type": "code",
   "execution_count": 242,
   "metadata": {},
   "outputs": [
    {
     "name": "stdout",
     "output_type": "stream",
     "text": [
      "15\n"
     ]
    }
   ],
   "source": [
    "from functools import reduce\n",
    "\n",
    "def suma(x, y):\n",
    "    return x + y\n",
    "\n",
    "numeros = [1, 2, 3, 4, 5]\n",
    "suma_total = reduce(suma, numeros)\n",
    "print(suma_total)  # 15"
   ]
  },
  {
   "cell_type": "markdown",
   "metadata": {},
   "source": [
    "##### ¿Por qué reduce() fue eliminada como built-in?\n",
    "\n",
    "`Guido van Rossum` (el creador de Python) decidió sacarla porque era menos legible que otras alternativas y rara vez se usaba en código Pythonico.\n",
    "\n",
    "📌 Razones principales:\n",
    "1️⃣ Menos legible que un simple bucle for\n",
    "\n",
    "- Python prioriza la claridad y reduce() a veces hacía el código más difícil de entender.\n",
    "  \n",
    "  Ejemplo:\n",
    "\n",
    "    ```python\n",
    "      from functools import reduce\n",
    "      resultado = reduce(lambda x, y: x * y, [1, 2, 3, 4])\n",
    "    ```\n",
    "\n",
    "  - 🔴 Alternativa más clara:\n",
    "\n",
    "    ```python\n",
    "      resultado = 1\n",
    "      for num in [1, 2, 3, 4]:\n",
    "        resultado *= num\n",
    "      print(resultado)\n",
    "    ```\n",
    "\n",
    "2️⃣ Otras funciones como `sum()`, `max()`, `min()` ya hacen lo mismo de forma más clara.\n",
    "\n",
    "  - En lugar de reduce(lambda x, y: x + y, lista), se usa sum(lista).\n",
    "  - En lugar de reduce(lambda x, y: x if x > y else y, lista), se usa max(lista).\n",
    "\n",
    "3️⃣ Se usaba poco en comparación con map() y filter()\n",
    "\n",
    "map() y filter() siguen siendo built-in porque son más comunes.\n",
    "\n",
    "  - 🔹 La opinión de Guido van Rossum\n",
    "\n",
    "    - 📌 En la lista de correo de desarrolladores de Python, Guido dijo que reduce() es menos legible y que se usaba más en lenguajes como Lisp. En Python, el uso de sum(), max(), min() o bucles explícitos es más claro.\n",
    "\n",
    "      > \"Estoy de acuerdo con la eliminación de reduce(). Casi siempre, una función como sum() es más clara.\"\n",
    "      Guido van Rossum\n",
    "\n",
    "\n",
    "\n",
    "Fuente: Lista de correos de Python-Dev\n",
    "\n"
   ]
  },
  {
   "cell_type": "markdown",
   "metadata": {},
   "source": [
    "#### ejemplo \n",
    "\n",
    "<h5>Hallar la suma del doble de los numeros pares</h5>"
   ]
  },
  {
   "cell_type": "code",
   "execution_count": 243,
   "metadata": {},
   "outputs": [],
   "source": [
    "datos=[3,8,11,16,21,24,30,35,40,45,50,55,60,65,70,75,80,85,90,95,100] * 1000000"
   ]
  },
  {
   "cell_type": "markdown",
   "metadata": {},
   "source": [
    "##### Con el paradigma imperativo"
   ]
  },
  {
   "cell_type": "code",
   "execution_count": 244,
   "metadata": {},
   "outputs": [
    {
     "name": "stdout",
     "output_type": "stream",
     "text": [
      "CPU times: total: 6.12 s\n",
      "Wall time: 8.31 s\n"
     ]
    },
    {
     "data": {
      "text/plain": [
       "1136000000"
      ]
     },
     "execution_count": 244,
     "metadata": {},
     "output_type": "execute_result"
    }
   ],
   "source": [
    "%%time\n",
    "suma = 0\n",
    "for i in datos:\n",
    "    if i%2 == 0:\n",
    "        suma += i*2\n",
    "suma"
   ]
  },
  {
   "cell_type": "markdown",
   "metadata": {},
   "source": [
    "##### Con un lista por compresión"
   ]
  },
  {
   "cell_type": "code",
   "execution_count": 245,
   "metadata": {},
   "outputs": [
    {
     "name": "stdout",
     "output_type": "stream",
     "text": [
      "CPU times: total: 3.66 s\n",
      "Wall time: 7.48 s\n"
     ]
    },
    {
     "data": {
      "text/plain": [
       "1136000000"
      ]
     },
     "execution_count": 245,
     "metadata": {},
     "output_type": "execute_result"
    }
   ],
   "source": [
    "%%time\n",
    "suma = sum ( [x*2 for x in datos if x % 2 ==0 ] )\n",
    "suma"
   ]
  },
  {
   "cell_type": "markdown",
   "metadata": {},
   "source": [
    "##### Con el paradigma funcional"
   ]
  },
  {
   "cell_type": "code",
   "execution_count": null,
   "metadata": {},
   "outputs": [
    {
     "name": "stdout",
     "output_type": "stream",
     "text": [
      "CPU times: total: 8.33 s\n",
      "Wall time: 12.8 s\n"
     ]
    },
    {
     "data": {
      "text/plain": [
       "1136000000"
      ]
     },
     "execution_count": 246,
     "metadata": {},
     "output_type": "execute_result"
    }
   ],
   "source": [
    "%%time\n",
    "\n",
    "suma = reduce( \n",
    "    lambda x,y : x + y ,  map( \n",
    "    lambda x   : x * 2 ,  filter( \n",
    "    lambda x   : x % 2 == 0, datos\n",
    "                                )\n",
    "                            )\n",
    "                )\n",
    "suma"
   ]
  },
  {
   "cell_type": "markdown",
   "metadata": {},
   "source": [
    "### Functools"
   ]
  },
  {
   "cell_type": "code",
   "execution_count": null,
   "metadata": {},
   "outputs": [],
   "source": [
    "import functools"
   ]
  },
  {
   "cell_type": "markdown",
   "metadata": {},
   "source": [
    "La biblioteca functools en Python proporciona herramientas avanzadas para trabajar con funciones de alto orden, optimización de rendimiento y manejo de decoradores.\n",
    "\n",
    "- 🔹 Principales funciones de functools\n",
    "\n",
    "<center>\n",
    "\n",
    "| Función |\tDescripción|\n",
    "|:-------:|:----------:|\n",
    "| reduce() | Aplica una función acumulativa a un iterable.|\n",
    "| lru_cache() |\tAlmacena en caché los resultados de una función para mejorar el rendimiento.|\n",
    "| partial() | Crea una nueva función con algunos argumentos predefinidos.|\n",
    "| cmp_to_key() | Convierte una función de comparación antigua (cmp) en una clave para sorted().|\n",
    "| wraps() |\tMantiene la metadata de una función al usar decoradores.|\n",
    "| total_ordering() | Simplifica la implementación de comparaciones en clases.|\n",
    "| singledispatch() | Implementa funciones genéricas basadas en el tipo del argumento.|\n",
    "\n",
    "</center>"
   ]
  },
  {
   "cell_type": "markdown",
   "metadata": {},
   "source": [
    "- `lru_cache()` → Caché de resultados\n",
    "\n",
    "Almacena los resultados de una función para evitar cálculos repetidos (útil en recursión).\n"
   ]
  },
  {
   "cell_type": "code",
   "execution_count": 247,
   "metadata": {},
   "outputs": [],
   "source": [
    "from functools import lru_cache\n",
    "\n",
    "@lru_cache(maxsize=100)  # Guarda hasta 100 resultados en memoria\n",
    "def fibonacci(n):\n",
    "    if n < 2:\n",
    "        return n\n",
    "    return fibonacci(n-1) + fibonacci(n-2)\n"
   ]
  },
  {
   "cell_type": "code",
   "execution_count": 248,
   "metadata": {},
   "outputs": [
    {
     "name": "stdout",
     "output_type": "stream",
     "text": [
      "12586269025\n",
      "CPU times: total: 15.6 ms\n",
      "Wall time: 5.15 ms\n"
     ]
    }
   ],
   "source": [
    "%%time\n",
    "print(fibonacci(50))  # Se ejecuta mucho más rápido gracias al caché\n"
   ]
  },
  {
   "cell_type": "code",
   "execution_count": 249,
   "metadata": {},
   "outputs": [
    {
     "name": "stdout",
     "output_type": "stream",
     "text": [
      "12586269025\n",
      "CPU times: total: 0 ns\n",
      "Wall time: 3.97 ms\n"
     ]
    }
   ],
   "source": [
    "%%time\n",
    "print(fibonacci(50))"
   ]
  },
  {
   "cell_type": "markdown",
   "metadata": {},
   "source": [
    "No necesariamente la funcion debe ser recursiva"
   ]
  },
  {
   "cell_type": "code",
   "execution_count": 250,
   "metadata": {},
   "outputs": [],
   "source": [
    "from functools import lru_cache\n",
    "\n",
    "@lru_cache(maxsize=10)  # Guarda hasta 10 valores en caché\n",
    "def celsius_a_fahrenheit(celsius):\n",
    "    print(f\"Calculando para {celsius}°C...\")\n",
    "    return (celsius * 9/5) + 32\n"
   ]
  },
  {
   "cell_type": "code",
   "execution_count": 251,
   "metadata": {},
   "outputs": [
    {
     "name": "stdout",
     "output_type": "stream",
     "text": [
      "Calculando para 25°C...\n",
      "77.0\n",
      "Calculando para 30°C...\n",
      "86.0\n"
     ]
    }
   ],
   "source": [
    "\n",
    "print(celsius_a_fahrenheit(25))  # Calcula y almacena en caché\n",
    "print(celsius_a_fahrenheit(30))  # Calcula y almacena en caché\n"
   ]
  },
  {
   "cell_type": "code",
   "execution_count": 252,
   "metadata": {},
   "outputs": [
    {
     "name": "stdout",
     "output_type": "stream",
     "text": [
      "77.0\n"
     ]
    }
   ],
   "source": [
    "print(celsius_a_fahrenheit(25))  # Recupera de la caché (¡sin calcular de nuevo!)"
   ]
  },
  {
   "cell_type": "markdown",
   "metadata": {},
   "source": [
    "Ejemplo con acceso a base de datos (simulado)"
   ]
  },
  {
   "cell_type": "code",
   "execution_count": 253,
   "metadata": {},
   "outputs": [],
   "source": [
    "import time\n",
    "from functools import lru_cache\n",
    "\n",
    "@lru_cache(maxsize=None)  # Caché sin límite de tamaño\n",
    "def obtener_usuario(id_usuario):\n",
    "    print(f\"Consultando usuario {id_usuario} en la base de datos...\")\n",
    "    time.sleep(2)  # Simula una consulta lenta\n",
    "    return {\"id\": id_usuario, \"nombre\": f\"Usuario {id_usuario}\"}"
   ]
  },
  {
   "cell_type": "code",
   "execution_count": 257,
   "metadata": {},
   "outputs": [
    {
     "name": "stdout",
     "output_type": "stream",
     "text": [
      "Consultando usuario 1 en la base de datos...\n",
      "{'id': 1, 'nombre': 'Usuario 1'}\n",
      "{'id': 2, 'nombre': 'Usuario 2'}\n",
      "{'id': 1, 'nombre': 'Usuario 1'}\n"
     ]
    }
   ],
   "source": [
    "\n",
    "print(obtener_usuario(1))  # Primera vez (consulta real)\n",
    "print(obtener_usuario(2))  # Primera vez (consulta real)\n",
    "print(obtener_usuario(1))  # Recuperado del caché (¡sin demora!)\n"
   ]
  },
  {
   "cell_type": "markdown",
   "metadata": {},
   "source": [
    "Para limpiar la caché de una función decorada con @lru_cache(), puedes usar el método .cache_clear()\n"
   ]
  },
  {
   "cell_type": "code",
   "execution_count": 255,
   "metadata": {},
   "outputs": [
    {
     "name": "stdout",
     "output_type": "stream",
     "text": [
      "Consultando usuario 2 en la base de datos...\n",
      "{'id': 2, 'nombre': 'Usuario 2'}\n"
     ]
    }
   ],
   "source": [
    "obtener_usuario.cache_clear()  # Limpiar la caché\n",
    "print(obtener_usuario(2))"
   ]
  },
  {
   "cell_type": "code",
   "execution_count": 258,
   "metadata": {},
   "outputs": [
    {
     "name": "stdout",
     "output_type": "stream",
     "text": [
      "CacheInfo(hits=2, misses=2, maxsize=None, currsize=2)\n"
     ]
    }
   ],
   "source": [
    "print(obtener_usuario.cache_info()) #info del cache"
   ]
  },
  {
   "cell_type": "markdown",
   "metadata": {},
   "source": [
    "- hits: Cuántas veces se usó el caché.\n",
    "- misses: Cuántas veces se tuvo que calcular sin caché.\n",
    "- maxsize: Cuántos elementos puede almacenar.\n",
    "- currsize: Cuántos elementos hay en caché actualmente."
   ]
  },
  {
   "cell_type": "markdown",
   "metadata": {},
   "source": [
    "- `partial()` → Funciones con argumentos fijos\n",
    "\n",
    "Crea una nueva función con valores predefinidos para algunos argumentos.\n"
   ]
  },
  {
   "cell_type": "code",
   "execution_count": 259,
   "metadata": {},
   "outputs": [],
   "source": [
    "from functools import partial\n",
    "\n",
    "def potencia(base, exponente):\n",
    "    return base ** exponente\n"
   ]
  },
  {
   "cell_type": "code",
   "execution_count": 260,
   "metadata": {},
   "outputs": [],
   "source": [
    "\n",
    "cuadrado = partial(potencia, exponente=2)  # Fija el exponente en 2\n",
    "raiz_cuadrada = partial(potencia, exponente=0.5)  # Fija el exponente en 0.5\n"
   ]
  },
  {
   "cell_type": "code",
   "execution_count": 261,
   "metadata": {},
   "outputs": [
    {
     "name": "stdout",
     "output_type": "stream",
     "text": [
      "25\n"
     ]
    }
   ],
   "source": [
    "\n",
    "print(cuadrado(5))  # 25\n"
   ]
  },
  {
   "cell_type": "code",
   "execution_count": 262,
   "metadata": {},
   "outputs": [
    {
     "name": "stdout",
     "output_type": "stream",
     "text": [
      "5.0\n"
     ]
    }
   ],
   "source": [
    "print(raiz_cuadrada(25))  # 5.0"
   ]
  },
  {
   "cell_type": "markdown",
   "metadata": {},
   "source": [
    "- `cmp_to_key()` → Ordenar con comparación personalizada\n",
    "\n",
    "Convierte una función de comparación en una clave para sorted()."
   ]
  },
  {
   "cell_type": "code",
   "execution_count": 263,
   "metadata": {},
   "outputs": [
    {
     "name": "stdout",
     "output_type": "stream",
     "text": [
      "['nación', 'naranja', 'niño', 'nube', 'oso', 'ñandú']\n"
     ]
    }
   ],
   "source": [
    "palabras = [\"nube\", \"niño\", \"nación\", \"naranja\", \"ñandú\", \"oso\"]\n",
    "ordenadas = sorted(palabras)\n",
    "print(ordenadas)"
   ]
  },
  {
   "cell_type": "code",
   "execution_count": 264,
   "metadata": {},
   "outputs": [
    {
     "data": {
      "text/plain": [
       "['Nación', 'Naranja', 'Niño', 'Nube', 'Oso', 'Ñandú']"
      ]
     },
     "execution_count": 264,
     "metadata": {},
     "output_type": "execute_result"
    }
   ],
   "source": [
    "palabras = [\"Nube\", \"Niño\", \"Nación\", \"Naranja\", \"Ñandú\", \"Oso\"]\n",
    "sorted(palabras)"
   ]
  },
  {
   "cell_type": "code",
   "execution_count": 265,
   "metadata": {},
   "outputs": [],
   "source": [
    "from functools import cmp_to_key\n",
    "\n",
    "def comparar_español(a, b):\n",
    "    # Reemplazamos \"ñ\" por un carácter que se ordene correctamente\n",
    "    def transformar(palabra):\n",
    "        return palabra.replace(\"ñ\", \"n~\").replace(\"Ñ\", \"N~\")  # \"N~\"  o \"n~\" se ordena después de \"N\" o \"n\" y antes de \"O\"\n",
    "\n",
    "    if transformar(a) < transformar(b):\n",
    "        return -1\n",
    "    elif transformar(a) > transformar(b):\n",
    "        return 1\n",
    "    else:\n",
    "        return 0\n"
   ]
  },
  {
   "cell_type": "code",
   "execution_count": 266,
   "metadata": {},
   "outputs": [
    {
     "name": "stdout",
     "output_type": "stream",
     "text": [
      "['nación', 'naranja', 'niño', 'nube', 'ñandú', 'oso']\n"
     ]
    }
   ],
   "source": [
    "\n",
    "palabras = [\"nube\", \"niño\", \"nación\", \"naranja\", \"ñandú\", \"oso\"]\n",
    "ordenadas = sorted(palabras, key = cmp_to_key(comparar_español))\n",
    "\n",
    "print(ordenadas)  # ['nación', 'naranja', 'niño', 'nube', 'ñandú', 'oso']"
   ]
  },
  {
   "cell_type": "code",
   "execution_count": 267,
   "metadata": {},
   "outputs": [
    {
     "name": "stdout",
     "output_type": "stream",
     "text": [
      "['Nación', 'Naranja', 'Niño', 'Nube', 'Ñandú', 'Oso']\n"
     ]
    }
   ],
   "source": [
    "palabras = [\"Nube\", \"Niño\", \"Nación\", \"Naranja\", \"Ñandú\", \"Oso\"]\n",
    "ordenadas = sorted(palabras, key=cmp_to_key(comparar_español))\n",
    "\n",
    "print(ordenadas)"
   ]
  },
  {
   "cell_type": "markdown",
   "metadata": {},
   "source": [
    "- `wraps()` → Mantener metadata de funciones en decoradores\n",
    "\n",
    "Evita perder el nombre y la documentación de una función al decorarla."
   ]
  },
  {
   "cell_type": "code",
   "execution_count": 268,
   "metadata": {},
   "outputs": [],
   "source": [
    "from functools import wraps\n",
    "\n",
    "def decorador(func):\n",
    "    \"\"\"Decorador que imprime el nombre de la función.\"\"\"\n",
    "    @wraps(func)\n",
    "    def envoltura(*args, **kwargs):\n",
    "        print(f\"Llamando a {func.__name__}\")\n",
    "        return func(*args, **kwargs)\n",
    "    return envoltura\n",
    "\n",
    "@decorador\n",
    "def saludo():\n",
    "    \"\"\"Función que imprime un saludo.\"\"\"\n",
    "    print(\"¡Hola!\")\n"
   ]
  },
  {
   "cell_type": "code",
   "execution_count": 269,
   "metadata": {},
   "outputs": [
    {
     "name": "stdout",
     "output_type": "stream",
     "text": [
      "Llamando a saludo\n",
      "¡Hola!\n"
     ]
    }
   ],
   "source": [
    "saludo()"
   ]
  },
  {
   "cell_type": "code",
   "execution_count": 270,
   "metadata": {},
   "outputs": [
    {
     "name": "stdout",
     "output_type": "stream",
     "text": [
      "saludo\n"
     ]
    }
   ],
   "source": [
    "print(saludo.__name__)  # \"saludo\" (sin `@wraps`, sería \"envoltura\")\n"
   ]
  },
  {
   "cell_type": "code",
   "execution_count": 271,
   "metadata": {},
   "outputs": [
    {
     "name": "stdout",
     "output_type": "stream",
     "text": [
      "Función que imprime un saludo.\n"
     ]
    }
   ],
   "source": [
    "print(saludo.__doc__)   # \"Función que imprime un saludo.\""
   ]
  },
  {
   "cell_type": "code",
   "execution_count": 272,
   "metadata": {},
   "outputs": [
    {
     "name": "stdout",
     "output_type": "stream",
     "text": [
      "Help on function saludo in module __main__:\n",
      "\n",
      "saludo()\n",
      "    Función que imprime un saludo.\n",
      "\n"
     ]
    }
   ],
   "source": [
    "help(saludo)"
   ]
  },
  {
   "cell_type": "markdown",
   "metadata": {},
   "source": [
    "- `singledispatch()` → Sobrecarga de funciones\n",
    "\n",
    "Permite definir funciones genéricas basadas en el tipo del argumento."
   ]
  },
  {
   "cell_type": "code",
   "execution_count": 273,
   "metadata": {},
   "outputs": [],
   "source": [
    "from functools import singledispatch\n",
    "\n",
    "@singledispatch\n",
    "def procesar(dato):\n",
    "    raise NotImplementedError(\"Tipo no soportado\")\n"
   ]
  },
  {
   "cell_type": "code",
   "execution_count": 274,
   "metadata": {},
   "outputs": [
    {
     "ename": "NotImplementedError",
     "evalue": "Tipo no soportado",
     "output_type": "error",
     "traceback": [
      "\u001b[1;31m---------------------------------------------------------------------------\u001b[0m",
      "\u001b[1;31mNotImplementedError\u001b[0m                       Traceback (most recent call last)",
      "Cell \u001b[1;32mIn[274], line 1\u001b[0m\n\u001b[1;32m----> 1\u001b[0m \u001b[43mprocesar\u001b[49m\u001b[43m(\u001b[49m\u001b[38;5;124;43m\"\u001b[39;49m\u001b[38;5;124;43mjasdaj\u001b[39;49m\u001b[38;5;124;43m\"\u001b[39;49m\u001b[43m)\u001b[49m\n",
      "File \u001b[1;32m~\\AppData\\Local\\Programs\\Python\\Python313\\Lib\\functools.py:931\u001b[0m, in \u001b[0;36msingledispatch.<locals>.wrapper\u001b[1;34m(*args, **kw)\u001b[0m\n\u001b[0;32m    928\u001b[0m \u001b[38;5;28;01mif\u001b[39;00m \u001b[38;5;129;01mnot\u001b[39;00m args:\n\u001b[0;32m    929\u001b[0m     \u001b[38;5;28;01mraise\u001b[39;00m \u001b[38;5;167;01mTypeError\u001b[39;00m(\u001b[38;5;124mf\u001b[39m\u001b[38;5;124m'\u001b[39m\u001b[38;5;132;01m{\u001b[39;00mfuncname\u001b[38;5;132;01m}\u001b[39;00m\u001b[38;5;124m requires at least \u001b[39m\u001b[38;5;124m'\u001b[39m\n\u001b[0;32m    930\u001b[0m                     \u001b[38;5;124m'\u001b[39m\u001b[38;5;124m1 positional argument\u001b[39m\u001b[38;5;124m'\u001b[39m)\n\u001b[1;32m--> 931\u001b[0m \u001b[38;5;28;01mreturn\u001b[39;00m \u001b[43mdispatch\u001b[49m\u001b[43m(\u001b[49m\u001b[43margs\u001b[49m\u001b[43m[\u001b[49m\u001b[38;5;241;43m0\u001b[39;49m\u001b[43m]\u001b[49m\u001b[38;5;241;43m.\u001b[39;49m\u001b[38;5;18;43m__class__\u001b[39;49m\u001b[43m)\u001b[49m\u001b[43m(\u001b[49m\u001b[38;5;241;43m*\u001b[39;49m\u001b[43margs\u001b[49m\u001b[43m,\u001b[49m\u001b[43m \u001b[49m\u001b[38;5;241;43m*\u001b[39;49m\u001b[38;5;241;43m*\u001b[39;49m\u001b[43mkw\u001b[49m\u001b[43m)\u001b[49m\n",
      "Cell \u001b[1;32mIn[273], line 5\u001b[0m, in \u001b[0;36mprocesar\u001b[1;34m(dato)\u001b[0m\n\u001b[0;32m      3\u001b[0m \u001b[38;5;129m@singledispatch\u001b[39m\n\u001b[0;32m      4\u001b[0m \u001b[38;5;28;01mdef\u001b[39;00m\u001b[38;5;250m \u001b[39m\u001b[38;5;21mprocesar\u001b[39m(dato):\n\u001b[1;32m----> 5\u001b[0m     \u001b[38;5;28;01mraise\u001b[39;00m \u001b[38;5;167;01mNotImplementedError\u001b[39;00m(\u001b[38;5;124m\"\u001b[39m\u001b[38;5;124mTipo no soportado\u001b[39m\u001b[38;5;124m\"\u001b[39m)\n",
      "\u001b[1;31mNotImplementedError\u001b[0m: Tipo no soportado"
     ]
    }
   ],
   "source": [
    "procesar(\"jasdaj\")"
   ]
  },
  {
   "cell_type": "code",
   "execution_count": 275,
   "metadata": {},
   "outputs": [],
   "source": [
    "\n",
    "@procesar.register(str)\n",
    "def _(dato):\n",
    "    return dato.upper()\n"
   ]
  },
  {
   "cell_type": "code",
   "execution_count": 276,
   "metadata": {},
   "outputs": [
    {
     "data": {
      "text/plain": [
       "'JASDAJ'"
      ]
     },
     "execution_count": 276,
     "metadata": {},
     "output_type": "execute_result"
    }
   ],
   "source": [
    "procesar(\"jasdaj\")"
   ]
  },
  {
   "cell_type": "code",
   "execution_count": 277,
   "metadata": {},
   "outputs": [
    {
     "ename": "NotImplementedError",
     "evalue": "Tipo no soportado",
     "output_type": "error",
     "traceback": [
      "\u001b[1;31m---------------------------------------------------------------------------\u001b[0m",
      "\u001b[1;31mNotImplementedError\u001b[0m                       Traceback (most recent call last)",
      "Cell \u001b[1;32mIn[277], line 1\u001b[0m\n\u001b[1;32m----> 1\u001b[0m \u001b[43mprocesar\u001b[49m\u001b[43m(\u001b[49m\u001b[38;5;241;43m10\u001b[39;49m\u001b[43m)\u001b[49m\n",
      "File \u001b[1;32m~\\AppData\\Local\\Programs\\Python\\Python313\\Lib\\functools.py:931\u001b[0m, in \u001b[0;36msingledispatch.<locals>.wrapper\u001b[1;34m(*args, **kw)\u001b[0m\n\u001b[0;32m    928\u001b[0m \u001b[38;5;28;01mif\u001b[39;00m \u001b[38;5;129;01mnot\u001b[39;00m args:\n\u001b[0;32m    929\u001b[0m     \u001b[38;5;28;01mraise\u001b[39;00m \u001b[38;5;167;01mTypeError\u001b[39;00m(\u001b[38;5;124mf\u001b[39m\u001b[38;5;124m'\u001b[39m\u001b[38;5;132;01m{\u001b[39;00mfuncname\u001b[38;5;132;01m}\u001b[39;00m\u001b[38;5;124m requires at least \u001b[39m\u001b[38;5;124m'\u001b[39m\n\u001b[0;32m    930\u001b[0m                     \u001b[38;5;124m'\u001b[39m\u001b[38;5;124m1 positional argument\u001b[39m\u001b[38;5;124m'\u001b[39m)\n\u001b[1;32m--> 931\u001b[0m \u001b[38;5;28;01mreturn\u001b[39;00m \u001b[43mdispatch\u001b[49m\u001b[43m(\u001b[49m\u001b[43margs\u001b[49m\u001b[43m[\u001b[49m\u001b[38;5;241;43m0\u001b[39;49m\u001b[43m]\u001b[49m\u001b[38;5;241;43m.\u001b[39;49m\u001b[38;5;18;43m__class__\u001b[39;49m\u001b[43m)\u001b[49m\u001b[43m(\u001b[49m\u001b[38;5;241;43m*\u001b[39;49m\u001b[43margs\u001b[49m\u001b[43m,\u001b[49m\u001b[43m \u001b[49m\u001b[38;5;241;43m*\u001b[39;49m\u001b[38;5;241;43m*\u001b[39;49m\u001b[43mkw\u001b[49m\u001b[43m)\u001b[49m\n",
      "Cell \u001b[1;32mIn[273], line 5\u001b[0m, in \u001b[0;36mprocesar\u001b[1;34m(dato)\u001b[0m\n\u001b[0;32m      3\u001b[0m \u001b[38;5;129m@singledispatch\u001b[39m\n\u001b[0;32m      4\u001b[0m \u001b[38;5;28;01mdef\u001b[39;00m\u001b[38;5;250m \u001b[39m\u001b[38;5;21mprocesar\u001b[39m(dato):\n\u001b[1;32m----> 5\u001b[0m     \u001b[38;5;28;01mraise\u001b[39;00m \u001b[38;5;167;01mNotImplementedError\u001b[39;00m(\u001b[38;5;124m\"\u001b[39m\u001b[38;5;124mTipo no soportado\u001b[39m\u001b[38;5;124m\"\u001b[39m)\n",
      "\u001b[1;31mNotImplementedError\u001b[0m: Tipo no soportado"
     ]
    }
   ],
   "source": [
    "procesar(10)"
   ]
  },
  {
   "cell_type": "code",
   "execution_count": 278,
   "metadata": {},
   "outputs": [],
   "source": [
    "\n",
    "@procesar.register(int)\n",
    "def _(dato):\n",
    "    return dato * 2"
   ]
  },
  {
   "cell_type": "code",
   "execution_count": 280,
   "metadata": {},
   "outputs": [
    {
     "name": "stdout",
     "output_type": "stream",
     "text": [
      "PYTHON\n"
     ]
    }
   ],
   "source": [
    "print(procesar(\"python\"))"
   ]
  },
  {
   "cell_type": "code",
   "execution_count": 279,
   "metadata": {},
   "outputs": [
    {
     "name": "stdout",
     "output_type": "stream",
     "text": [
      "20\n"
     ]
    }
   ],
   "source": [
    "print(procesar(10)) "
   ]
  },
  {
   "cell_type": "markdown",
   "metadata": {},
   "source": [
    "- total_ordering() → Comparaciones en clases (POO)\n",
    "\n",
    "Permite definir una sola comparación en una clase y generar las demás automáticamente.\n",
    "\n"
   ]
  },
  {
   "cell_type": "code",
   "execution_count": 281,
   "metadata": {},
   "outputs": [
    {
     "name": "stdout",
     "output_type": "stream",
     "text": [
      "True\n",
      "False\n"
     ]
    }
   ],
   "source": [
    "from functools import total_ordering\n",
    "\n",
    "@total_ordering\n",
    "class Persona:\n",
    "    def __init__(self, edad):\n",
    "        self.edad = edad\n",
    "\n",
    "    def __eq__(self, other):\n",
    "        return self.edad == other.edad\n",
    "\n",
    "    def __lt__(self, other):\n",
    "        return self.edad < other.edad  # Con `total_ordering`, Python genera `<=`, `>`, `>=`\n",
    "\n",
    "p1 = Persona(25)\n",
    "p2 = Persona(30)\n",
    "\n",
    "print(p1 < p2)  # True\n",
    "print(p1 >= p2) # False (Python lo deduce a partir de `__lt__`)"
   ]
  },
  {
   "cell_type": "markdown",
   "metadata": {},
   "source": [
    "🎯 Conclusión\n",
    "\n",
    "functools ofrece herramientas avanzadas para programación funcional, optimización y decoradores.\n",
    "\n",
    "- 🚀 lru_cache() → Acelera funciones repetitivas.\n",
    "- 🚀 partial() → Crea funciones con parámetros predefinidos.\n",
    "- 🚀 cmp_to_key() → Facilita ordenaciones personalizadas.\n",
    "- 🚀 wraps() → Mantiene metadata en decoradores.\n",
    "- 🚀 total_ordering() → Simplifica comparaciones en clases.\n",
    "- 🚀 singledispatch() → Permite sobrecarga de funciones."
   ]
  },
  {
   "cell_type": "markdown",
   "metadata": {},
   "source": []
  }
 ],
 "metadata": {
  "kernelspec": {
   "display_name": "py313",
   "language": "python",
   "name": "py313"
  },
  "language_info": {
   "codemirror_mode": {
    "name": "ipython",
    "version": 3
   },
   "file_extension": ".py",
   "mimetype": "text/x-python",
   "name": "python",
   "nbconvert_exporter": "python",
   "pygments_lexer": "ipython3",
   "version": "3.13.1"
  }
 },
 "nbformat": 4,
 "nbformat_minor": 2
}
