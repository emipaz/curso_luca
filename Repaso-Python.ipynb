{
 "cells": [
  {
   "cell_type": "markdown",
   "metadata": {
    "vscode": {
     "languageId": "plaintext"
    }
   },
   "source": [
    "## Variables"
   ]
  },
  {
   "cell_type": "markdown",
   "metadata": {},
   "source": [
    "Las reglas para asignar variables son:\n",
    "\n",
    "- Las variables pueden contener cualquier caracter menos + - * / , . parentesis  corchetes y llaves\n",
    "- Pueden contener numeros pero no pueden iniciar con numeros\n",
    "- no se pueden usar la palabras reservadas del lenguaje, si palabras claves\n",
    "- python diferencia entre mayusculas y minusculas\n"
   ]
  },
  {
   "cell_type": "code",
   "execution_count": null,
   "metadata": {},
   "outputs": [],
   "source": [
    "var = \"variable\"\n",
    "VAR = \"otra variable\"\n",
    "print(var, VAR)"
   ]
  },
  {
   "cell_type": "code",
   "execution_count": null,
   "metadata": {},
   "outputs": [],
   "source": [
    "_1var = 1 # permitido\n",
    "print(_1var)"
   ]
  },
  {
   "cell_type": "code",
   "execution_count": null,
   "metadata": {},
   "outputs": [],
   "source": [
    "1var = 1 # No permitido\n",
    "print(1var)"
   ]
  },
  {
   "cell_type": "markdown",
   "metadata": {},
   "source": [
    "Palabras Reservadas del lenguaje no se pueden usar como identificadores"
   ]
  },
  {
   "cell_type": "code",
   "execution_count": null,
   "metadata": {},
   "outputs": [],
   "source": [
    "import keyword\n",
    "print(\"Palabras Reservadas:\")\n",
    "print(\"\\t\\t\",*keyword.kwlist, sep=\"\\n\\t\\t\")"
   ]
  },
  {
   "cell_type": "code",
   "execution_count": null,
   "metadata": {},
   "outputs": [],
   "source": [
    "yield = \"hola\""
   ]
  },
  {
   "cell_type": "markdown",
   "metadata": {},
   "source": [
    "No se pueden usar como nombres de variables"
   ]
  },
  {
   "cell_type": "markdown",
   "metadata": {},
   "source": [
    "Las Palabras claves si se pueden usar como identificadores aunque no es recomendable."
   ]
  },
  {
   "cell_type": "code",
   "execution_count": null,
   "metadata": {},
   "outputs": [],
   "source": [
    "import keyword\n",
    "print(\"palabras claves:\")\n",
    "print(\"\\t\\t\",*keyword.softkwlist, sep=\"\\n\\t\\t\")"
   ]
  },
  {
   "cell_type": "markdown",
   "metadata": {},
   "source": [
    "Diferencia entre palabras clave y palabras reservadas\n",
    "\n",
    "- Palabras claves:\n",
    "\n",
    "    Son términos que tienen un significado especial en el lenguaje y que aunque se puedan usar como identificadores (nombres de variables, funciones, etc.)m no seria nada recomendable. \n",
    "    En Python, match y case son ejemplos de palabras clave.\n",
    "\n",
    "- Palabras reservadas: \n",
    "\n",
    "    Es un término más general que a menudo se usa para referirse a cualquier palabra (que son parte de la sintaxis del lenguaje) que no se puede usar como identificador. \n",
    "    En muchos lenguajes de programación, las palabras reservadas son un subconjunto de las palabras clave."
   ]
  },
  {
   "cell_type": "code",
   "execution_count": null,
   "metadata": {},
   "outputs": [],
   "source": [
    "_ = \"hola\"\n",
    "\n",
    "print(_)"
   ]
  },
  {
   "cell_type": "markdown",
   "metadata": {},
   "source": [
    "Python nos provee una cantidad de herramientas (clases, funciones) que si podriamos usar como identificadores `PERDIENDO LA FUNCION O LA CLASE` echo muy perjudicial."
   ]
  },
  {
   "cell_type": "code",
   "execution_count": null,
   "metadata": {},
   "outputs": [],
   "source": [
    "import builtins\n",
    "# Filtrar solo las funciones\n",
    "funciones = [f for f in dir(builtins) if callable(getattr(builtins, f))]\n",
    "print(\"Funciones Python:\")\n",
    "print(\"\\t\\t\", *funciones, sep=\"\\n\\t\\t\")"
   ]
  },
  {
   "cell_type": "markdown",
   "metadata": {},
   "source": [
    "ejemplo usando palabras claves como match y case"
   ]
  },
  {
   "cell_type": "code",
   "execution_count": null,
   "metadata": {},
   "outputs": [],
   "source": [
    "match = 2\n",
    "case = 2 "
   ]
  },
  {
   "cell_type": "code",
   "execution_count": null,
   "metadata": {},
   "outputs": [],
   "source": [
    "match match:\n",
    "    case case:\n",
    "        print(f\"{match=} {case=}\")"
   ]
  },
  {
   "cell_type": "markdown",
   "metadata": {},
   "source": [
    "se puede observar que se puede seguir usando como estructura de flujo"
   ]
  },
  {
   "cell_type": "code",
   "execution_count": null,
   "metadata": {},
   "outputs": [],
   "source": [
    "type(match)"
   ]
  },
  {
   "cell_type": "markdown",
   "metadata": {},
   "source": [
    "En el caso de `type` tambien es una clase y la perderiamos al usarla como identificadoe"
   ]
  },
  {
   "cell_type": "code",
   "execution_count": null,
   "metadata": {},
   "outputs": [],
   "source": [
    "type(type)"
   ]
  },
  {
   "cell_type": "code",
   "execution_count": null,
   "metadata": {},
   "outputs": [],
   "source": [
    "tipo = type # guadro la clase en un identificador para no perderla\n",
    "type = \"pise la clase type\""
   ]
  },
  {
   "cell_type": "code",
   "execution_count": null,
   "metadata": {},
   "outputs": [],
   "source": [
    "tipo(type)"
   ]
  },
  {
   "cell_type": "markdown",
   "metadata": {},
   "source": [
    "A diferencia de otros lenguajes, una variable en `Python` (al ser una referencia a otro objeto) no tiene ningún tipo asociado, toda la información está almacenada en el objeto original. "
   ]
  },
  {
   "cell_type": "code",
   "execution_count": null,
   "metadata": {},
   "outputs": [],
   "source": [
    "var = 10\n",
    "print(tipo(var), var)\n",
    "var = \"diez\"\n",
    "print(tipo(var), var)"
   ]
  },
  {
   "cell_type": "code",
   "execution_count": null,
   "metadata": {},
   "outputs": [],
   "source": [
    "type = tipo # devuelvo la clase type "
   ]
  },
  {
   "cell_type": "code",
   "execution_count": null,
   "metadata": {},
   "outputs": [],
   "source": [
    "imprimir = print\n",
    "imprimir(\"hola\")"
   ]
  },
  {
   "cell_type": "markdown",
   "metadata": {},
   "source": [
    "## Expresiones.\n",
    "\n",
    "Una expresión es una combinación de valores, operadores, funciones y métodos que da por resultado un valor en una sola línea.\n",
    "\n"
   ]
  },
  {
   "cell_type": "markdown",
   "metadata": {},
   "source": [
    "<center>\n",
    "\n",
    "\n",
    "|Operador|Descripción|\n",
    "|:------:|:---------:|\n",
    "|*+*       |Suma       |\n",
    "|*-* \t     |Resta      |\n",
    "|*-*       |Negativo   |\n",
    "|*\\**      |Multiplicación|\n",
    "|_\\*\\*_ \t |Exponente  |\n",
    "|*/* \t     |División   |\n",
    "|*//*      |División entera|\n",
    "|*%*       |Residuo    |    \n",
    "\n",
    "</center>\n"
   ]
  },
  {
   "cell_type": "markdown",
   "metadata": {},
   "source": [
    "\n",
    "**Ejemplos:**"
   ]
  },
  {
   "cell_type": "code",
   "execution_count": null,
   "metadata": {},
   "outputs": [],
   "source": [
    "10 / 3"
   ]
  },
  {
   "cell_type": "code",
   "execution_count": null,
   "metadata": {},
   "outputs": [],
   "source": [
    "10 // 3"
   ]
  },
  {
   "cell_type": "code",
   "execution_count": null,
   "metadata": {},
   "outputs": [],
   "source": [
    "10 % 3"
   ]
  },
  {
   "cell_type": "markdown",
   "metadata": {},
   "source": [
    "\n",
    "Python identifica a los número enteros como un tipo de dato el cual puede ser expresado de la siguiente manera. \n",
    "\n",
    "- Decimal: *24*, *60*\n",
    "- Binario: _0b010011_, _0b1101_ \n",
    "- Hexadecimal: _0x18_, _0x3cf4_\n",
    "- Octal: _030_, _074_\n",
    "\n",
    "Se pueden hacer operaciones en los distintos bases, pero python nos mostrara el decimal\n"
   ]
  },
  {
   "cell_type": "code",
   "execution_count": null,
   "metadata": {},
   "outputs": [],
   "source": [
    "0b1010 * 0XB # 10 en binario y 11 en hexadecimal"
   ]
  },
  {
   "cell_type": "code",
   "execution_count": null,
   "metadata": {},
   "outputs": [],
   "source": [
    "type(0XB) # tipo entero"
   ]
  },
  {
   "cell_type": "markdown",
   "metadata": {},
   "source": [
    "función bin(), oct() y hex()"
   ]
  },
  {
   "cell_type": "code",
   "execution_count": null,
   "metadata": {},
   "outputs": [],
   "source": [
    "diez = 10\n",
    "print(diez)\n",
    "print(bin(diez))\n",
    "print(oct(diez))\n",
    "print(hex(diez))"
   ]
  },
  {
   "cell_type": "code",
   "execution_count": null,
   "metadata": {},
   "outputs": [],
   "source": [
    "# help(int) # ayuda de una clase"
   ]
  },
  {
   "cell_type": "code",
   "execution_count": null,
   "metadata": {},
   "outputs": [],
   "source": [
    "print(int('1010', 2)) \n",
    "print(int('12', 8))\n",
    "print(int('10', 10))\n",
    "print(int('A', 16))"
   ]
  },
  {
   "cell_type": "markdown",
   "metadata": {},
   "source": [
    "Los objetos tipo *float* corresponden al conjunto de los números reales.\n",
    "\n",
    "* *3.141595* \n",
    "* *12.* \n",
    "* *-45.3556*"
   ]
  },
  {
   "cell_type": "markdown",
   "metadata": {},
   "source": [
    "Hay que tomar en cuenta de que la precisión de los números dependen en gran medida de la capacidad del equipo de cómputo, por lo que en ocasiones una operación con números de tipo float no dará el resultado exacto, sino una aproximación."
   ]
  },
  {
   "cell_type": "code",
   "execution_count": null,
   "metadata": {},
   "outputs": [],
   "source": [
    "0.1 + 0.1 + 0.1"
   ]
  },
  {
   "cell_type": "code",
   "execution_count": null,
   "metadata": {},
   "outputs": [],
   "source": [
    "10 / 3"
   ]
  },
  {
   "cell_type": "code",
   "execution_count": null,
   "metadata": {},
   "outputs": [],
   "source": [
    "int(19.99999) # la clase int al pasarle un flotante trunca la parte decimal"
   ]
  },
  {
   "cell_type": "code",
   "execution_count": null,
   "metadata": {},
   "outputs": [],
   "source": [
    "# Funcion round()\n",
    "help(round)"
   ]
  },
  {
   "cell_type": "code",
   "execution_count": null,
   "metadata": {},
   "outputs": [],
   "source": [
    "round(19.9 )"
   ]
  },
  {
   "cell_type": "code",
   "execution_count": null,
   "metadata": {},
   "outputs": [],
   "source": [
    "round( 0.1+0.1+0.1 , 2 )"
   ]
  },
  {
   "cell_type": "code",
   "execution_count": null,
   "metadata": {},
   "outputs": [],
   "source": [
    "round(10 / 3, 5)"
   ]
  },
  {
   "cell_type": "markdown",
   "metadata": {},
   "source": [
    "\n",
    "Los operadores se apegan a la siguiente regla de precedencia siguiendo una secuencia de izquierda a derecha:\n",
    "\n",
    "1. Paréntesis.\n",
    "2. Exponente.\n",
    "3. Multiplicación.\n",
    "4. División.\n",
    "5. Suma.\n",
    "6. Sustracción.\n",
    "\n",
    "**Ejemplos:**"
   ]
  },
  {
   "cell_type": "code",
   "execution_count": null,
   "metadata": {},
   "outputs": [],
   "source": [
    "7 + 7 * 7 + 7"
   ]
  },
  {
   "cell_type": "code",
   "execution_count": null,
   "metadata": {},
   "outputs": [],
   "source": [
    "(7 + 7 ) * (7 + 7)"
   ]
  },
  {
   "cell_type": "code",
   "execution_count": null,
   "metadata": {},
   "outputs": [],
   "source": [
    "numero = (7 + 7 ) * (7 + 7)"
   ]
  },
  {
   "cell_type": "code",
   "execution_count": null,
   "metadata": {},
   "outputs": [],
   "source": [
    "NOMBRE = \"emi\""
   ]
  },
  {
   "cell_type": "markdown",
   "metadata": {},
   "source": [
    "Una de las características por las que `Python` brilla es su potencia a la hora de trabajar con *strings*."
   ]
  },
  {
   "cell_type": "code",
   "execution_count": null,
   "metadata": {},
   "outputs": [],
   "source": [
    "a = 'esto es una cadena de caracteres'\n",
    "b = \"podemos usar comillas simples o dobles\"\n",
    "c = \"\"\"\n",
    "    Podemos hacer cadenas de múltiples líneas\n",
    "    con triples comillas (simples o dobles)\n",
    "\"\"\""
   ]
  },
  {
   "cell_type": "code",
   "execution_count": null,
   "metadata": {},
   "outputs": [],
   "source": [
    "print(c)"
   ]
  },
  {
   "cell_type": "markdown",
   "metadata": {},
   "source": [
    "Podemos transformar otros tipos de datos a *string* con la función `str`."
   ]
  },
  {
   "cell_type": "code",
   "execution_count": null,
   "metadata": {},
   "outputs": [],
   "source": [
    "a = 1.3\n",
    "b = str(a)\n",
    "b"
   ]
  },
  {
   "cell_type": "markdown",
   "metadata": {},
   "source": [
    "Aunque la forma más versátil es utilizando *string templates*."
   ]
  },
  {
   "cell_type": "code",
   "execution_count": null,
   "metadata": {},
   "outputs": [],
   "source": [
    "c = f\"el valor de 'a' es {a}\"\n",
    "print(c)"
   ]
  },
  {
   "cell_type": "code",
   "execution_count": null,
   "metadata": {},
   "outputs": [],
   "source": [
    "c = f\"el valor de 'a' es {10+5} hshsh\"\n",
    "print(c)"
   ]
  },
  {
   "cell_type": "markdown",
   "metadata": {},
   "source": [
    "Los operadores de relación evalúan si dos valores/objetos cumplen con una condición específica. El resultado de esta evaluación es un objeto de tipo *bool*.\n",
    "\n",
    "\n",
    "<center>\n",
    "\n",
    "|Operador|Evalúa          |\n",
    "|:------:|:---------------|\n",
    "|*==*    |*a == b* ¿a igual a b?|\n",
    "|*!=* \t |*a != b* ¿a distinta de b?|\n",
    "|*>*     |*a > b* ¿a mayor que b?|\n",
    "|*<* \t |*a < b* ¿a menor que b?|\n",
    "|*>=*    |*a >= b* ¿a mayor o igual que b?|\n",
    "|*<=*    |*a <= b* ¿a menor o igual que b?|\n",
    "\n",
    "</center>"
   ]
  },
  {
   "cell_type": "markdown",
   "metadata": {},
   "source": []
  },
  {
   "cell_type": "code",
   "execution_count": null,
   "metadata": {},
   "outputs": [],
   "source": [
    "\"a\" == \"A\""
   ]
  },
  {
   "cell_type": "code",
   "execution_count": null,
   "metadata": {},
   "outputs": [],
   "source": [
    "10 !=  10.0"
   ]
  },
  {
   "cell_type": "code",
   "execution_count": null,
   "metadata": {},
   "outputs": [],
   "source": [
    "10 is 10.0"
   ]
  },
  {
   "cell_type": "code",
   "execution_count": null,
   "metadata": {},
   "outputs": [],
   "source": [
    "nombre = None  # tipo de dato nulo"
   ]
  },
  {
   "cell_type": "code",
   "execution_count": null,
   "metadata": {},
   "outputs": [],
   "source": [
    "type(nombre)"
   ]
  },
  {
   "cell_type": "code",
   "execution_count": null,
   "metadata": {},
   "outputs": [],
   "source": [
    "nombre is None"
   ]
  },
  {
   "cell_type": "code",
   "execution_count": null,
   "metadata": {},
   "outputs": [],
   "source": [
    "type(10) == type(10.0)"
   ]
  },
  {
   "cell_type": "code",
   "execution_count": null,
   "metadata": {},
   "outputs": [],
   "source": [
    "10 == 10.0"
   ]
  },
  {
   "cell_type": "markdown",
   "metadata": {},
   "source": [
    "Estos operadores permiten la realización de las siguientes operaciones lógicas. Por lo general se realizan con objetos de tipo *bool*, pero Python también permite operaciones lógicas con otros tipos de datos. \n",
    "\n",
    "<center>\n",
    "\n",
    "|Operador|Evalúa|\n",
    "|:------:|:----:|\n",
    "|*or*    |*a or b* ¿Se cumplen a o b?|\n",
    "|*and* \t |*a and b* ¿Se comple a y b?|\n",
    "|*not*   |*not x* Contrario a x|\n",
    "\n",
    "</center>"
   ]
  },
  {
   "cell_type": "code",
   "execution_count": null,
   "metadata": {},
   "outputs": [],
   "source": [
    "True and True"
   ]
  },
  {
   "cell_type": "code",
   "execution_count": null,
   "metadata": {},
   "outputs": [],
   "source": [
    "True or False"
   ]
  },
  {
   "cell_type": "code",
   "execution_count": null,
   "metadata": {},
   "outputs": [],
   "source": [
    "1 < 10 and 5 > 10"
   ]
  },
  {
   "cell_type": "code",
   "execution_count": null,
   "metadata": {},
   "outputs": [],
   "source": [
    "1==10 or True"
   ]
  },
  {
   "cell_type": "code",
   "execution_count": null,
   "metadata": {},
   "outputs": [],
   "source": [
    "1 == 10 or cualquiercosa "
   ]
  },
  {
   "cell_type": "code",
   "execution_count": null,
   "metadata": {},
   "outputs": [],
   "source": [
    "1 != 10 or cualquiercosa "
   ]
  },
  {
   "cell_type": "code",
   "execution_count": null,
   "metadata": {},
   "outputs": [],
   "source": [
    "bool(\" \"), bool(0), bool(0.0), bool(\"\")"
   ]
  },
  {
   "cell_type": "code",
   "execution_count": null,
   "metadata": {},
   "outputs": [],
   "source": [
    "True + True + True + True "
   ]
  },
  {
   "cell_type": "code",
   "execution_count": null,
   "metadata": {},
   "outputs": [],
   "source": [
    "bool.__mro__"
   ]
  },
  {
   "cell_type": "markdown",
   "metadata": {},
   "source": []
  },
  {
   "cell_type": "markdown",
   "metadata": {},
   "source": [
    "## Condicionales"
   ]
  },
  {
   "cell_type": "markdown",
   "metadata": {},
   "source": [
    "\n",
    "Si el resultado de la expresión lógica evaluada por _if_ da por resultado _False_, se puede utilizar _else_ para ejecutar el bloque de código indentado debajo de esta expresión.\n",
    "\n",
    "\n",
    "```python\n",
    "<flujo principal>\n",
    "...\n",
    "...\n",
    "if <expresión lógica>:\n",
    "     <bloque inscrito al if>\n",
    "else:\n",
    "    <bloque inscrito al else>\n",
    "<flujo principal>\n",
    "```\n",
    "\n",
    "**Ejemplo:**"
   ]
  },
  {
   "cell_type": "code",
   "execution_count": null,
   "metadata": {},
   "outputs": [],
   "source": [
    "nombre = None\n",
    "\n",
    "if nombre:\n",
    "    print(\"hola\")\n",
    "    print(\"mundo\")\n",
    "else:\n",
    "    print(\"adios\")"
   ]
  },
  {
   "cell_type": "code",
   "execution_count": null,
   "metadata": {},
   "outputs": [],
   "source": [
    "x = 0\n",
    "y = 10\n",
    "\n",
    "\n",
    "if x > y:\n",
    "    print(\"x es mayor que y\")\n",
    "else:\n",
    "    print(\"x no es mayor que y\")\n",
    "    print()"
   ]
  },
  {
   "cell_type": "code",
   "execution_count": null,
   "metadata": {},
   "outputs": [],
   "source": [
    "x = 0\n",
    "y = 10\n",
    "val = True\n",
    "\n",
    "if x > y or val:\n",
    "    print(\"x es mayor que y\")\n",
    "else:\n",
    "    print(\"x no es mayor que y\")"
   ]
  },
  {
   "cell_type": "code",
   "execution_count": null,
   "metadata": {},
   "outputs": [],
   "source": [
    "nombre = \"emi\"\n",
    "\n",
    "if nombre:\n",
    "    print(\"hola\", nombre)\n",
    "    print(\"mundo\")\n",
    "else:\n",
    "    print(\"adios\")\n",
    "    print()"
   ]
  },
  {
   "cell_type": "code",
   "execution_count": null,
   "metadata": {},
   "outputs": [],
   "source": [
    "nombre = \"emi\"\n",
    "\n",
    "if nombre:\n",
    "    print(\"hola\", nombre)\n",
    "    print(\"mundo\")\n",
    "else:\n",
    "    print(\"adios\")\n",
    "    print()"
   ]
  },
  {
   "cell_type": "code",
   "execution_count": null,
   "metadata": {},
   "outputs": [],
   "source": [
    "usuario    = input(\"usuario :\")\n",
    "contraseña = input(\"contaseña :\")\n",
    "\n",
    "if usuario == \"admin\" and contraseña == \"1234\":\n",
    "    \n",
    "    print(\"Bienvenido al sistema\")\n",
    "    input(\"apriete una tecla para continuar\")\n",
    "\n",
    "else:\n",
    "    \n",
    "    print(\"usuario o contraseña incorrecta\")\n",
    "    \n",
    "print(\"siga aprendiendo\")"
   ]
  },
  {
   "cell_type": "markdown",
   "metadata": {},
   "source": [
    "\n",
    "Es posible evaluar más de una expresión lógica mediante el uso de _elif_. En el caso de que exista más de una expresión lógica que de por resultado _True_, Python ejecutará solamente el código delimitado por la primera que ocurra.\n",
    "\n",
    "En caso de que ninguna de las condiciones de por resultado _True_ se puede utilizar _else_ al final de la estructura.\n",
    "\n",
    "```python\n",
    "<flujo principal>\n",
    "...\n",
    "...\n",
    "if <expresión lógica>:\n",
    "     <bloque inscrito al if>\n",
    "elif <expresión lógica 1>:\n",
    "     <bloque inscrito al elif>\n",
    "elif <expresión lógica 2>:\n",
    "     <bloque inscrito al elif>\n",
    "...\n",
    "...\n",
    "elif <expresión lógica n>:\n",
    "     <bloque inscrito al elif>\n",
    "else:\n",
    "    <bloque inscrito al else>\n",
    "<flujo principal>\n",
    "```\n",
    "\n",
    "A continuación se muestra un diagrama de flujo que ejemplifica al uso del condicional _if_, _elif_ y _else_:\n",
    "\n",
    "<center><img src=\"if-elif.png\"></center>\n",
    "\n",
    "**Ejemplo: **"
   ]
  },
  {
   "cell_type": "code",
   "execution_count": 61,
   "metadata": {},
   "outputs": [
    {
     "name": "stdout",
     "output_type": "stream",
     "text": [
      "son iguales\n"
     ]
    }
   ],
   "source": [
    "a = int(input(\"ingrese un numero :\"))\n",
    "b = int(input(\"ingrese un numero :\"))\n",
    "c = int(input(\"ingrese un numero :\"))\n",
    "\n",
    "iguales = False\n",
    "\n",
    "if a > b and a > c:\n",
    "    print(a,\"es el mayor\")\n",
    "elif b > a and b > c:\n",
    "    print(b,\"es el mayor\")\n",
    "elif c > b and c > a:\n",
    "    print(c,\"es el mayor\")\n",
    "else:\n",
    "    print(\"son iguales\")\n",
    "    iguales = True"
   ]
  },
  {
   "cell_type": "code",
   "execution_count": 63,
   "metadata": {},
   "outputs": [],
   "source": [
    "if iguales:  # la instruccion pass no hace nada pero es necesaria para este tipo de casos.\n",
    "    pass  # o al programar y no tener implementado el algoritmo para que no halla error se sintaxis\n",
    "elif a < b and a < c:\n",
    "    print(a,\"es el menor\")\n",
    "elif b < a and b < c:\n",
    "    print(b,\"es el menor\")\n",
    "elif c < b and c < a:\n",
    "    print(c,\"es el menor\")"
   ]
  },
  {
   "cell_type": "code",
   "execution_count": null,
   "metadata": {},
   "outputs": [],
   "source": [
    "edad = int(input(\"ingrese su edad :\"))\n",
    "\n",
    "if edad > 18 : \n",
    "    print(\"usted es mayor de edad\")\n",
    "elif edad > 65:\n",
    "    print(\"usted es de pami\")"
   ]
  },
  {
   "cell_type": "code",
   "execution_count": null,
   "metadata": {},
   "outputs": [],
   "source": [
    "edad = int(input(\"ingrese su edad :\"))\n",
    "\n",
    "if edad > 65:  # solucion 1\n",
    "    print(\"usted es de pami\")\n",
    "elif edad > 18:\n",
    "    print(\"usted es mayor de edad\")\n",
    "else:\n",
    "    print(\"usted es menor de edad\")\n"
   ]
  },
  {
   "cell_type": "markdown",
   "metadata": {},
   "source": [
    "## Ciclo While"
   ]
  },
  {
   "cell_type": "markdown",
   "metadata": {},
   "source": [
    "\n",
    "Python cuenta con la palabra reservada *while* para ejecutar un bloque de código recursivamente mientras se cumpla una condición determinada. Cuando la expresión lógica evaluada por *while* sea *False* , el flujo de ejecución continuará sin ejecutar el bloque dentro de _while_.\n",
    "\n",
    "```python\n",
    "<flujo principal>\n",
    "...\n",
    "...\n",
    "while <expresión lógica>:\n",
    "     <bloque inscrito a while>\n",
    "<flujo principal>\n",
    "```\n",
    "A continuación se muestra un diagrama de flujo que ejemplifica al uso de *while*:\n",
    "\n",
    "\n",
    "**Ejemplo:**"
   ]
  },
  {
   "cell_type": "code",
   "execution_count": 65,
   "metadata": {},
   "outputs": [
    {
     "name": "stdout",
     "output_type": "stream",
     "text": [
      "0\n",
      "1\n",
      "2\n",
      "3\n",
      "4\n",
      "5\n",
      "continua el flujo\n"
     ]
    }
   ],
   "source": [
    "i = 0\n",
    "while i <= 5 :\n",
    "    print(i)\n",
    "    i += 1 # i = i + 1\n",
    "    # print(i)\n",
    "print(\"continua el flujo\")"
   ]
  },
  {
   "cell_type": "code",
   "execution_count": 66,
   "metadata": {},
   "outputs": [
    {
     "name": "stdout",
     "output_type": "stream",
     "text": [
      "6\n"
     ]
    }
   ],
   "source": [
    "print(i)"
   ]
  },
  {
   "cell_type": "markdown",
   "metadata": {},
   "source": [
    "## Romper un bucle con break"
   ]
  },
  {
   "cell_type": "code",
   "execution_count": 67,
   "metadata": {},
   "outputs": [
    {
     "name": "stdout",
     "output_type": "stream",
     "text": [
      "sigue\n",
      "sigue\n",
      "s\n"
     ]
    }
   ],
   "source": [
    "\n",
    "while True:\n",
    "    pre = input(\"terminar ?\")\n",
    "    if pre == \"s\":\n",
    "        print(pre)\n",
    "        break\n",
    "    else:\n",
    "        print(\"sigue\")"
   ]
  },
  {
   "cell_type": "code",
   "execution_count": null,
   "metadata": {},
   "outputs": [],
   "source": [
    "terminar = True\n",
    "while terminar:\n",
    "    pre = input(\"terminar ?\")\n",
    "    if pre == \"s\":\n",
    "        terminar = False\n",
    "    else:\n",
    "        print(\"sigue\")"
   ]
  },
  {
   "cell_type": "code",
   "execution_count": 70,
   "metadata": {},
   "outputs": [
    {
     "name": "stdout",
     "output_type": "stream",
     "text": [
      "20\n",
      "19\n",
      "18\n",
      "17\n",
      "16\n",
      "15\n",
      "14\n",
      "13\n",
      "12\n",
      "11\n",
      "no se cumle el while\n"
     ]
    }
   ],
   "source": [
    "x = 20\n",
    "while x > 10:\n",
    "    print(x)\n",
    "    x -= 1\n",
    "else:\n",
    "    print(\"no se cumle el while\")"
   ]
  },
  {
   "cell_type": "code",
   "execution_count": 73,
   "metadata": {},
   "outputs": [
    {
     "name": "stdout",
     "output_type": "stream",
     "text": [
      "15\n",
      "14\n",
      "13\n",
      "valor de x 12\n"
     ]
    }
   ],
   "source": [
    "x = 15\n",
    "while x > 10:\n",
    "    print(x)\n",
    "    x -= 1\n",
    "    if x == 12:\n",
    "        break\n",
    "else:\n",
    "    print(\"no se cumple el while\")\n",
    "print(\"valor de x\", x)"
   ]
  },
  {
   "cell_type": "markdown",
   "metadata": {},
   "source": [
    "## Ciclo For"
   ]
  },
  {
   "cell_type": "markdown",
   "metadata": {},
   "source": [
    "### Objetos iterables.\n",
    "\n",
    "Una de las grandes fortalezas de Python es su capacidad de realizar iteraciones de forma dinámica a partir de diversos tipos de objetos con la capacidad de ser iterables.\n",
    "\n",
    "Algunos de estos objetos son los de tipo:\n",
    "\n",
    "* _str_.\n",
    "* _list_.\n",
    "* _tuple_.\n",
    "* _dict_.\n",
    "* _set_.\n",
    "* _frozenset_.\n",
    "* _bytes_."
   ]
  },
  {
   "cell_type": "markdown",
   "metadata": {},
   "source": [
    "### Operedor de pertenecia.\n",
    "\n",
    "- in \n",
    "- not in"
   ]
  },
  {
   "cell_type": "code",
   "execution_count": 74,
   "metadata": {},
   "outputs": [
    {
     "data": {
      "text/plain": [
       "True"
      ]
     },
     "execution_count": 74,
     "metadata": {},
     "output_type": "execute_result"
    }
   ],
   "source": [
    "\"a\" in \"emiliano\""
   ]
  },
  {
   "cell_type": "code",
   "execution_count": 75,
   "metadata": {},
   "outputs": [
    {
     "data": {
      "text/plain": [
       "True"
      ]
     },
     "execution_count": 75,
     "metadata": {},
     "output_type": "execute_result"
    }
   ],
   "source": [
    "\"A\" not in \"argentina\""
   ]
  },
  {
   "cell_type": "markdown",
   "metadata": {},
   "source": [
    "### La estructura *for* ... *in*.\n",
    "\n",
    "Para iterar un objeto iterable se utiliza la siguiente sintaxis:\n",
    "\n",
    "```python\n",
    "for <contador> in <objeto iterable>:\n",
    "```\n"
   ]
  },
  {
   "cell_type": "code",
   "execution_count": 77,
   "metadata": {},
   "outputs": [
    {
     "name": "stdout",
     "output_type": "stream",
     "text": [
      "M codigo ASCII : 77\n",
      "a codigo ASCII : 97\n",
      "r codigo ASCII : 114\n",
      "c codigo ASCII : 99\n",
      "e codigo ASCII : 101\n",
      "l codigo ASCII : 108\n",
      "o codigo ASCII : 111\n",
      "  codigo ASCII : 32\n",
      "e codigo ASCII : 101\n",
      "s codigo ASCII : 115\n",
      "t codigo ASCII : 116\n",
      "a codigo ASCII : 97\n",
      "  codigo ASCII : 32\n",
      "a codigo ASCII : 97\n",
      "p codigo ASCII : 112\n",
      "r codigo ASCII : 114\n",
      "e codigo ASCII : 101\n",
      "n codigo ASCII : 110\n",
      "d codigo ASCII : 100\n",
      "i codigo ASCII : 105\n",
      "e codigo ASCII : 101\n",
      "n codigo ASCII : 110\n",
      "d codigo ASCII : 100\n",
      "o codigo ASCII : 111\n",
      "  codigo ASCII : 32\n",
      "P codigo ASCII : 80\n",
      "y codigo ASCII : 121\n",
      "t codigo ASCII : 116\n",
      "h codigo ASCII : 104\n",
      "o codigo ASCII : 111\n",
      "n codigo ASCII : 110\n",
      "  codigo ASCII : 32\n",
      "@ codigo ASCII : 64\n",
      "j codigo ASCII : 106\n",
      "o codigo ASCII : 111\n",
      "y codigo ASCII : 121\n",
      "a codigo ASCII : 97\n"
     ]
    }
   ],
   "source": [
    "palabra = input()\n",
    "for letra in palabra:\n",
    "    print(letra , \"codigo ASCII :\", ord(letra)) "
   ]
  },
  {
   "cell_type": "markdown",
   "metadata": {},
   "source": [
    "### Iteraciones incrementales/decrementales.\n",
    "\n",
    "La forma más común de realizar iteraciones en otros lenguajes de programación es por medio algo similar al uso de la función *range().*\n",
    "\n",
    "### La función *range()*\n",
    "\n",
    "Para definir rangos numéricos se usa la función *range()*.\n",
    "\n",
    "- *range(*n, m, s*)* \n",
    "  - cumple:  rango >= n and rango < m en incrementos de s.\n",
    "- *range(*n, m*)* \n",
    "  - cumple:  rango >= n and rango < m en incrementos de 1.\n",
    "- *range(*m*)* \n",
    "  -  cumple:  rango >= 0 and rango < m en incrementos de 1.\n",
    "\n",
    "**Ejemplos:**"
   ]
  },
  {
   "cell_type": "code",
   "execution_count": 78,
   "metadata": {},
   "outputs": [
    {
     "data": {
      "text/plain": [
       "range(0, 10)"
      ]
     },
     "execution_count": 78,
     "metadata": {},
     "output_type": "execute_result"
    }
   ],
   "source": [
    "range(10)"
   ]
  },
  {
   "cell_type": "code",
   "execution_count": 79,
   "metadata": {},
   "outputs": [
    {
     "data": {
      "text/plain": [
       "range(10, 100)"
      ]
     },
     "execution_count": 79,
     "metadata": {},
     "output_type": "execute_result"
    }
   ],
   "source": [
    "range(10,100)"
   ]
  },
  {
   "cell_type": "code",
   "execution_count": 80,
   "metadata": {},
   "outputs": [
    {
     "data": {
      "text/plain": [
       "range(10, 100, 10)"
      ]
     },
     "execution_count": 80,
     "metadata": {},
     "output_type": "execute_result"
    }
   ],
   "source": [
    "range(10,100,10)"
   ]
  },
  {
   "cell_type": "code",
   "execution_count": 82,
   "metadata": {},
   "outputs": [
    {
     "name": "stdout",
     "output_type": "stream",
     "text": [
      "0 1 2 3 4 5 6 7 8 9 10 "
     ]
    }
   ],
   "source": [
    "for i in range(11):\n",
    "    print(i, end=\" \")"
   ]
  },
  {
   "cell_type": "code",
   "execution_count": 83,
   "metadata": {},
   "outputs": [
    {
     "name": "stdout",
     "output_type": "stream",
     "text": [
      "-10.-9.-8.-7.-6.-5.-4.-3.-2.-1.0.1.2.3.4.5.6.7.8.9."
     ]
    }
   ],
   "source": [
    "for i in range(-10,10):\n",
    "    print(i, end=\".\")"
   ]
  },
  {
   "cell_type": "code",
   "execution_count": 84,
   "metadata": {},
   "outputs": [
    {
     "name": "stdout",
     "output_type": "stream",
     "text": [
      "-10 -8 -6 -4 -2 0 2 4 6 8 10 "
     ]
    }
   ],
   "source": [
    "for i in range(-10,11,2):\n",
    "    print(i, end=\" \")"
   ]
  },
  {
   "cell_type": "code",
   "execution_count": 85,
   "metadata": {},
   "outputs": [
    {
     "name": "stdout",
     "output_type": "stream",
     "text": [
      "no se cumple el for\n"
     ]
    }
   ],
   "source": [
    "for i in range(10,-11):\n",
    "    print(i)\n",
    "else:\n",
    "    print(\"no se cumple el for\")"
   ]
  },
  {
   "cell_type": "code",
   "execution_count": 86,
   "metadata": {},
   "outputs": [
    {
     "name": "stdout",
     "output_type": "stream",
     "text": [
      "10\n",
      "9\n",
      "8\n",
      "7\n",
      "6\n",
      "5\n",
      "4\n",
      "3\n",
      "2\n",
      "1\n",
      "0\n",
      "-1\n",
      "-2\n",
      "-3\n",
      "-4\n",
      "-5\n",
      "-6\n",
      "-7\n",
      "-8\n",
      "-9\n",
      "-10\n",
      "no se cumple el for\n"
     ]
    }
   ],
   "source": [
    "for i in range(10,-11,-1):\n",
    "    print(i)\n",
    "else:\n",
    "    print(\"no se cumple el for\")"
   ]
  },
  {
   "cell_type": "markdown",
   "metadata": {},
   "source": [
    "### Operadores lógicos:\n",
    "\n",
    "- not (negación lógica) tiene la mayor precedencia entre los operadores lógicos.\n",
    "- and (conjunción) tiene una precedencia intermedia.\n",
    "- or (disyunción) tiene la menor precedencia.\n",
    "\n",
    "\n",
    "a and b or c\n",
    "\n",
    "Se evalúa de la siguiente manera:\n",
    "\n",
    "Primero se evalúa a and b.  \n",
    "Luego, el resultado de a and b se evalúa con or c."
   ]
  },
  {
   "cell_type": "code",
   "execution_count": 87,
   "metadata": {},
   "outputs": [
    {
     "name": "stdout",
     "output_type": "stream",
     "text": [
      "1932 es bisiesto\n",
      "1936 es bisiesto\n",
      "1940 es bisiesto\n",
      "1944 es bisiesto\n",
      "1948 es bisiesto\n",
      "1952 es bisiesto\n",
      "1956 es bisiesto\n",
      "1960 es bisiesto\n",
      "1964 es bisiesto\n",
      "1968 es bisiesto\n",
      "1972 es bisiesto\n",
      "1976 es bisiesto\n",
      "1980 es bisiesto\n",
      "1984 es bisiesto\n",
      "1988 es bisiesto\n",
      "1992 es bisiesto\n",
      "1996 es bisiesto\n",
      "2000 es bisiesto\n",
      "2004 es bisiesto\n",
      "2008 es bisiesto\n",
      "2012 es bisiesto\n",
      "2016 es bisiesto\n",
      "2020 es bisiesto\n",
      "2024 es bisiesto\n"
     ]
    }
   ],
   "source": [
    "for año in range(1930,2025):\n",
    "    if año % 4 == 0 and año % 100 != 0 or año % 400 == 0:\n",
    "        print(año,\"es bisiesto\")"
   ]
  },
  {
   "cell_type": "markdown",
   "metadata": {},
   "source": [
    "Operadores De Bit\n",
    "\n",
    "- & # and\n",
    "- | # or\n",
    "- ^ # xor\t\n",
    "- ~ # not\n",
    "- `>>` # desplazar a la derecha\n",
    "- `<<` # desplaza a la izquierda\t"
   ]
  },
  {
   "cell_type": "code",
   "execution_count": 91,
   "metadata": {},
   "outputs": [
    {
     "data": {
      "text/plain": [
       "('0b1010', '0b1', '0b0')"
      ]
     },
     "execution_count": 91,
     "metadata": {},
     "output_type": "execute_result"
    }
   ],
   "source": [
    "bin(10), bin(1), bin(0)"
   ]
  },
  {
   "cell_type": "code",
   "execution_count": 90,
   "metadata": {},
   "outputs": [
    {
     "data": {
      "text/plain": [
       "0"
      ]
     },
     "execution_count": 90,
     "metadata": {},
     "output_type": "execute_result"
    }
   ],
   "source": [
    "10 & 1"
   ]
  },
  {
   "cell_type": "code",
   "execution_count": 93,
   "metadata": {},
   "outputs": [
    {
     "data": {
      "text/plain": [
       "'0b1011'"
      ]
     },
     "execution_count": 93,
     "metadata": {},
     "output_type": "execute_result"
    }
   ],
   "source": [
    "bin(10 | 1)"
   ]
  },
  {
   "cell_type": "code",
   "execution_count": 94,
   "metadata": {},
   "outputs": [
    {
     "data": {
      "text/plain": [
       "False"
      ]
     },
     "execution_count": 94,
     "metadata": {},
     "output_type": "execute_result"
    }
   ],
   "source": [
    "True ^ True  "
   ]
  },
  {
   "cell_type": "markdown",
   "metadata": {},
   "source": [
    "## Saltos de iteraciones con **continue**"
   ]
  },
  {
   "cell_type": "code",
   "execution_count": 95,
   "metadata": {},
   "outputs": [
    {
     "name": "stdout",
     "output_type": "stream",
     "text": [
      "1930 \n",
      "1934 \n",
      "1938 \n",
      "1942 NO SE JUGO EL MUNDIAL\n",
      "1946 NO SE JUGO EL MUNDIAL\n",
      "1950 \n",
      "1954 \n",
      "1958 \n",
      "1962 \n",
      "1966 \n",
      "1970 \n",
      "1974 \n",
      "1978 ARG CAMPEON FIFA\n",
      "1982 \n",
      "1986 ARG CAMPEON FIFA\n",
      "1990 \n",
      "1994 \n",
      "1998 \n",
      "2002 \n",
      "2006 \n",
      "2010 \n",
      "2014 \n",
      "2018 \n",
      "2022 ARG CAMPEON FIFA\n"
     ]
    }
   ],
   "source": [
    "for año in range(1930,2023,4):\n",
    "    print(año, end=\" \")\n",
    "    if año in (1942,1946):\n",
    "        print(\"No se jugo el mundial\".upper())\n",
    "        continue\n",
    "    # elif año != 1978 and año != 1986 and año != 2022:\n",
    "    elif año not in (1978, 1986 ,2022):\n",
    "        print()\n",
    "        continue\n",
    "    print(\"ARG CAMPEON FIFA\")"
   ]
  },
  {
   "cell_type": "markdown",
   "metadata": {},
   "source": []
  },
  {
   "cell_type": "markdown",
   "metadata": {},
   "source": [
    "En `Python` cualquier número, cadena de caracteres (*string*), función, clase, módulo, etc, es considerado como un `objeto`, una \"caja\" con su propio tipo y datos internos que es tratada de la misma manera independientemente de su función. Este es uno de los motivos que hacen que `Python` sea un lenguaje tan flexible.\n",
    "\n",
    "La mayoría de `objetos` en `Python` tienen `métodos` (funciones asociadas con el objeto) y `atributos` (otros objetos guardados en su interior). Por ejemplo, un objeto de tipo `str` tiene métodos para convertirlo a mayúsculas, separarlo en caracteres, etc."
   ]
  },
  {
   "cell_type": "code",
   "execution_count": null,
   "metadata": {},
   "outputs": [],
   "source": [
    "a = \"hola\"\n",
    "a.capitalize()"
   ]
  },
  {
   "cell_type": "code",
   "execution_count": null,
   "metadata": {},
   "outputs": [],
   "source": [
    "a.upper()"
   ]
  },
  {
   "cell_type": "markdown",
   "metadata": {},
   "source": [
    "Para conocer todos los método y atributos de un objeto tenemos la funcion `dir`"
   ]
  },
  {
   "cell_type": "markdown",
   "metadata": {},
   "source": []
  },
  {
   "cell_type": "markdown",
   "metadata": {},
   "source": [
    "En Python, una colección es un tipo de dato que se utiliza para almacenar múltiples elementos de datos en una sola unidad. Algunos de los tipos de colecciones más comunes en Python son:\n",
    "\n",
    "1. Listas (Lists): Son colecciones ordenadas y modificables de elementos que pueden ser de diferentes tipos. Se definen utilizando corchetes [] y los elementos se separan por comas.\n",
    "\n",
    "2. Tuplas (Tuples): Son colecciones ordenadas e inmutables de elementos. Se definen utilizando paréntesis () y los elementos se separan por comas.\n",
    "\n",
    "3. Conjuntos (Sets): Son colecciones desordenadas de elementos únicos e inmutables. Se definen utilizando llaves {} o la función set().\n",
    "\n",
    "4. Diccionarios (Dictionaries): Son colecciones desordenadas de pares clave-valor. Se definen utilizando llaves {} y los elementos se separan por comas, donde cada par clave-valor se separa por dos puntos (:).\n",
    "\n",
    "Estas colecciones permiten almacenar, acceder y manipular múltiples elementos de datos de manera eficiente en Python."
   ]
  },
  {
   "cell_type": "markdown",
   "metadata": {},
   "source": [
    "En Python, los strings (cadenas de texto) son considerados como una secuencia inmutable de caracteres y no como una colección en el sentido estricto de las estructuras de datos como listas, tuplas, conjuntos y diccionarios. A pesar de esto, los strings comparten algunas propiedades con las colecciones, como la capacidad de acceder a elementos individuales mediante indexación y la capacidad de recorrer sus elementos en un bucle.\n",
    "\n",
    "Si bien los strings no son una colección en el sentido técnico de las estructuras de datos en Python, comparten algunas similitudes en cuanto a su manejo y manipulación con las colecciones."
   ]
  },
  {
   "cell_type": "markdown",
   "metadata": {},
   "source": [
    "## String str()"
   ]
  },
  {
   "cell_type": "code",
   "execution_count": 96,
   "metadata": {},
   "outputs": [],
   "source": [
    "def bisiesto(año):\n",
    "    if año % 4 == 0 and año % 100 != 0 or año % 400 == 0:\n",
    "        return True\n",
    "    return False"
   ]
  },
  {
   "cell_type": "code",
   "execution_count": 97,
   "metadata": {},
   "outputs": [],
   "source": [
    "from marcelo import bisiesto"
   ]
  },
  {
   "cell_type": "code",
   "execution_count": null,
   "metadata": {},
   "outputs": [],
   "source": []
  }
 ],
 "metadata": {
  "kernelspec": {
   "display_name": "py313",
   "language": "python",
   "name": "py313"
  },
  "language_info": {
   "codemirror_mode": {
    "name": "ipython",
    "version": 3
   },
   "file_extension": ".py",
   "mimetype": "text/x-python",
   "name": "python",
   "nbconvert_exporter": "python",
   "pygments_lexer": "ipython3",
   "version": "3.13.1"
  }
 },
 "nbformat": 4,
 "nbformat_minor": 2
}
