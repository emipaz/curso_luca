{
 "cells": [
  {
   "cell_type": "markdown",
   "metadata": {},
   "source": [
    "# Ciclos"
   ]
  },
  {
   "cell_type": "markdown",
   "metadata": {},
   "source": [
    "## Ciclos con _while_.\n",
    "\n",
    "Python cuenta con la palabra reservada *while* para ejecutar un bloque de código recursivamente mientras se cumpla una condición determinada. Cuando la expresión lógica evaluada por *while* sea *False* , el flujo de ejecución continuará sin ejecutar el bloque dentro de _while_.\n",
    "\n",
    "```\n",
    "<flujo principal>\n",
    "...\n",
    "...\n",
    "while <expresión lógica>:\n",
    "     <bloque inscrito a while>\n",
    "<flujo principal>\n",
    "```\n",
    "A continuación se muestra un diagrama de flujo que ejemplifica al uso de *while*:\n",
    "<center><img src=\"while.png\"><\\center>\n",
    "\n",
    "**Ejemplo:**"
   ]
  },
  {
   "cell_type": "code",
   "execution_count": 1,
   "metadata": {},
   "outputs": [
    {
     "name": "stdout",
     "output_type": "stream",
     "text": [
      "1\n",
      "2\n",
      "3\n",
      "4\n",
      "5\n"
     ]
    }
   ],
   "source": [
    "i = 1\n",
    "while i <= 5:\n",
    "    print(i)\n",
    "    i += 1"
   ]
  },
  {
   "cell_type": "code",
   "execution_count": 2,
   "metadata": {},
   "outputs": [
    {
     "name": "stdout",
     "output_type": "stream",
     "text": [
      "100\n",
      "90\n",
      "80\n",
      "70\n",
      "60\n",
      "50\n",
      "40\n",
      "30\n",
      "20\n"
     ]
    }
   ],
   "source": [
    "i = 100\n",
    "while i >= 20:\n",
    "    print(i)\n",
    "    i -= 10"
   ]
  },
  {
   "cell_type": "code",
   "execution_count": 4,
   "metadata": {},
   "outputs": [
    {
     "name": "stdin",
     "output_type": "stream",
     "text": [
      "Clave:  q\n"
     ]
    },
    {
     "name": "stdout",
     "output_type": "stream",
     "text": [
      "Intento 1. \n",
      " \n",
      "Utilizaste 1 intentos.\n"
     ]
    }
   ],
   "source": [
    "entrada = \"\"\n",
    "suma = 0\n",
    "while suma < 3 and entrada != \"q\":\n",
    "    entrada = input(\"Clave: \")\n",
    "    suma += 1\n",
    "    print(\"Intento %d. \\n \" % suma) # medodo de formatar string forma original (metodo antiguo) ver detalle en\n",
    "print(\"Utilizaste %d intentos.\" % suma)"
   ]
  },
  {
   "cell_type": "code",
   "execution_count": null,
   "metadata": {},
   "outputs": [],
   "source": []
  },
  {
   "cell_type": "markdown",
   "metadata": {},
   "source": [
    "\n",
    "## Interrupciones de ejecución de un bloque.\n",
    "\n",
    "En ciertas circunstancias es necesario interrumpir el flujo lógico de un programa. Python cuenta con los siguientes recursos para hacerlo.\n",
    "\n",
    "* La palabra reservada _continue_.\n",
    "* La palabra reservada _break_.\n",
    "* La función _exit()_.  # en la jupyter solo termina el kernel\n",
    "\n",
    "### La palabra reservada _continue_.\n",
    "\n",
    "La palabra reservada *continue* termina de forma prematura la ejecución de un bloque dentro de un ciclo.\n",
    "\n",
    "A continuación se muestra un diagrama de flujo que ejemplifica al uso de *continue* dentro de un ciclo con *while*:\n",
    "![while-continue](while-continue.png)\n",
    "\n",
    "**Ejemplo:**"
   ]
  },
  {
   "cell_type": "code",
   "execution_count": 34,
   "metadata": {},
   "outputs": [
    {
     "name": "stdout",
     "output_type": "stream",
     "text": [
      "Intento N°:-------1-------\n"
     ]
    },
    {
     "name": "stdin",
     "output_type": "stream",
     "text": [
      "Clave: 1\n"
     ]
    },
    {
     "name": "stdout",
     "output_type": "stream",
     "text": [
      "\n",
      "Intento N°:-------2-------\n"
     ]
    },
    {
     "name": "stdin",
     "output_type": "stream",
     "text": [
      "Clave: 2\n"
     ]
    },
    {
     "name": "stdout",
     "output_type": "stream",
     "text": [
      "\n",
      "Intento N°:-------3-------\n"
     ]
    },
    {
     "name": "stdin",
     "output_type": "stream",
     "text": [
      "Clave: 15\n"
     ]
    },
    {
     "name": "stdout",
     "output_type": "stream",
     "text": [
      "\n",
      "Tuviste 3 intentos fallidos.\n"
     ]
    }
   ],
   "source": [
    "entrada = \"\"\n",
    "suma = 0\n",
    "fallido = 0\n",
    "while suma < 3:\n",
    "    suma += 1\n",
    "    print(\"Intento N°:{:-^15}\".format(suma)) # formatear con la funcion format\n",
    "    entrada = input(\"Clave:\")\n",
    "    print()\n",
    "    # Al ingresar \"q\", se evita que la variable fallido se incremente.\n",
    "    if entrada == \"q\":\n",
    "        continue\n",
    "        \n",
    "    fallido += 1\n",
    "print(\"Tuviste {} intentos fallidos.\".format(fallido))"
   ]
  },
  {
   "cell_type": "markdown",
   "metadata": {},
   "source": [
    "###  La palabra reservada _break_.\n",
    "\n",
    "La palabra reservada *break* termina prematuramente la ejecución del bloque de código en el que se encuentra y restablece el flujo de ejecución al bloque de código que lo precede.\n",
    "\n",
    "A continuación se muestra un diagrama de flujo que ejemplifica al uso de *break* dentro de un ciclo con *while*:\n",
    "![while-break](while-break.png)\n",
    "\n",
    "**NOTA:** *break* no sólo se puede aplicar a ciclos o iteraciones, sino también a funciones, métodos y a cualquier elemento que contenga bloques de código ejecutable. \n",
    "\n",
    "**Ejemplo:**"
   ]
  },
  {
   "cell_type": "code",
   "execution_count": 38,
   "metadata": {},
   "outputs": [
    {
     "name": "stdin",
     "output_type": "stream",
     "text": [
      "Clave: 1\n"
     ]
    },
    {
     "name": "stdout",
     "output_type": "stream",
     "text": [
      "Intento 1. \n",
      " \n"
     ]
    },
    {
     "name": "stdin",
     "output_type": "stream",
     "text": [
      "Clave: 23\n"
     ]
    },
    {
     "name": "stdout",
     "output_type": "stream",
     "text": [
      "Intento 2. \n",
      " \n"
     ]
    },
    {
     "name": "stdin",
     "output_type": "stream",
     "text": [
      "Clave: 2\n"
     ]
    },
    {
     "name": "stdout",
     "output_type": "stream",
     "text": [
      "Intento 3. \n",
      " \n",
      "Tuviste 3 intentos fallidos. \n",
      "continua con el flujo del prgrama\n"
     ]
    }
   ],
   "source": [
    "suma = 0\n",
    "while suma < 3:\n",
    "    entrada = input(\"Clave:\")\n",
    "    #Si se ingresa \"q\", se termina el ciclo.\n",
    "    if entrada == \"q\":\n",
    "        break\n",
    "    suma = suma + 1\n",
    "    print(f\"Intento {suma}. \\n \") # formateo con f-string\n",
    "else: \n",
    "    print(f\"Tuviste {suma} intentos fallidos. \")\n",
    "print(\"continua con el flujo del prgrama\")"
   ]
  },
  {
   "cell_type": "markdown",
   "metadata": {},
   "source": [
    "### La función *exit()*.\n",
    "\n",
    "La función *exit()* termina la ejecución de un programa y cierra el intérprete de Python.\n",
    "\n",
    "A continuación se muestra un diagrama de flujo que ejemplifica al uso de *break* dentro de un ciclo con *while*:\n",
    "![while-exit()](while-exit.png)\n",
    "\n",
    "**Advertencia:** En el caso de las notebooks de Jupyter, cuando el servidor detecta que el kernel se detiene, levanta uno nuevo."
   ]
  },
  {
   "cell_type": "code",
   "execution_count": null,
   "metadata": {},
   "outputs": [],
   "source": [
    "entrada = \"\"\n",
    "suma = 0\n",
    "while suma < 3:\n",
    "    entrada = input(\"Clave:\")\n",
    "    if entrada == \"q\":\n",
    "        break\n",
    "    elif entrada == \"s\":\n",
    "        print(\"en un script normal se cerraria el intreprete\")\n",
    "        exit()\n",
    "    suma = suma + 1\n",
    "    print(\"Intento %d. \\n \" % suma)\n",
    "print(\"Tuviste %d intentos fallidos.\" % suma)"
   ]
  },
  {
   "cell_type": "markdown",
   "metadata": {},
   "source": [
    "# Ciclos FOR"
   ]
  },
  {
   "cell_type": "markdown",
   "metadata": {},
   "source": [
    "\n",
    "## Iteraciones con _for_... _in_.\n",
    "\n",
    "\n",
    "### Objetos iterables.\n",
    "\n",
    "Una de las grandes fortalezas de Python es su capacidad de realizar iteraciones de forma dinámica a partir de diversos tipos de objetos con la capacidad de ser iterables.\n",
    "\n",
    "Algunos de estos objetos son los de tipo:\n",
    "\n",
    "* _str_.\n",
    "* _list_.\n",
    "* _tuple_.\n",
    "* _dict_.\n",
    "* _set_.\n",
    "* _frozenset_.\n",
    "* _bytes_.\n",
    "\n",
    "Las iteraciones para cada uno de los tipos enunciados se estudiarán y analizarán caso por caso en secciones próximas.\n",
    "\n",
    "### La estructura *for* ... *in*.\n",
    "\n",
    "Para iterar un objeto iterable se utiliza la siguiente sintaxis:\n",
    "\n",
    "```\n",
    "for <contador> in <objeto iterable>:\n",
    "```\n",
    "\n",
    "### Iteraciones incrementales/decrementales.\n",
    "\n",
    "La forma más común de realizar iteraciones en otros lenguajes de programación es por medio algo similar al uso de la función *range().*\n",
    "\n",
    "### La función *range()*\n",
    "\n",
    "Para definir rangos numéricos se usa la función *range()*.\n",
    "\n",
    "* *range(*n, m, s*)* cumple:  rango >= n and rango < m en incrementos de s.\n",
    "* *range(*n, m*)* cumple:  rango >= n and rango < m en incrementos de 1.\n",
    "* *range(*m*)* cumple:  rango >= 0 and rango < m en incrementos de 1.\n",
    "\n",
    "**Ejemplos:**"
   ]
  },
  {
   "cell_type": "code",
   "execution_count": 2,
   "metadata": {},
   "outputs": [
    {
     "name": "stdout",
     "output_type": "stream",
     "text": [
      "5\n",
      "6\n",
      "7\n",
      "8\n",
      "\n"
     ]
    }
   ],
   "source": [
    "\"\"\" Cuenta del 5 hasta menos de 9 en incrementos de a 1. \"\"\"\n",
    "for contador in range(5, 9):\n",
    "    print(contador)\n",
    "print()"
   ]
  },
  {
   "cell_type": "code",
   "execution_count": 3,
   "metadata": {},
   "outputs": [
    {
     "name": "stdout",
     "output_type": "stream",
     "text": [
      "3\n",
      "5\n",
      "7\n",
      "9\n",
      "\n"
     ]
    }
   ],
   "source": [
    "\"\"\" Cuenta de 3 hasta menos de 11 en incrementos de a 2. \"\"\"\n",
    "for contador in range(3, 11, 2):\n",
    "    print(contador)\n",
    "print()"
   ]
  },
  {
   "cell_type": "code",
   "execution_count": 4,
   "metadata": {},
   "outputs": [
    {
     "name": "stdout",
     "output_type": "stream",
     "text": [
      "26\n",
      "22\n",
      "18\n",
      "14\n"
     ]
    }
   ],
   "source": [
    "\"\"\" Cuenta del 26 hasta más de 10 en decrementos de a 4. \"\"\"\n",
    "for contador in range(26, 10, -4):\n",
    "    print(contador)"
   ]
  },
  {
   "cell_type": "code",
   "execution_count": 6,
   "metadata": {},
   "outputs": [
    {
     "name": "stdout",
     "output_type": "stream",
     "text": [
      "0 Entrada\n",
      "1 Cena\n",
      "2 Postre\n"
     ]
    }
   ],
   "source": [
    "comidas = [\"Entrada\", \"Cena\", \"Postre\"]\n",
    "for index,item in enumerate(comidas):\n",
    " print(index,item)"
   ]
  },
  {
   "cell_type": "code",
   "execution_count": 5,
   "metadata": {},
   "outputs": [
    {
     "name": "stdout",
     "output_type": "stream",
     "text": [
      "*** Entrada ***\n",
      "Cena\n",
      "Postre\n",
      "*** Torta ***\n",
      "Última posición: 3 - Torta\n"
     ]
    }
   ],
   "source": [
    "comidas = [\"Entrada\", \"Cena\", \"Postre\",\"Torta\"]\n",
    "for index,item in enumerate(comidas):\n",
    "    if(index == 0 or index == len(comidas)-1):\n",
    "        print(f\"*** {item} ***\")\n",
    "    else:\n",
    "        print(item)\n",
    "\n",
    "print(\"Última posición: \" + str(index) + \" - \" + item)"
   ]
  },
  {
   "cell_type": "code",
   "execution_count": null,
   "metadata": {},
   "outputs": [],
   "source": []
  }
 ],
 "metadata": {
  "kernelspec": {
   "display_name": "bots-api",
   "language": "python",
   "name": "bots-api"
  },
  "language_info": {
   "codemirror_mode": {
    "name": "ipython",
    "version": 3
   },
   "file_extension": ".py",
   "mimetype": "text/x-python",
   "name": "python",
   "nbconvert_exporter": "python",
   "pygments_lexer": "ipython3",
   "version": "3.10.4"
  }
 },
 "nbformat": 4,
 "nbformat_minor": 4
}
