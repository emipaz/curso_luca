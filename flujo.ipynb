{
 "cells": [
  {
   "cell_type": "code",
   "execution_count": null,
   "metadata": {},
   "outputs": [],
   "source": []
  },
  {
   "cell_type": "code",
   "execution_count": null,
   "metadata": {},
   "outputs": [
    {
     "name": "stdout",
     "output_type": "stream",
     "text": [
      "No llevar paraguas\n",
      "Fin del programa\n"
     ]
    }
   ],
   "source": [
    "\n",
    "clima = \"no lluvioso\"\n",
    "\n",
    "if clima == \"lluvioso\":\n",
    "    print(\"Llevar paraguas\")\n",
    "    print(\"º\")\n",
    "else:    \n",
    "    print(\"No llevar paraguas\")\n",
    "\n",
    "print(\"Fin del programa\")"
   ]
  },
  {
   "cell_type": "code",
   "execution_count": 2,
   "metadata": {},
   "outputs": [
    {
     "data": {
      "text/plain": [
       "61"
      ]
     },
     "execution_count": 2,
     "metadata": {},
     "output_type": "execute_result"
    }
   ],
   "source": [
    "ord(\"=\")"
   ]
  },
  {
   "cell_type": "code",
   "execution_count": 8,
   "metadata": {},
   "outputs": [
    {
     "data": {
      "text/plain": [
       "True"
      ]
     },
     "execution_count": 8,
     "metadata": {},
     "output_type": "execute_result"
    }
   ],
   "source": [
    "0 == 0.0"
   ]
  },
  {
   "cell_type": "code",
   "execution_count": 9,
   "metadata": {},
   "outputs": [
    {
     "data": {
      "text/plain": [
       "True"
      ]
     },
     "execution_count": 9,
     "metadata": {},
     "output_type": "execute_result"
    }
   ],
   "source": [
    "1 != \"uno\""
   ]
  },
  {
   "cell_type": "code",
   "execution_count": 10,
   "metadata": {},
   "outputs": [
    {
     "data": {
      "text/plain": [
       "False"
      ]
     },
     "execution_count": 10,
     "metadata": {},
     "output_type": "execute_result"
    }
   ],
   "source": [
    "1 != 1"
   ]
  },
  {
   "cell_type": "code",
   "execution_count": 11,
   "metadata": {},
   "outputs": [],
   "source": [
    "# iguadad ==\n",
    "# desigualdad !=\n",
    "# mayor que >\n",
    "# menor que <\n",
    "# mayor o igual >=\n",
    "# menor o igual <="
   ]
  },
  {
   "cell_type": "code",
   "execution_count": null,
   "metadata": {},
   "outputs": [],
   "source": [
    "# and cuando los dos son verdaderos\n",
    "# or cuando uno de los dos es verdadero\n",
    "# not cuando niega la condicion"
   ]
  },
  {
   "cell_type": "code",
   "execution_count": 12,
   "metadata": {},
   "outputs": [
    {
     "name": "stdout",
     "output_type": "stream",
     "text": [
      "No llevar paraguas\n"
     ]
    }
   ],
   "source": [
    "clima= \"luvioso\"\n",
    "paragua = False\n",
    "\n",
    "if clima == \"lluvioso\" and paragua:\n",
    "    print(\"Llevar paraguas\")\n",
    "else:\n",
    "    print(\"No llevar paraguas\")"
   ]
  },
  {
   "cell_type": "code",
   "execution_count": null,
   "metadata": {},
   "outputs": [
    {
     "name": "stdout",
     "output_type": "stream",
     "text": [
      "Merienda\n"
     ]
    }
   ],
   "source": [
    "galletas = 3\n",
    "pan = True\n",
    "\n",
    "if galletas >= 5 or pan:\n",
    "    print(\"Merienda\")\n",
    "else:\n",
    "    print(\"No hay merienda\")"
   ]
  },
  {
   "cell_type": "code",
   "execution_count": null,
   "metadata": {},
   "outputs": [
    {
     "name": "stdout",
     "output_type": "stream",
     "text": [
      "Eres mayor de edad\n"
     ]
    }
   ],
   "source": [
    "edad = int(input(\"ingresa tu edad: \"))\n",
    "\n",
    "if edad >= 65 and edad < 120:\n",
    "    print(\"Eres adulto mayor\")\n",
    "elif  65 < edad < 120:\n",
    "    print(\"Eres adulto\")\n",
    "elif edad >= 18:\n",
    "    print(\"Eres mayor de edad\")\n",
    "elif edad < 18:\n",
    "    print(\"Eres menor de edad\")\n",
    "else:\n",
    "    print(\"Edad incorrecta\")\n",
    "\n",
    "    "
   ]
  },
  {
   "cell_type": "code",
   "execution_count": 22,
   "metadata": {},
   "outputs": [
    {
     "name": "stdout",
     "output_type": "stream",
     "text": [
      "Hola, mundo\n"
     ]
    }
   ],
   "source": [
    "nombre = input(\"cual es tu nombre\")\n",
    "\n",
    "if nombre:\n",
    "    print(\"Hola\", nombre)\n",
    "else:\n",
    "    print(\"Hola, mundo\")"
   ]
  },
  {
   "cell_type": "code",
   "execution_count": null,
   "metadata": {},
   "outputs": [
    {
     "data": {
      "text/plain": [
       "True"
      ]
     },
     "execution_count": 26,
     "metadata": {},
     "output_type": "execute_result"
    }
   ],
   "source": [
    "bool(\"\")"
   ]
  },
  {
   "cell_type": "code",
   "execution_count": 24,
   "metadata": {},
   "outputs": [
    {
     "data": {
      "text/plain": [
       "False"
      ]
     },
     "execution_count": 24,
     "metadata": {},
     "output_type": "execute_result"
    }
   ],
   "source": [
    "bool(0)"
   ]
  },
  {
   "cell_type": "code",
   "execution_count": 25,
   "metadata": {},
   "outputs": [
    {
     "data": {
      "text/plain": [
       "False"
      ]
     },
     "execution_count": 25,
     "metadata": {},
     "output_type": "execute_result"
    }
   ],
   "source": [
    "bool(0.0)"
   ]
  },
  {
   "cell_type": "code",
   "execution_count": 27,
   "metadata": {},
   "outputs": [
    {
     "data": {
      "text/plain": [
       "2"
      ]
     },
     "execution_count": 27,
     "metadata": {},
     "output_type": "execute_result"
    }
   ],
   "source": [
    "True + True"
   ]
  },
  {
   "cell_type": "code",
   "execution_count": 29,
   "metadata": {},
   "outputs": [
    {
     "name": "stdout",
     "output_type": "stream",
     "text": [
      "Hola marcelo\n"
     ]
    }
   ],
   "source": [
    "nombre = input(\"cual es tu nombre\") or \"Mundo\"\n",
    "print(\"Hola\", nombre)"
   ]
  },
  {
   "cell_type": "code",
   "execution_count": 31,
   "metadata": {},
   "outputs": [
    {
     "name": "stdout",
     "output_type": "stream",
     "text": [
      "usando python 3\n"
     ]
    }
   ],
   "source": [
    "variable = input (\"intruduce una opcion\")\n",
    "match variable:\n",
    "    case \"python3.10\":\n",
    "        print(\"usando python 3.10\")\n",
    "    case \"python3\":\n",
    "        print(\"usando python 3\")\n",
    "    case \"python\":\n",
    "        print(\"usando python 2\")\n",
    "    case \"1\" :\n",
    "        print(\"---------\")\n",
    "    case _ :\n",
    "        print(\"opcion no valida\")"
   ]
  },
  {
   "cell_type": "code",
   "execution_count": null,
   "metadata": {},
   "outputs": [
    {
     "name": "stdout",
     "output_type": "stream",
     "text": [
      "1\n",
      "2\n",
      "3\n",
      "4\n",
      "5\n"
     ]
    }
   ],
   "source": [
    "i = 1\n",
    "while i <= 5:\n",
    "    print(i)\n",
    "    i += 1 # i = i + 1"
   ]
  },
  {
   "cell_type": "code",
   "execution_count": 35,
   "metadata": {},
   "outputs": [
    {
     "name": "stdout",
     "output_type": "stream",
     "text": [
      "Numero incorrecto\n",
      "Numero incorrecto\n",
      "Numero incorrecto\n",
      "bien lo resolviste en :  3 intentos\n"
     ]
    }
   ],
   "source": [
    "sin_nombre = True\n",
    "numero = 15\n",
    "intentos = 0\n",
    "while sin_nombre:\n",
    "    dato = int(input(\"cuel es el numero\"))\n",
    "    if dato == numero:\n",
    "        sin_nombre = False\n",
    "    else:\n",
    "        print(\"Numero incorrecto\")\n",
    "        intentos += 1\n",
    "                \n",
    "print(\"bien lo resolviste en : \", intentos, \"intentos\")"
   ]
  },
  {
   "cell_type": "code",
   "execution_count": 39,
   "metadata": {},
   "outputs": [
    {
     "name": "stdout",
     "output_type": "stream",
     "text": [
      "10\n",
      "8\n",
      "6\n",
      "4\n",
      "2\n",
      "0\n"
     ]
    }
   ],
   "source": [
    "diez = 11\n",
    "while diez >=1 :\n",
    "    diez -= 1    \n",
    "    if diez % 2 != 0:\n",
    "        continue\n",
    "    print(diez)"
   ]
  },
  {
   "cell_type": "code",
   "execution_count": 46,
   "metadata": {},
   "outputs": [
    {
     "name": "stdout",
     "output_type": "stream",
     "text": [
      "bienvenido\n",
      "continua el programa\n"
     ]
    }
   ],
   "source": [
    "contador = 0\n",
    "max_intentos = 5\n",
    "\n",
    "while contador < max_intentos:\n",
    "    contador += 1\n",
    "    if input(\"tu clave\") == \"1234\":\n",
    "        print(\"bienvenido\")\n",
    "        break\n",
    "    else:\n",
    "        print(\"Clave incorrecta, te quedan :\", max_intentos - contador)\n",
    "else:\n",
    "    print(\"te quedaste sin entrar chauuuuuu\")\n",
    "    \n",
    "\n",
    "print(\"continua el programa\")"
   ]
  },
  {
   "cell_type": "code",
   "execution_count": null,
   "metadata": {},
   "outputs": [],
   "source": []
  }
 ],
 "metadata": {
  "kernelspec": {
   "display_name": "py312",
   "language": "python",
   "name": "py312"
  },
  "language_info": {
   "codemirror_mode": {
    "name": "ipython",
    "version": 3
   },
   "file_extension": ".py",
   "mimetype": "text/x-python",
   "name": "python",
   "nbconvert_exporter": "python",
   "pygments_lexer": "ipython3",
   "version": "3.12.6"
  }
 },
 "nbformat": 4,
 "nbformat_minor": 2
}
