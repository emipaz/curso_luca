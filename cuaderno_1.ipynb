{
 "cells": [
  {
   "cell_type": "markdown",
   "metadata": {},
   "source": [
    "# <center><font color= #ff0000>Python</font></center> "
   ]
  },
  {
   "cell_type": "markdown",
   "metadata": {},
   "source": [
    "## Instalacion"
   ]
  },
  {
   "cell_type": "markdown",
   "metadata": {},
   "source": [
    "### Crear un entorno virtual"
   ]
  },
  {
   "cell_type": "markdown",
   "metadata": {},
   "source": [
    "\n",
    "```bash\n",
    "python -m venv \"tu entorno\"\n",
    "```"
   ]
  },
  {
   "cell_type": "markdown",
   "metadata": {},
   "source": [
    "Un entorno virtual en **Python** es una herramienta que permite crear un entorno aislado para un proyecto específico, de modo que las dependencias y paquetes instalados en ese entorno no afecten a otros proyectos. \n",
    "\n",
    "Esto es útil para mantener la limpieza y la consistencia en el desarrollo de software, ya que cada proyecto puede tener sus propias versiones de paquetes y librerías sin interferir con otros proyectos."
   ]
  },
  {
   "cell_type": "markdown",
   "metadata": {},
   "source": [
    "### Activar el entorno virtual\n"
   ]
  },
  {
   "attachments": {
    "image.png": {
     "image/png": "[encoded data removed]"
    }
   },
   "cell_type": "markdown",
   "metadata": {},
   "source": [
    "\n",
    "Activar el entorno virtual de python en la consola de cmd es con el comando :\n",
    "\n",
    "```bash\n",
    "env/Scripts/activate\n",
    "```\n",
    "\n",
    "ejemplo\n",
    "\n",
    "\n",
    "```bash\n",
    "C:\\Users\\Usuario\\Desktop\\carpeta_proyecto>.\\\\Scripts\\activate\n",
    "\n",
    "(entorno) C:\\Users\\Usuario\\Desktop\\carpeta_proyecto>\n",
    "```\n",
    "\n",
    "\n",
    "Activar el entorno virtual de python en la consola de powershell es con el comando :\n",
    "\n",
    "\n",
    "```powershell\n",
    "PS C:\\Users\\Usuario\\Desktop\\carpeta_proyecto> .\\env_marzo\\Scripts\\Activate.ps1\n",
    "(entorno) PS C:\\Users\\Usuario\\Desktop\\carpeta_proyecto>\n",
    "```\n",
    "\n",
    "<details>\n",
    "<summary>\n",
    "    <font color=\"green\">\n",
    "        <b>  Politicas de Execucion de Scripts en powershell</b>\n",
    "     </font>   \n",
    "</summary>\n",
    "\n",
    "En PowerShell, existen varios niveles de políticas de ejecución que determinan qué scripts se pueden ejecutar en un sistema. Aquí tienes una lista de las políticas de ejecución disponibles y sus características: \n",
    " \n",
    "1.  Restricted : No se permite la ejecución de ningún script en PowerShell. Solo se pueden ejecutar comandos individuales. \n",
    " \n",
    "2.  AllSigned : Solo se permiten scripts que estén firmados digitalmente por un editor de confianza. \n",
    " \n",
    "3.  RemoteSigned : Se permiten scripts locales sin firma, pero los scripts descargados de Internet deben estar firmados digitalmente por un editor de confianza. \n",
    " \n",
    "4.  Unrestricted : Se permiten todos los scripts sin restricciones. Este nivel puede representar un riesgo para la seguridad, ya que cualquier script, incluso malicioso, se puede ejecutar. \n",
    " \n",
    "5.  Bypass : No se aplican restricciones de ejecución. Se puede ejecutar cualquier script sin importar su origen ni si está firmado digitalmente. \n",
    " \n",
    "6.  Undefined : No se ha establecido una política de ejecución y se utiliza la política predeterminada del sistema. \n",
    " \n",
    "Estas políticas de ejecución se pueden configurar usando el comando  Set-ExecutionPolicy  seguido del nombre de la política deseada. Es importante tener en cuenta las implicaciones de seguridad al elegir una política de ejecución para tu sistema.\n",
    "\n",
    "\n",
    "Para conocer que politica esta activa\n",
    "\n",
    "```powershell\n",
    "PS C:\\Users\\Usuario\\Desktop\\Marzo-2024> Get-ExecutionPolicy \n",
    "RemoteSigned\n",
    "```\n",
    "\n",
    "Para cambiar la politica de Execucion desde powersheel como administrador\n",
    "\n",
    "```powershell\n",
    "PS C:\\Users\\Usuario\\Desktop\\Marzo-2024> Set-ExecutionPolicy -ExecutionPolicy RemoteSigned\n",
    "```\n",
    "\n",
    "\n",
    "![image.png](attachment:image.png)\n",
    "\n",
    "</details>"
   ]
  },
  {
   "cell_type": "markdown",
   "metadata": {},
   "source": [
    "Activar el entorno virtual de python en la consola de linux o mac:\n",
    "\n",
    "\n",
    "```bash\n",
    "source carpeta_proyecto_linux/bin/activate\n",
    "```"
   ]
  },
  {
   "cell_type": "markdown",
   "metadata": {},
   "source": [
    "Desactivar el entorno virtual de python:\n",
    "\n",
    "\n",
    "```bash\n",
    "deactivate\n",
    "```\t"
   ]
  },
  {
   "cell_type": "markdown",
   "metadata": {},
   "source": [
    "### Instalar biblotecas externas en el entorno virtual"
   ]
  },
  {
   "cell_type": "markdown",
   "metadata": {},
   "source": [
    "\n",
    "<code> pip install biblioteca</code>\n",
    "\t\n",
    "\n",
    "intalar un conjuntos de paquetes para un projecto\n",
    "\n",
    "```bash\n",
    "pip install -r requirements.txt\n",
    "```\n",
    "\n",
    "Con pip list podemos ver los paquetes instalados, con pip freze nos devuelve los bibliotecas con las versiones listas para pasar a pip install -r  requirements.txt\n",
    "\n",
    "podemos executar pip desde jupyter anteponiendo `!`"
   ]
  },
  {
   "cell_type": "code",
   "execution_count": null,
   "metadata": {},
   "outputs": [],
   "source": [
    "!pip list"
   ]
  },
  {
   "cell_type": "code",
   "execution_count": null,
   "metadata": {},
   "outputs": [],
   "source": [
    "!pip freeze"
   ]
  },
  {
   "cell_type": "markdown",
   "metadata": {},
   "source": [
    "Para conocer mes informacion de alguna biblioteca en particular"
   ]
  },
  {
   "cell_type": "code",
   "execution_count": null,
   "metadata": {},
   "outputs": [],
   "source": [
    "!pip show jupyter"
   ]
  },
  {
   "cell_type": "markdown",
   "metadata": {},
   "source": [
    "## Sintaxis Basica de python"
   ]
  },
  {
   "cell_type": "markdown",
   "metadata": {},
   "source": [
    "Python es un lenguaje de programación de alto nivel conocido por su sintaxis clara y legible. Algunos aspectos importantes de la sintaxis básica de Python incluyen: \n",
    " \n",
    "1. **Indentación**: \n",
    "\n",
    ">Python utiliza la indentación para delimitar bloques de código en lugar de llaves como en otros lenguajes. Por ejemplo, un bloque de código dentro de un bucle o una función se identifica mediante la indentación. \n",
    " \n",
    "3. **Comentarios**: \n",
    "\n",
    ">Los comentarios en Python se realizan utilizando el símbolo  # . Todo lo que sigue a  #  en una línea se considera un comentario y no se ejecuta como código. \n",
    " \n",
    "4. **Variables**: \n",
    "\n",
    ">En Python, no es necesario declarar el tipo de variable antes de usarla. Simplemente asigna un valor a una variable y Python determinará automáticamente el tipo de datos. \n",
    " \n",
    "5. **Tipos de datos**: \n",
    "\n",
    ">Python admite varios tipos de datos básicos como enteros, flotantes, cadenas, booleanos, listas, tuplas y diccionarios. \n",
    " \n",
    "6. **Operadores**: \n",
    "\n",
    ">Python incluye operadores aritméticos (+, -, *, /), de asignación (=), de comparación (==, !=, <, >), lógicos (and, or, not), entre otros. \n",
    " \n",
    "7. **Estructuras de control**: \n",
    "\n",
    ">Python incluye estructuras de control como condicionales (if, elif, else) y bucles (for, while) para controlar el flujo de ejecución del programa. "
   ]
  },
  {
   "cell_type": "markdown",
   "metadata": {},
   "source": [
    "### Reglas de nombres de variables\n"
   ]
  },
  {
   "cell_type": "markdown",
   "metadata": {},
   "source": [
    "\n",
    "1. **Sensibilidad a mayúsculas y minúsculas:** Python distingue entre mayúsculas y minúsculas, por lo que  `variable`  y  `Variable`  serían consideradas como dos variables distintas.\n",
    "\n",
    "2. **Caracteres permitidos:** Puedes usar letras, números y guiones bajos en los nombres de variables. Debes comenzar con una letra o un guion bajo, pero no con un número.\n",
    "\n",
    "3. **Palabras reservadas:** No puedes usar palabras reservadas del lenguaje Python como nombres de variables. Algunos ejemplos de palabras reservadas son  `if` ,  `for` ,  `while` ,  `def` , entre otros.\n",
    "\n",
    "4. **Convención de nombres:** Es común seguir la convención de nombres  `snake_case`  para variables, donde las palabras se separan con guiones bajos. Por ejemplo:  `mi_variable` .\n",
    "\n",
    "Recuerda que es importante elegir nombres descriptivos y significativos para tus variables para que tu código sea más legible y fácil de entender."
   ]
  },
  {
   "cell_type": "code",
   "execution_count": null,
   "metadata": {},
   "outputs": [],
   "source": [
    "nombre : str    = \"Juan\"\n",
    "edad            = 30\n",
    "miVariable      = 10\n",
    "MiVariable      = 20\n",
    "NOMBRE_COMPLETO = \"María López\"\n",
    "\n"
   ]
  },
  {
   "cell_type": "code",
   "execution_count": null,
   "metadata": {},
   "outputs": [],
   "source": [
    "_1 = 1"
   ]
  },
  {
   "cell_type": "code",
   "execution_count": null,
   "metadata": {},
   "outputs": [],
   "source": [
    "1_variable = 1"
   ]
  },
  {
   "cell_type": "markdown",
   "metadata": {},
   "source": [
    "## Hola Mundo En Python"
   ]
  },
  {
   "cell_type": "code",
   "execution_count": null,
   "metadata": {},
   "outputs": [],
   "source": [
    "# este es un comentario\n",
    "# print(\"es el hola mundo en pytho\")\n",
    "print(\"hola mundo\")"
   ]
  },
  {
   "cell_type": "markdown",
   "metadata": {},
   "source": [
    "### Ejecutar un script de python dentro de un cuaderno jupyter"
   ]
  },
  {
   "cell_type": "code",
   "execution_count": null,
   "metadata": {},
   "outputs": [],
   "source": [
    "%run hola_mundo.py"
   ]
  },
  {
   "cell_type": "markdown",
   "metadata": {},
   "source": [
    "### Tipado dinamico"
   ]
  },
  {
   "cell_type": "code",
   "execution_count": null,
   "metadata": {},
   "outputs": [],
   "source": [
    "precio : int = 1000\n",
    "\n",
    "print(precio)"
   ]
  },
  {
   "cell_type": "code",
   "execution_count": null,
   "metadata": {},
   "outputs": [],
   "source": [
    "precio = \"muy caro\""
   ]
  },
  {
   "cell_type": "code",
   "execution_count": null,
   "metadata": {},
   "outputs": [],
   "source": [
    "print(precio)"
   ]
  },
  {
   "cell_type": "markdown",
   "metadata": {},
   "source": [
    "### Funciones predeterminadas en python\n",
    "\n",
    "<a href=\"https://docs.python.org/es/3/library/functions.html\">funciones</a>"
   ]
  },
  {
   "cell_type": "code",
   "execution_count": null,
   "metadata": {},
   "outputs": [],
   "source": [
    "type(precio)"
   ]
  },
  {
   "cell_type": "code",
   "execution_count": null,
   "metadata": {},
   "outputs": [],
   "source": [
    "precio"
   ]
  },
  {
   "cell_type": "code",
   "execution_count": null,
   "metadata": {},
   "outputs": [],
   "source": [
    "precio = 1000\n",
    "print(precio)\n",
    "taza = 0.70\n",
    "incremento = precio * taza\n",
    "total = precio + incremento\n",
    "print(precio , taza, incremento, total , sep=\" -/- \")"
   ]
  },
  {
   "cell_type": "code",
   "execution_count": null,
   "metadata": {},
   "outputs": [],
   "source": [
    "print(precio , end=\"--------\")\n",
    "print(taza)\n",
    "print(\"hola\")\n"
   ]
  },
  {
   "cell_type": "code",
   "execution_count": null,
   "metadata": {},
   "outputs": [],
   "source": [
    "print(\"el producto con un precio de :\" , precio, \"tiene un taza de \", taza )\n"
   ]
  },
  {
   "cell_type": "code",
   "execution_count": null,
   "metadata": {},
   "outputs": [],
   "source": [
    "help(print)"
   ]
  },
  {
   "cell_type": "markdown",
   "metadata": {},
   "source": [
    "## tipo de datos basicos en python"
   ]
  },
  {
   "cell_type": "markdown",
   "metadata": {},
   "source": [
    "En Python, hay varios tipos de datos básicos que se utilizan comúnmente. Aquí tienes algunos de los más importantes:\n",
    "\n",
    "1. **Enteros (int):** Números enteros sin parte decimal, por ejemplo: 5, -3, 1000.\n",
    "\n",
    "2. **Flotantes (float):** Números con parte decimal, por ejemplo: 3.14, -0.001, 2.0.\n",
    "\n",
    "3. **Cadenas de texto (str):** Secuencias de caracteres entre comillas simples o dobles, por ejemplo: \"Hola\", 'Python', \"123\".\n",
    "\n",
    "4. **Booleanos (bool):** Representan valores de verdad, True o False, utilizados en expresiones lógicas.\n",
    "\n",
    "5. **Listas (list):** Colecciones ordenadas de elementos que pueden ser de diferentes tipos, por ejemplo: [1, 2, 3], ['a', 'b', 'c'], [1, 'hello', True].\n",
    "\n",
    "6. **Tuplas (tuple):** Son similares a las listas, pero son inmutables (no se pueden modificar una vez creadas), por ejemplo: (1, 2, 3), ('a', 'b', 'c').\n",
    "\n",
    "7. **Diccionarios (dict):** Estructuras de datos que almacenan pares clave-valor, por ejemplo: {'nombre': 'Ana', 'edad': 25, 'ciudad': 'Madrid'}.\n",
    "\n",
    "Estos son algunos de los tipos de datos básicos en Python que te serán útiles al escribir programas en este lenguaje."
   ]
  },
  {
   "cell_type": "markdown",
   "metadata": {},
   "source": [
    "## Datos Numericos"
   ]
  },
  {
   "cell_type": "markdown",
   "metadata": {},
   "source": [
    "### Números enteros (*int*)\n"
   ]
  },
  {
   "cell_type": "markdown",
   "metadata": {},
   "source": [
    "\n",
    "Python identifica a los número enteros como un tipo de dato el cual puede ser expresado de la siguiente manera. \n",
    "\n",
    "* Decimal: *24*, *60*\n",
    "* Binario: _0b010011_, _0b1101_ \n",
    "* Hexadecimal: _0x18_, _0x3cf4_\n",
    "* Octal: _030_, _074_"
   ]
  },
  {
   "cell_type": "code",
   "execution_count": 25,
   "metadata": {},
   "outputs": [
    {
     "data": {
      "text/plain": [
       "(255, 255, 255)"
      ]
     },
     "execution_count": 25,
     "metadata": {},
     "output_type": "execute_result"
    }
   ],
   "source": [
    "0xff , 0o377 , 0b11111111"
   ]
  },
  {
   "cell_type": "code",
   "execution_count": 26,
   "metadata": {},
   "outputs": [
    {
     "data": {
      "text/plain": [
       "20"
      ]
     },
     "execution_count": 26,
     "metadata": {},
     "output_type": "execute_result"
    }
   ],
   "source": [
    "10 + 0xa"
   ]
  },
  {
   "cell_type": "code",
   "execution_count": 27,
   "metadata": {},
   "outputs": [
    {
     "data": {
      "text/plain": [
       "'0xa'"
      ]
     },
     "execution_count": 27,
     "metadata": {},
     "output_type": "execute_result"
    }
   ],
   "source": [
    "hex(10)"
   ]
  },
  {
   "cell_type": "code",
   "execution_count": 28,
   "metadata": {},
   "outputs": [
    {
     "data": {
      "text/plain": [
       "'0o12'"
      ]
     },
     "execution_count": 28,
     "metadata": {},
     "output_type": "execute_result"
    }
   ],
   "source": [
    "oct(10)"
   ]
  },
  {
   "cell_type": "code",
   "execution_count": 29,
   "metadata": {},
   "outputs": [
    {
     "data": {
      "text/plain": [
       "'0b1010'"
      ]
     },
     "execution_count": 29,
     "metadata": {},
     "output_type": "execute_result"
    }
   ],
   "source": [
    "bin(10)"
   ]
  },
  {
   "cell_type": "code",
   "execution_count": 32,
   "metadata": {},
   "outputs": [
    {
     "data": {
      "text/plain": [
       "10"
      ]
     },
     "execution_count": 32,
     "metadata": {},
     "output_type": "execute_result"
    }
   ],
   "source": [
    "int(\"1010\",2)"
   ]
  },
  {
   "cell_type": "markdown",
   "metadata": {},
   "source": [
    "### Operadores aritméticos.\n"
   ]
  },
  {
   "cell_type": "markdown",
   "metadata": {},
   "source": [
    "\n",
    "<center>\n",
    "\n",
    "|Operador|Descripción|\n",
    "|:------:|:---------:|\n",
    "|*+*     |Suma       |\n",
    "|*-* \t |Resta      |\n",
    "|*-*     |Negativo   |\n",
    "|*\\**    |Multiplicación|\n",
    "|_\\*\\*_  |Exponente  |\n",
    "|*/* \t |División   |\n",
    "|*//*    |División entera|\n",
    "|*%*     |Residuo |\n",
    "\n",
    "</center> "
   ]
  },
  {
   "cell_type": "markdown",
   "metadata": {},
   "source": [
    "El operador módulo  `%`  en Python se utiliza para obtener el resto de la división entre dos números. Es decir, cuando divides un número por otro, el operador  `%`  te devuelve el residuo de la división.\n",
    "\n",
    "Por ejemplo, si queremos calcular el resto de la división de 10 entre 3, podemos hacerlo de la siguiente manera:\n",
    "resultado = 10 % 3\n",
    "print(resultado)  # Output: 1\n",
    "En este caso, el resultado de la operación  `10 % 3`  es 1, ya que 10 dividido por 3 es 3 con un resto de 1.\n",
    "\n",
    "El operador módulo  `%`  es muy útil en programación para realizar operaciones como determinar si un número es par o impar (si el resto de dividir entre 2 es 0 o 1), generar patrones repetitivos, o para realizar cálculos relacionados con ciclos y repeticiones.\n",
    "\n",
    "Espero que esta explicación te haya sido útil. ¿Hay algo más en lo que pueda ayudarte?"
   ]
  },
  {
   "cell_type": "markdown",
   "metadata": {},
   "source": [
    "#### Reglas de precedencia en operaciones aritméticas.\n"
   ]
  },
  {
   "cell_type": "markdown",
   "metadata": {},
   "source": [
    "\n",
    "Los operadores se apegan a la siguiente regla de precedencia siguiendo una secuencia de izquierda a derecha:\n",
    "\n",
    "1. Paréntesis.\n",
    "2. Exponente.\n",
    "3. Multiplicación.\n",
    "4. División.\n",
    "5. Suma.\n",
    "6. Resta.\n"
   ]
  },
  {
   "cell_type": "code",
   "execution_count": null,
   "metadata": {},
   "outputs": [],
   "source": [
    "10 / 3"
   ]
  },
  {
   "cell_type": "code",
   "execution_count": null,
   "metadata": {},
   "outputs": [],
   "source": [
    "10 // 3"
   ]
  },
  {
   "cell_type": "code",
   "execution_count": null,
   "metadata": {},
   "outputs": [],
   "source": [
    "10 % 3"
   ]
  },
  {
   "cell_type": "code",
   "execution_count": null,
   "metadata": {},
   "outputs": [],
   "source": [
    "2 ** 2"
   ]
  },
  {
   "cell_type": "code",
   "execution_count": null,
   "metadata": {},
   "outputs": [],
   "source": [
    "2 ** (1/2)"
   ]
  },
  {
   "cell_type": "code",
   "execution_count": null,
   "metadata": {},
   "outputs": [],
   "source": [
    "-2 ** (1/2)"
   ]
  },
  {
   "cell_type": "code",
   "execution_count": 33,
   "metadata": {},
   "outputs": [
    {
     "data": {
      "text/plain": [
       "(8.659560562354934e-17+1.4142135623730951j)"
      ]
     },
     "execution_count": 33,
     "metadata": {},
     "output_type": "execute_result"
    }
   ],
   "source": [
    "(-2) ** (1/2)"
   ]
  },
  {
   "cell_type": "code",
   "execution_count": null,
   "metadata": {},
   "outputs": [],
   "source": [
    "divmod(10 , 3)"
   ]
  },
  {
   "cell_type": "code",
   "execution_count": 34,
   "metadata": {},
   "outputs": [],
   "source": [
    "division , resto = divmod(73,5)"
   ]
  },
  {
   "cell_type": "code",
   "execution_count": 35,
   "metadata": {},
   "outputs": [
    {
     "name": "stdout",
     "output_type": "stream",
     "text": [
      "14 3\n"
     ]
    }
   ],
   "source": [
    "print(division,resto)"
   ]
  },
  {
   "cell_type": "markdown",
   "metadata": {},
   "source": [
    "### Booleanos (*bool*)"
   ]
  },
  {
   "cell_type": "markdown",
   "metadata": {},
   "source": [
    "los booleanos son valores de verdad que pueden ser True o False que en python eredan de la clase `int`."
   ]
  },
  {
   "cell_type": "code",
   "execution_count": 36,
   "metadata": {},
   "outputs": [
    {
     "data": {
      "text/plain": [
       "(bool, int, object)"
      ]
     },
     "execution_count": 36,
     "metadata": {},
     "output_type": "execute_result"
    }
   ],
   "source": [
    "bool.__mro__"
   ]
  },
  {
   "cell_type": "code",
   "execution_count": 37,
   "metadata": {},
   "outputs": [
    {
     "data": {
      "text/plain": [
       "bool"
      ]
     },
     "execution_count": 37,
     "metadata": {},
     "output_type": "execute_result"
    }
   ],
   "source": [
    "type(True)"
   ]
  },
  {
   "cell_type": "code",
   "execution_count": 38,
   "metadata": {},
   "outputs": [
    {
     "data": {
      "text/plain": [
       "True"
      ]
     },
     "execution_count": 38,
     "metadata": {},
     "output_type": "execute_result"
    }
   ],
   "source": [
    "# funcion isintance me dice si un objeto es una instancia de una clase\n",
    "isinstance(True,bool)"
   ]
  },
  {
   "cell_type": "code",
   "execution_count": 39,
   "metadata": {},
   "outputs": [
    {
     "data": {
      "text/plain": [
       "True"
      ]
     },
     "execution_count": 39,
     "metadata": {},
     "output_type": "execute_result"
    }
   ],
   "source": [
    "issubclass(bool, int)"
   ]
  },
  {
   "cell_type": "code",
   "execution_count": 40,
   "metadata": {},
   "outputs": [
    {
     "data": {
      "text/plain": [
       "2"
      ]
     },
     "execution_count": 40,
     "metadata": {},
     "output_type": "execute_result"
    }
   ],
   "source": [
    "True + True"
   ]
  },
  {
   "cell_type": "code",
   "execution_count": 41,
   "metadata": {},
   "outputs": [
    {
     "data": {
      "text/plain": [
       "''"
      ]
     },
     "execution_count": 41,
     "metadata": {},
     "output_type": "execute_result"
    }
   ],
   "source": [
    "\"texto\" * False"
   ]
  },
  {
   "cell_type": "markdown",
   "metadata": {},
   "source": [
    "#### Operadores de relación. \n"
   ]
  },
  {
   "cell_type": "markdown",
   "metadata": {},
   "source": [
    "\n",
    "Los operadores de relación evalúan si dos valores/objetos cumplen con una condición específica. El resultado de esta evaluación es un objeto de tipo *bool*.\n",
    "\n",
    "<center>\n",
    "\n",
    "|Operador|Evalúa          |\n",
    "|:------:|:---------------|\n",
    "|*==*    |*a == b* ¿a igual a b?|\n",
    "|*!=* \t |*a != b* ¿a distinta de b?|\n",
    "|*>*     |*a > b* ¿a mayor que b?|\n",
    "|*<* \t |*a < b* ¿a menor que b?|\n",
    "|*>=*    |*a >= b* ¿a mayor o igual que b?|\n",
    "|*<=*    |*a <= b* ¿a menor o igual que b?|\n",
    "\n",
    "</center>"
   ]
  },
  {
   "cell_type": "code",
   "execution_count": 42,
   "metadata": {},
   "outputs": [
    {
     "data": {
      "text/plain": [
       "True"
      ]
     },
     "execution_count": 42,
     "metadata": {},
     "output_type": "execute_result"
    }
   ],
   "source": [
    "10 != 11"
   ]
  },
  {
   "cell_type": "code",
   "execution_count": null,
   "metadata": {},
   "outputs": [],
   "source": []
  },
  {
   "cell_type": "code",
   "execution_count": null,
   "metadata": {},
   "outputs": [],
   "source": []
  },
  {
   "cell_type": "markdown",
   "metadata": {},
   "source": [
    "#### Operadores lógicos.\n"
   ]
  },
  {
   "cell_type": "markdown",
   "metadata": {},
   "source": [
    "\n",
    "Estos operadores permiten la realización de las siguientes operaciones lógicas. Por lo general se realizan con objetos de tipo *bool*, pero Python también permite operaciones lógicas con otros tipos de datos. \n",
    "\n",
    "<center>\n",
    "\n",
    "|Operador|Evalúa|\n",
    "|:------:|:----:|\n",
    "|*or*    |*a or b* ¿Se cumplen a o b?|\n",
    "|*and* \t |*a and b* ¿Se comple a y b?|\n",
    "|*not*   |*not x* Contrario a x|\n",
    "\n",
    "</center>"
   ]
  },
  {
   "cell_type": "code",
   "execution_count": 43,
   "metadata": {},
   "outputs": [
    {
     "data": {
      "text/plain": [
       "False"
      ]
     },
     "execution_count": 43,
     "metadata": {},
     "output_type": "execute_result"
    }
   ],
   "source": [
    "True and False"
   ]
  },
  {
   "cell_type": "code",
   "execution_count": 44,
   "metadata": {},
   "outputs": [
    {
     "data": {
      "text/plain": [
       "True"
      ]
     },
     "execution_count": 44,
     "metadata": {},
     "output_type": "execute_result"
    }
   ],
   "source": [
    "True or False"
   ]
  },
  {
   "cell_type": "code",
   "execution_count": 46,
   "metadata": {},
   "outputs": [
    {
     "ename": "ValueError",
     "evalue": "invalid literal for int() with base 10: '20.5'",
     "output_type": "error",
     "traceback": [
      "\u001b[1;31m---------------------------------------------------------------------------\u001b[0m",
      "\u001b[1;31mValueError\u001b[0m                                Traceback (most recent call last)",
      "Cell \u001b[1;32mIn[46], line 1\u001b[0m\n\u001b[1;32m----> 1\u001b[0m \u001b[38;5;28;43mint\u001b[39;49m\u001b[43m(\u001b[49m\u001b[38;5;124;43m\"\u001b[39;49m\u001b[38;5;124;43m20.5\u001b[39;49m\u001b[38;5;124;43m\"\u001b[39;49m\u001b[43m)\u001b[49m\n",
      "\u001b[1;31mValueError\u001b[0m: invalid literal for int() with base 10: '20.5'"
     ]
    }
   ],
   "source": [
    "int(\"20.5\")"
   ]
  },
  {
   "cell_type": "code",
   "execution_count": 47,
   "metadata": {},
   "outputs": [
    {
     "data": {
      "text/plain": [
       "True"
      ]
     },
     "execution_count": 47,
     "metadata": {},
     "output_type": "execute_result"
    }
   ],
   "source": [
    "x = 10\n",
    "y = \"20.5\"\n",
    "\n",
    "x <= 10 or int(y) == 20"
   ]
  },
  {
   "cell_type": "code",
   "execution_count": 48,
   "metadata": {},
   "outputs": [
    {
     "ename": "ValueError",
     "evalue": "invalid literal for int() with base 10: '20.5'",
     "output_type": "error",
     "traceback": [
      "\u001b[1;31m---------------------------------------------------------------------------\u001b[0m",
      "\u001b[1;31mValueError\u001b[0m                                Traceback (most recent call last)",
      "Cell \u001b[1;32mIn[48], line 1\u001b[0m\n\u001b[1;32m----> 1\u001b[0m \u001b[38;5;28;43mint\u001b[39;49m\u001b[43m(\u001b[49m\u001b[43my\u001b[49m\u001b[43m)\u001b[49m \u001b[38;5;241m==\u001b[39m \u001b[38;5;241m20\u001b[39m \u001b[38;5;129;01mor\u001b[39;00m x \u001b[38;5;241m<\u001b[39m\u001b[38;5;241m=\u001b[39m \u001b[38;5;241m10\u001b[39m\n",
      "\u001b[1;31mValueError\u001b[0m: invalid literal for int() with base 10: '20.5'"
     ]
    }
   ],
   "source": [
    "int(y) == 20 or x <= 10 "
   ]
  },
  {
   "cell_type": "code",
   "execution_count": 50,
   "metadata": {},
   "outputs": [
    {
     "data": {
      "text/plain": [
       "True"
      ]
     },
     "execution_count": 50,
     "metadata": {},
     "output_type": "execute_result"
    }
   ],
   "source": [
    "x <= 10 or print (x)"
   ]
  },
  {
   "cell_type": "markdown",
   "metadata": {},
   "source": [
    "### Operadores de bits.\n"
   ]
  },
  {
   "cell_type": "markdown",
   "metadata": {},
   "source": [
    "\n",
    "Las operaciones de bits son cálculos que implican a cada bit que conforma a un número representado de forma binaria.\n",
    "\n",
    "<center>\n",
    "\n",
    "|Operador    | Descripción |\n",
    "|:----------:|:-----------:|\n",
    "| *&* | AND    |  \n",
    "| _&#124;_ |OR    |\n",
    "| *^* | XOR    |\n",
    "| *<<* | Mover x bits a la izquierda  |\n",
    "| *>>* | Mover x bits a la iderecha   |\n",
    "\n",
    "</center>"
   ]
  },
  {
   "cell_type": "code",
   "execution_count": 51,
   "metadata": {},
   "outputs": [
    {
     "data": {
      "text/plain": [
       "1"
      ]
     },
     "execution_count": 51,
     "metadata": {},
     "output_type": "execute_result"
    }
   ],
   "source": [
    "1 & 1"
   ]
  },
  {
   "cell_type": "code",
   "execution_count": 52,
   "metadata": {},
   "outputs": [
    {
     "data": {
      "text/plain": [
       "1"
      ]
     },
     "execution_count": 52,
     "metadata": {},
     "output_type": "execute_result"
    }
   ],
   "source": [
    "1 | 1"
   ]
  },
  {
   "cell_type": "code",
   "execution_count": 53,
   "metadata": {},
   "outputs": [
    {
     "data": {
      "text/plain": [
       "0"
      ]
     },
     "execution_count": 53,
     "metadata": {},
     "output_type": "execute_result"
    }
   ],
   "source": [
    "1 ^ 1 "
   ]
  },
  {
   "cell_type": "code",
   "execution_count": 54,
   "metadata": {},
   "outputs": [
    {
     "data": {
      "text/plain": [
       "False"
      ]
     },
     "execution_count": 54,
     "metadata": {},
     "output_type": "execute_result"
    }
   ],
   "source": [
    "True ^ True"
   ]
  },
  {
   "cell_type": "code",
   "execution_count": 55,
   "metadata": {},
   "outputs": [
    {
     "data": {
      "text/plain": [
       "False"
      ]
     },
     "execution_count": 55,
     "metadata": {},
     "output_type": "execute_result"
    }
   ],
   "source": [
    "not (True and True)"
   ]
  },
  {
   "cell_type": "code",
   "execution_count": 58,
   "metadata": {},
   "outputs": [
    {
     "name": "stdout",
     "output_type": "stream",
     "text": [
      "0b1010\n",
      "0b101\n"
     ]
    }
   ],
   "source": [
    "print(bin(10))\n",
    "print(bin(5))"
   ]
  },
  {
   "cell_type": "code",
   "execution_count": 57,
   "metadata": {},
   "outputs": [
    {
     "data": {
      "text/plain": [
       "5"
      ]
     },
     "execution_count": 57,
     "metadata": {},
     "output_type": "execute_result"
    }
   ],
   "source": [
    "10 >> 1"
   ]
  },
  {
   "cell_type": "markdown",
   "metadata": {},
   "source": [
    "### Números de punto flotante (*float*)."
   ]
  },
  {
   "cell_type": "markdown",
   "metadata": {},
   "source": [
    "\n",
    "Los objetos tipo *float* corresponden al conjunto de los números reales.\n",
    "\n",
    "* *3.141595* \n",
    "* *12.* \n",
    "* *-45.3556*\n",
    "\n",
    "#### Precisión de los números flotantes.\n",
    "\n",
    "Hay que tomar en cuenta de que la precisión de los números dependen en gran medida de la capacidad del equipo de cómputo, por lo que en ocasiones una operación con números de tipo float no dará el resultado exacto, sino una aproximación.\n"
   ]
  },
  {
   "cell_type": "code",
   "execution_count": 59,
   "metadata": {},
   "outputs": [
    {
     "data": {
      "text/plain": [
       "0.30000000000000004"
      ]
     },
     "execution_count": 59,
     "metadata": {},
     "output_type": "execute_result"
    }
   ],
   "source": [
    "0.1 + 0.2"
   ]
  },
  {
   "cell_type": "code",
   "execution_count": 60,
   "metadata": {},
   "outputs": [
    {
     "data": {
      "text/plain": [
       "False"
      ]
     },
     "execution_count": 60,
     "metadata": {},
     "output_type": "execute_result"
    }
   ],
   "source": [
    "0.1 + 0.2 == 0.3"
   ]
  },
  {
   "cell_type": "markdown",
   "metadata": {},
   "source": [
    "#### Funcion *round*"
   ]
  },
  {
   "cell_type": "code",
   "execution_count": 61,
   "metadata": {},
   "outputs": [
    {
     "data": {
      "text/plain": [
       "20.5"
      ]
     },
     "execution_count": 61,
     "metadata": {},
     "output_type": "execute_result"
    }
   ],
   "source": [
    "float(\"20.5\")"
   ]
  },
  {
   "cell_type": "code",
   "execution_count": 63,
   "metadata": {},
   "outputs": [
    {
     "data": {
      "text/plain": [
       "15"
      ]
     },
     "execution_count": 63,
     "metadata": {},
     "output_type": "execute_result"
    }
   ],
   "source": [
    "x = 15.999999999\n",
    "int(x)"
   ]
  },
  {
   "cell_type": "code",
   "execution_count": 67,
   "metadata": {},
   "outputs": [],
   "source": [
    "pi = 3.1415924"
   ]
  },
  {
   "cell_type": "code",
   "execution_count": 70,
   "metadata": {},
   "outputs": [
    {
     "data": {
      "text/plain": [
       "3.1415924"
      ]
     },
     "execution_count": 70,
     "metadata": {},
     "output_type": "execute_result"
    }
   ],
   "source": [
    "round(pi, 7)"
   ]
  },
  {
   "cell_type": "code",
   "execution_count": 72,
   "metadata": {},
   "outputs": [
    {
     "data": {
      "text/plain": [
       "True"
      ]
     },
     "execution_count": 72,
     "metadata": {},
     "output_type": "execute_result"
    }
   ],
   "source": [
    "round (0.1+0.2, 2) == 0.300000"
   ]
  },
  {
   "cell_type": "code",
   "execution_count": 73,
   "metadata": {},
   "outputs": [
    {
     "data": {
      "text/plain": [
       "True"
      ]
     },
     "execution_count": 73,
     "metadata": {},
     "output_type": "execute_result"
    }
   ],
   "source": [
    "10 == 10.0"
   ]
  },
  {
   "cell_type": "markdown",
   "metadata": {},
   "source": [
    "## None o nulo"
   ]
  },
  {
   "cell_type": "code",
   "execution_count": 74,
   "metadata": {},
   "outputs": [],
   "source": [
    "None"
   ]
  },
  {
   "cell_type": "code",
   "execution_count": 75,
   "metadata": {},
   "outputs": [],
   "source": [
    "x = None"
   ]
  },
  {
   "cell_type": "code",
   "execution_count": 76,
   "metadata": {},
   "outputs": [
    {
     "name": "stdout",
     "output_type": "stream",
     "text": [
      "None\n"
     ]
    }
   ],
   "source": [
    "print(x)"
   ]
  },
  {
   "cell_type": "code",
   "execution_count": 77,
   "metadata": {},
   "outputs": [
    {
     "data": {
      "text/plain": [
       "NoneType"
      ]
     },
     "execution_count": 77,
     "metadata": {},
     "output_type": "execute_result"
    }
   ],
   "source": [
    "type(x)"
   ]
  },
  {
   "cell_type": "markdown",
   "metadata": {},
   "source": [
    "## Operadores de identidad"
   ]
  },
  {
   "cell_type": "markdown",
   "metadata": {},
   "source": [
    "\n",
    "\n",
    "Los operadores *is* e *is not* evalúan si un identificador se refiere exactamente al mismo objeto o pertenece a un tipo.\n",
    "\n",
    "|Operador \t|Evalúa|\n",
    "|:---------:|:----:|\n",
    "|*is*       |*a is b* Equivale a *id(a) == id(b)*|\n",
    "|*is not*   |*a is not b* Equivale a *id(a) != id(b)*|"
   ]
  },
  {
   "cell_type": "markdown",
   "metadata": {},
   "source": [
    "En Python, los operadores de identidad se utilizan para comparar si dos objetos tienen la misma identidad, es decir, si apuntan a la misma ubicación en la memoria. Los operadores de identidad son \"is\" y \"is not\". \n",
    "\n",
    "- El operador \"is\" devuelve True si ambos operandos apuntan al mismo objeto.\n",
    "- El operador \"is not\" devuelve True si ambos operandos no apuntan al mismo objeto.\n",
    "\n",
    "Por ejemplo:\n",
    "x = [1, 2, 3]\n",
    "y = [1, 2, 3]\n",
    "z = x\n",
    "\n",
    "print(x is y)   # False, x y y son listas distintas aunque tengan los mismos valores\n",
    "print(x is z)   # True, x y z apuntan al mismo objeto en memoria\n",
    "print(x is not y) # True, x y y no son el mismo objeto"
   ]
  },
  {
   "cell_type": "code",
   "execution_count": 78,
   "metadata": {},
   "outputs": [
    {
     "data": {
      "text/plain": [
       "2355715768560"
      ]
     },
     "execution_count": 78,
     "metadata": {},
     "output_type": "execute_result"
    }
   ],
   "source": [
    "id(1)"
   ]
  },
  {
   "cell_type": "code",
   "execution_count": 81,
   "metadata": {},
   "outputs": [
    {
     "data": {
      "text/plain": [
       "(2353667908976, 2355715768560)"
      ]
     },
     "execution_count": 81,
     "metadata": {},
     "output_type": "execute_result"
    }
   ],
   "source": [
    "x = 1.0\n",
    "y = 1\n",
    "id(x),id(y)"
   ]
  },
  {
   "cell_type": "code",
   "execution_count": 84,
   "metadata": {},
   "outputs": [
    {
     "ename": "NameError",
     "evalue": "name 'x' is not defined",
     "output_type": "error",
     "traceback": [
      "\u001b[1;31m---------------------------------------------------------------------------\u001b[0m",
      "\u001b[1;31mNameError\u001b[0m                                 Traceback (most recent call last)",
      "Cell \u001b[1;32mIn[84], line 1\u001b[0m\n\u001b[1;32m----> 1\u001b[0m \u001b[43mx\u001b[49m \u001b[38;5;129;01mis\u001b[39;00m y\n",
      "\u001b[1;31mNameError\u001b[0m: name 'x' is not defined"
     ]
    }
   ],
   "source": [
    "x is y"
   ]
  },
  {
   "cell_type": "code",
   "execution_count": 83,
   "metadata": {},
   "outputs": [],
   "source": [
    "del(x)"
   ]
  },
  {
   "cell_type": "code",
   "execution_count": 85,
   "metadata": {},
   "outputs": [
    {
     "data": {
      "text/plain": [
       "1"
      ]
     },
     "execution_count": 85,
     "metadata": {},
     "output_type": "execute_result"
    }
   ],
   "source": [
    "y"
   ]
  },
  {
   "cell_type": "code",
   "execution_count": 86,
   "metadata": {},
   "outputs": [
    {
     "data": {
      "text/plain": [
       "True"
      ]
     },
     "execution_count": 86,
     "metadata": {},
     "output_type": "execute_result"
    }
   ],
   "source": [
    "y is not None "
   ]
  },
  {
   "cell_type": "markdown",
   "metadata": {},
   "source": []
  },
  {
   "cell_type": "code",
   "execution_count": null,
   "metadata": {},
   "outputs": [],
   "source": []
  },
  {
   "cell_type": "markdown",
   "metadata": {},
   "source": []
  },
  {
   "cell_type": "code",
   "execution_count": null,
   "metadata": {},
   "outputs": [],
   "source": []
  },
  {
   "cell_type": "code",
   "execution_count": null,
   "metadata": {},
   "outputs": [],
   "source": [
    "nombre, apellido, edad, nacionalidad = \"juan\", \"perez\", 30, \"chileno\""
   ]
  },
  {
   "cell_type": "code",
   "execution_count": null,
   "metadata": {},
   "outputs": [],
   "source": [
    "print(nombre, apellido, edad, nacionalidad)"
   ]
  },
  {
   "cell_type": "code",
   "execution_count": null,
   "metadata": {},
   "outputs": [],
   "source": []
  },
  {
   "cell_type": "markdown",
   "metadata": {},
   "source": []
  }
 ],
 "metadata": {
  "kernelspec": {
   "display_name": "Python 3 (ipykernel)",
   "language": "python",
   "name": "python3"
  },
  "language_info": {
   "codemirror_mode": {
    "name": "ipython",
    "version": 3
   },
   "file_extension": ".py",
   "mimetype": "text/x-python",
   "name": "python",
   "nbconvert_exporter": "python",
   "pygments_lexer": "ipython3",
   "version": "3.10.4"
  }
 },
 "nbformat": 4,
 "nbformat_minor": 4
}
