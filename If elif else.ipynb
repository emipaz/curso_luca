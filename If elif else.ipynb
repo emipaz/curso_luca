{
 "cells": [
  {
   "cell_type": "code",
   "execution_count": null,
   "metadata": {},
   "outputs": [],
   "source": []
  },
  {
   "cell_type": "markdown",
   "metadata": {},
   "source": [
    "# Bloques, comentarios y condicionales. \n",
    "\n",
    "## Indentación de bloques de código.\n",
    "\n",
    "En Python la indentación forma parte de la sintaxis. \n",
    "\n",
    "La indentación se utiliza para delimitar bloques de código dentro de un condicional, ciclo, función, etc., sin necesidad de utilizar caracteres delimitadores como ocurre en otros lenguajes de programación.\n",
    "\n",
    "Por convención se utilizan cuatro espacios para indentar en vez de tabuladores. Para mayor referencia ir al PEP8.\n",
    "\n",
    "## Comentarios.\n",
    "\n",
    "Los comentarios son porciones de texto que aún cuando se encuentran dentro de un bloque de código, no son interpretados por Python y sirven primordialmente para documentar al código.\n",
    "\n",
    "### Comentarios de una sola línea *#*.\n",
    "\n",
    "Cualquier texto después del carácter \"*#*\" y hasta el final de la línea es considerado como un comentario.\n",
    "\n",
    "**Ejemplo:**"
   ]
  },
  {
   "cell_type": "code",
   "execution_count": null,
   "metadata": {},
   "outputs": [],
   "source": [
    "print(\"Hola\") # Despliega un saludo."
   ]
  },
  {
   "cell_type": "code",
   "execution_count": null,
   "metadata": {},
   "outputs": [],
   "source": []
  },
  {
   "cell_type": "markdown",
   "metadata": {},
   "source": [
    "### *if* simple e indentación.\n",
    "\n",
    "La palabra clave *if* siempre evalúa una expresión lógica y en caso de que dicha expresión de por resultado el valor *True*, se ejecutará el código indentado justo por debajo del *if*. En caso de que la declaración resulte en el valor *False*, el intérprete ignorará el bloque de código indentado y éste continuará con la instrucción siguiente inmediata a la indentación.\n",
    "\n",
    "```\n",
    "<flujo principal>\n",
    "...\n",
    "...\n",
    "if <expresión lógica>:\n",
    "     <bloque inscrito al if>\n",
    "<flujo principal>\n",
    "```\n",
    "A continuación se muestra un diagrama de flujo que ejemplifica al uso del condicional *if* en su modo más simple:\n",
    "<center><img src=\"if-simple.png\"><center>\n",
    "**Ejemplo:**"
   ]
  },
  {
   "cell_type": "code",
   "execution_count": null,
   "metadata": {},
   "outputs": [],
   "source": [
    "numero = input(\"ingrese un numero\") # le pide un dato al usuario\n",
    "\n",
    "# la funcion int genero un objeto int en caso de que no pudiera generara un ValueError\n",
    "\n",
    "numero = int( numero ) \n",
    "\n",
    "if numero %2 == 0:\n",
    "\n",
    "    print(\"el numero \",numero,\"ES PAR\")\n",
    "\n",
    "# continua el flujo del programa\n",
    "\n",
    "cuadrado = numero ** 2\n",
    "\n",
    "# La funcion format de los objetos str permite incluir variables en el texto\n",
    "\n",
    "print(\"El cuadrado de {} es: {}\".format(numero, cuadrado)) "
   ]
  },
  {
   "cell_type": "code",
   "execution_count": null,
   "metadata": {},
   "outputs": [],
   "source": []
  },
  {
   "cell_type": "markdown",
   "metadata": {},
   "source": [
    "### Estructura *if*...*else*.\n",
    "\n",
    "Si el resultado de la expresión lógica evaluada por _if_ da por resultado _False_, se puede utilizar _else_ para ejecutar el bloque de código indentado debajo de esta expresión.\n",
    "\n",
    "\n",
    "```\n",
    "<flujo principal>\n",
    "...\n",
    "...\n",
    "if <expresión lógica>:\n",
    "     <bloque inscrito al if>\n",
    "else:\n",
    "    <bloque inscrito al else>\n",
    "<flujo principal>\n",
    "```\n",
    "A continuación se muestra un diagrama de flujo que ejemplifica al uso del condicional _if_ y _else_:\n",
    "\n",
    "<center><img src=\"if-else.png\"><center>\n",
    "\n",
    "**Ejemplo:**"
   ]
  },
  {
   "cell_type": "code",
   "execution_count": null,
   "metadata": {},
   "outputs": [],
   "source": [
    "usuario    = input(\"usuario :\")\n",
    "contraseña = input(\"contaseña :\")\n",
    "\n",
    "if usuario == \"admin\" and contraseña == \"1234\":\n",
    "    \n",
    "    print(\"Bienvenido al sistema\")\n",
    "    input(\"apriete una tecla para continuar\")\n",
    "\n",
    "else:\n",
    "    \n",
    "    print(\"usuario o contraseña incorrecta\")\n",
    "    \n",
    "print(\"siga aprendiendo\")\n"
   ]
  },
  {
   "cell_type": "code",
   "execution_count": null,
   "metadata": {},
   "outputs": [],
   "source": []
  },
  {
   "cell_type": "markdown",
   "metadata": {},
   "source": [
    "### Estructura *if*...*elif*...*else*.\n",
    "\n",
    "Es posible evaluar más de una expresión lógica mediante el uso de _elif_. En el caso de que exista más de una expresión lógica que de por resultado _True_, Python ejecutará solamente el código delimitado por la primera que ocurra.\n",
    "\n",
    "En caso de que ninguna de las condiciones de por resultado _True_ se puede utilizar _else_ al final de la estructura.\n",
    "\n",
    "```\n",
    "<flujo principal>\n",
    "...\n",
    "...\n",
    "if <expresión lógica>:\n",
    "     <bloque inscrito al if>\n",
    "elif <expresión lógica 1>:\n",
    "     <bloque inscrito al elif>\n",
    "elif <expresión lógica 2>:\n",
    "     <bloque inscrito al elif>\n",
    "...\n",
    "...\n",
    "elif <expresión lógica n>:\n",
    "     <bloque inscrito al elif>\n",
    "else:\n",
    "    <bloque inscrito al else>\n",
    "<flujo principal>\n",
    "```\n",
    "\n",
    "A continuación se muestra un diagrama de flujo que ejemplifica al uso del condicional _if_, _elif_ y _else_:\n",
    "\n",
    "<center><img src=\"if-elif.png\"></center>\n",
    "\n",
    "**Ejemplo: **"
   ]
  },
  {
   "cell_type": "code",
   "execution_count": null,
   "metadata": {},
   "outputs": [],
   "source": [
    "a = int(input(\"ingrese un numero :\"))\n",
    "b = int(input(\"ingrese un numero :\"))\n",
    "c = int(input(\"ingrese un numero :\"))\n",
    "iguales = False\n",
    "if a > b and a > c:\n",
    "    print(a,\"es el mayor\")\n",
    "elif b > a and b > c:\n",
    "    print(b,\"es el mayor\")\n",
    "elif c > b and c > a:\n",
    "    print(c,\"es el mayor\")\n",
    "else:\n",
    "    print(\"son iguales\")\n",
    "    iguales = True"
   ]
  },
  {
   "cell_type": "code",
   "execution_count": null,
   "metadata": {},
   "outputs": [],
   "source": [
    "if iguales:  # la instruccion pass no hace nada pero es necesaria para este tipo de casos.\n",
    "    pass     # o al programar y no tener implementado el algoritmo para que no halla error se sintaxis\n",
    "elif a < b and a < c:\n",
    "    print(a,\"es el menor\")\n",
    "elif b < a and b < c:\n",
    "    print(b,\"es el menor\")\n",
    "elif c < b and c < a:\n",
    "    print(c,\"es el menor\")"
   ]
  },
  {
   "cell_type": "code",
   "execution_count": null,
   "metadata": {},
   "outputs": [],
   "source": [
    "# python permite usar el punto y coma como otros lenguajes para poner instrucciones en la misma linea\n",
    "p1  = True; p2 = True; p3 = True; p4  = True ; p5 = False \n",
    "p6  = True; p7 = True; p8 = True; p9  = True ; p10 = False\n",
    "\n",
    "if p1+p2+p3+p4+p5+p6+p7+p8+p9+p10 ==10:    # en estos if elif nos valemos de que True vale 1 y False 0\n",
    "    print(\"Exelente\".upper()+\"!!!\")        # para poder saber cuantas respuestas correctas hay\n",
    "elif p1+p2+p3+p4+p5+p6+p7+p8+p9+p10 ==9:   \n",
    "    print(\"Casi Exelente\")                 \n",
    "elif p1+p2+p3+p4+p5+p6+p7+p8+p9+p10 ==8:\n",
    "    print(\"Muy Bien\")\n",
    "elif p1+p2+p3+p4+p5+p6+p7+p8+p9+p10 ==7:\n",
    "    print(\"Bien\")\n",
    "elif p1+p2+p3+p4+p5+p6+p7+p8+p9+p10 ==6:\n",
    "    print(\"Por muy poco\")\n",
    "elif p1+p2+p3+p4+p5+p6+p7+p8+p9+p10 ==5:\n",
    "    print(\"Debes esforzarte\")\n",
    "elif p1+p2+p3+p4+p5+p6+p7+p8+p9+p10 ==4:\n",
    "    print(\"Mal\")\n",
    "elif p1+p2+p3+p4+p5+p6+p7+p8+p9+p10 ==3:\n",
    "    print(\"Muy mal\")\n",
    "elif p1+p2+p3+p4+p5+p6+p7+p8+p9+p10 ==2:\n",
    "    print(\"Un desastre\")\n",
    "elif p1+p2+p3+p4+p5+p6+p7+p8+p9+p10 ==1:\n",
    "    print(\"mmmm\")\n",
    "elif p1+p2+p3+p4+p5+p6+p7+p8+p9+p10 ==0:\n",
    "    print(\"0\")"
   ]
  },
  {
   "cell_type": "markdown",
   "metadata": {},
   "source": [
    "### Logica booleana"
   ]
  },
  {
   "cell_type": "code",
   "execution_count": null,
   "metadata": {},
   "outputs": [],
   "source": [
    "a = input(\"como te llamas : \")\n",
    "b = int(input())\n",
    "\n",
    "if a == \"\":\n",
    "    a = \"anonimo\"\n",
    "\n",
    "print(\"hola\",a)  \n",
    "\n",
    "if 110 >= b >= 65:\n",
    "    print(\"sos adulto mayor\")\n",
    "elif 64 >= b >= 18:\n",
    "    print(\"sos adulto\")\n",
    "elif 18 > b > 0:\n",
    "    print(\"sos menor de edad\")\n",
    "else:\n",
    "    print(\"edad incorrecta\")"
   ]
  },
  {
   "cell_type": "code",
   "execution_count": null,
   "metadata": {},
   "outputs": [],
   "source": [
    "#a = input(\"como te llamas : \")\n",
    "#b = int(input())\n",
    "a = ( a != \"\" ) * a or \"anonimo\" \n",
    "\n",
    "print(\"hola\",a)\n",
    "\n",
    "print(( (110 >= b >= 65) * \"sos adulto mayor\"  or  (64 >= b >= 18)  * \"sos adulto\")  or \\\n",
    "      ( (18 > b > 0)     * \"sos menor de edad\"  or \"edad incorrecta\"))"
   ]
  },
  {
   "cell_type": "code",
   "execution_count": null,
   "metadata": {},
   "outputs": [],
   "source": []
  }
 ],
 "metadata": {
  "kernelspec": {
   "display_name": "anaconda",
   "language": "python",
   "name": "anaconda"
  },
  "language_info": {
   "codemirror_mode": {
    "name": "ipython",
    "version": 3
   },
   "file_extension": ".py",
   "mimetype": "text/x-python",
   "name": "python",
   "nbconvert_exporter": "python",
   "pygments_lexer": "ipython3",
   "version": "3.9.13"
  }
 },
 "nbformat": 4,
 "nbformat_minor": 4
}
