{
 "cells": [
  {
   "cell_type": "markdown",
   "metadata": {},
   "source": [
    "# Titulo\n",
    "\n",
    "## Sub\n",
    "\n",
    "### seccion"
   ]
  },
  {
   "cell_type": "markdown",
   "metadata": {
    "vscode": {
     "languageId": "plaintext"
    }
   },
   "source": [
    "### 1. Definición de una función\n",
    "\n",
    "Puedes definir una función utilizando la palabra clave `def`, seguida del nombre de la función, paréntesis y dos puntos. La sintaxis básica es la siguiente:\n",
    "\n",
    "```python\n",
    "def nombre_de_la_funcion(parametros):\n",
    "    # código que se ejecuta cuando se llama a la función\n",
    "    return resultado\n",
    "```\n",
    "\n",
    "### 2. Parámetros y argumentos\n",
    "Una función puede recibir parámetros, que son variables que se pasan a la función al momento de llamarla. Los argumentos son los valores que se pasan a estas variables.\n",
    "\n",
    "```python\n",
    "def saludar(nombre):\n",
    "    print(f\"Hola, {nombre}!\")\n",
    "\n",
    "saludar(\"Carlos\")  # Llama a la función con \"Carlos\" como argumento\n",
    "```\n",
    "\n",
    "### 3. Valor de retorno\n",
    "Las funciones pueden devolver un valor utilizando la palabra clave `return`. Cuando se llama a la función, puedes utilizar el valor devuelto.\n",
    "\n",
    "```python\n",
    "def sumar(a, b):\n",
    "    return a + b\n",
    "\n",
    "resultado = sumar(3, 5)\n",
    "print(resultado)  # Imprime 8\n",
    "```\n",
    "\n",
    "### 4. Funciones sin parámetros\n",
    "También puedes definir funciones que no aceptan parámetros:\n",
    "\n",
    "```python\n",
    "def despedida():\n",
    "    print(\"¡Hasta luego!\")\n",
    "\n",
    "despedida()  # Llama a la función que no tiene parámetros\n",
    "```\n",
    "\n",
    "### 5. Funciones con argumentos por defecto\n",
    "Puedes establecer valores por defecto para los parámetros, de modo que no sea necesario pasarlos al llamar a la función.\n",
    "\n",
    "```python\n",
    "def saludar(nombre=\"invitado\"):\n",
    "    print(f\"Hola, {nombre}!\")\n",
    "\n",
    "saludar()          # Imprime \"Hola, invitado!\"\n",
    "saludar(\"Ana\")    # Imprime \"Hola, Ana!\"\n",
    "```\n",
    "\n",
    "### 6. Argumentos variables\n",
    "Si no sabes cuántos argumentos se van a pasar a una función, puedes usar `*args` para argumentos posicionales y `**kwargs` para argumentos con nombre.\n",
    "\n",
    "```python\n",
    "def mostrar_params(*args, **kwargs):\n",
    "    print(\"Argumentos posicionales:\", args)\n",
    "    print(\"Argumentos clave:\", kwargs)\n",
    "\n",
    "mostrar_params(1, 2, tres=3, cuatro=4)\n",
    "```\n",
    "\n",
    "### 7. Alcance de las variables\n",
    "Las variables definidas dentro de una función son locales a esa función y no están disponibles fuera de ella. A esto se le llama \"alcance de variable\".\n",
    "\n",
    "```python\n",
    "def funcion_local():\n",
    "    x = 10  # Variable local\n",
    "    print(x)\n",
    "\n",
    "funcion_local()\n",
    "# print(x)  # Esto dará un error porque x no está definido fuera de la función\n",
    "```\n",
    "\n",
    "### Ejemplo completo\n",
    "\n",
    "Aquí tienes un ejemplo completo que combina varios conceptos:\n",
    "\n",
    "```python\n",
    "def calcular_area_rectangulo(base, altura):\n",
    "    area = base * altura\n",
    "    return area\n",
    "\n",
    "base = 5\n",
    "altura = 4\n",
    "resultado_area = calcular_area_rectangulo(base, altura)\n",
    "print(f\"El área del rectángulo es: {resultado_area}\")\n",
    "```"
   ]
  },
  {
   "cell_type": "code",
   "execution_count": null,
   "metadata": {
    "vscode": {
     "languageId": "plaintext"
    }
   },
   "outputs": [],
   "source": []
  }
 ],
 "metadata": {
  "language_info": {
   "name": "python"
  }
 },
 "nbformat": 4,
 "nbformat_minor": 2
}
